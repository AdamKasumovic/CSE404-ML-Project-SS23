{
 "cells": [
  {
   "cell_type": "markdown",
   "id": "6e0eb594",
   "metadata": {},
   "source": [
    "# The future home of an awesome ML project.\n",
    "Please keep things commented and use lots of Markdown cells to separate sections or steps of the process, or to provide additional explanation."
   ]
  },
  {
   "cell_type": "code",
   "execution_count": null,
   "id": "8213954c",
   "metadata": {},
   "outputs": [],
   "source": [
    "#!pip install <package_name>\n",
    "#import <package_name>"
   ]
  }
 ],
 "metadata": {
  "kernelspec": {
   "display_name": "Python 3",
   "language": "python",
   "name": "python3"
  },
  "language_info": {
   "codemirror_mode": {
    "name": "ipython",
    "version": 3
   },
   "file_extension": ".py",
   "mimetype": "text/x-python",
   "name": "python",
   "nbconvert_exporter": "python",
   "pygments_lexer": "ipython3",
   "version": "3.8.8"
  }
 },
 "nbformat": 4,
 "nbformat_minor": 5
}
