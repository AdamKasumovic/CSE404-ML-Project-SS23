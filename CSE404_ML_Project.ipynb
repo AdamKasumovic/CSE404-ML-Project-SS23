{
 "cells": [
  {
   "cell_type": "markdown",
   "id": "6e0eb594",
   "metadata": {},
   "source": [
    "# Pokemon Type Prediction\n",
    "Given the base stats, names, and images of a Pokemon, train a model using supervised learning that is able to classify a Pokemon's type."
   ]
  },
  {
   "cell_type": "code",
   "execution_count": 1,
   "id": "73496805",
   "metadata": {
    "scrolled": true,
    "ExecuteTime": {
     "start_time": "2023-04-03T21:36:48.367460Z",
     "end_time": "2023-04-03T21:37:08.594690Z"
    }
   },
   "outputs": [
    {
     "name": "stdout",
     "output_type": "stream",
     "text": [
      "Requirement already satisfied: pandas in c:\\users\\chamu\\appdata\\local\\programs\\python\\python37\\lib\\site-packages (from -r requirements.txt (line 1)) (1.3.5)\n",
      "Requirement already satisfied: sklearn in c:\\users\\chamu\\appdata\\local\\programs\\python\\python37\\lib\\site-packages (from -r requirements.txt (line 2)) (0.0.post1)\n",
      "Requirement already satisfied: scikit-multilearn in c:\\users\\chamu\\appdata\\local\\programs\\python\\python37\\lib\\site-packages (from -r requirements.txt (line 3)) (0.2.0)\n",
      "Requirement already satisfied: opencv-python in c:\\users\\chamu\\appdata\\local\\programs\\python\\python37\\lib\\site-packages (from -r requirements.txt (line 4)) (4.7.0.72)\n",
      "Requirement already satisfied: keras in c:\\users\\chamu\\appdata\\local\\programs\\python\\python37\\lib\\site-packages (from -r requirements.txt (line 5)) (2.11.0)\n",
      "Requirement already satisfied: torch in c:\\users\\chamu\\appdata\\local\\programs\\python\\python37\\lib\\site-packages (from -r requirements.txt (line 6)) (1.13.1)\n",
      "Requirement already satisfied: torchvision in c:\\users\\chamu\\appdata\\local\\programs\\python\\python37\\lib\\site-packages (from -r requirements.txt (line 7)) (0.14.1)\n",
      "Requirement already satisfied: pytz>=2017.3 in c:\\users\\chamu\\appdata\\local\\programs\\python\\python37\\lib\\site-packages (from pandas->-r requirements.txt (line 1)) (2023.3)\n",
      "Requirement already satisfied: python-dateutil>=2.7.3 in c:\\users\\chamu\\appdata\\local\\programs\\python\\python37\\lib\\site-packages (from pandas->-r requirements.txt (line 1)) (2.8.2)\n",
      "Requirement already satisfied: numpy>=1.17.3; platform_machine != \"aarch64\" and platform_machine != \"arm64\" and python_version < \"3.10\" in c:\\users\\chamu\\appdata\\local\\programs\\python\\python37\\lib\\site-packages (from pandas->-r requirements.txt (line 1)) (1.21.6)\n",
      "Requirement already satisfied: typing-extensions in c:\\users\\chamu\\appdata\\local\\programs\\python\\python37\\lib\\site-packages (from torch->-r requirements.txt (line 6)) (4.5.0)\n",
      "Requirement already satisfied: pillow!=8.3.*,>=5.3.0 in c:\\users\\chamu\\appdata\\local\\programs\\python\\python37\\lib\\site-packages (from torchvision->-r requirements.txt (line 7)) (9.5.0)\n",
      "Requirement already satisfied: requests in c:\\users\\chamu\\appdata\\local\\programs\\python\\python37\\lib\\site-packages (from torchvision->-r requirements.txt (line 7)) (2.28.2)\n",
      "Requirement already satisfied: six>=1.5 in c:\\users\\chamu\\appdata\\local\\programs\\python\\python37\\lib\\site-packages (from python-dateutil>=2.7.3->pandas->-r requirements.txt (line 1)) (1.16.0)\n",
      "Requirement already satisfied: certifi>=2017.4.17 in c:\\users\\chamu\\appdata\\local\\programs\\python\\python37\\lib\\site-packages (from requests->torchvision->-r requirements.txt (line 7)) (2022.12.7)\n",
      "Requirement already satisfied: urllib3<1.27,>=1.21.1 in c:\\users\\chamu\\appdata\\local\\programs\\python\\python37\\lib\\site-packages (from requests->torchvision->-r requirements.txt (line 7)) (1.26.15)\n",
      "Requirement already satisfied: idna<4,>=2.5 in c:\\users\\chamu\\appdata\\local\\programs\\python\\python37\\lib\\site-packages (from requests->torchvision->-r requirements.txt (line 7)) (3.4)\n",
      "Requirement already satisfied: charset-normalizer<4,>=2 in c:\\users\\chamu\\appdata\\local\\programs\\python\\python37\\lib\\site-packages (from requests->torchvision->-r requirements.txt (line 7)) (3.1.0)\n"
     ]
    },
    {
     "name": "stderr",
     "output_type": "stream",
     "text": [
      "WARNING: You are using pip version 20.1.1; however, version 23.0.1 is available.\n",
      "You should consider upgrading via the 'c:\\users\\chamu\\appdata\\local\\programs\\python\\python37\\python.exe -m pip install --upgrade pip' command.\n"
     ]
    }
   ],
   "source": [
    "!pip install -r requirements.txt"
   ]
  },
  {
   "cell_type": "code",
   "execution_count": 4,
   "id": "8213954c",
   "metadata": {
    "ExecuteTime": {
     "start_time": "2023-04-03T23:02:51.253145Z",
     "end_time": "2023-04-03T23:03:06.843888Z"
    }
   },
   "outputs": [],
   "source": [
    "# Model helpers and scorers\n",
    "from sklearn.metrics import confusion_matrix\n",
    "from sklearn.model_selection import train_test_split\n",
    "from sklearn.svm import SVC\n",
    "from sklearn.metrics import accuracy_score\n",
    "from sklearn.metrics import classification_report\n",
    "\n",
    "# Actual models -- add to these\n",
    "from sklearn.tree import DecisionTreeClassifier\n",
    "\n",
    "import pandas as pd\n",
    "import tensorflow as tf\n",
    "import keras \n",
    "from keras import layers\n",
    "import cv2\n",
    "from tqdm import tqdm\n",
    "import re\n",
    "from keras_preprocessing.image import img_to_array\n",
    "import torch\n",
    "from torchvision import datasets, transforms\n",
    "import numpy as np\n",
    "from torch import nn, optim\n",
    "from torch.autograd import Variable\n",
    "import random\n",
    "\n",
    "from torch.utils.data import DataLoader\n",
    "\n",
    "import matplotlib.pyplot as plt\n",
    "%matplotlib inline\n",
    "import numpy as np\n",
    "\n",
    "from IPython import display\n",
    "import os  # fix bug that crashes kernel\n",
    "os.environ[\"KMP_DUPLICATE_LIB_OK\"]=\"TRUE\""
   ]
  },
  {
   "cell_type": "markdown",
   "id": "9e15068c",
   "metadata": {},
   "source": [
    "## Data Preprocessing\n",
    "For data preprocessing, we:\n",
    "1. Remove rows with invalid primary types\n",
    "2. Drop unneeded columns\n",
    "3. Extract the features and labels\n",
    "4. Make train-test splits"
   ]
  },
  {
   "cell_type": "code",
   "execution_count": 43,
   "id": "eb43039e",
   "metadata": {
    "ExecuteTime": {
     "start_time": "2023-04-04T13:45:39.111506Z",
     "end_time": "2023-04-04T13:45:39.315764Z"
    }
   },
   "outputs": [
    {
     "data": {
      "text/plain": "         #          Name Primary Type Secondary Type  Total   HP  Attack  \\\n0        1     Bulbasaur        Grass         Poison    318   45      49   \n1        2       Ivysaur        Grass         Poison    405   60      62   \n2        3      Venusaur        Grass         Poison    525   80      82   \n3        3      Venusaur        Grass         Poison    625   80     100   \n4        4    Charmander         Fire            NaN    309   39      52   \n...    ...           ...          ...            ...    ...  ...     ...   \n1168  1004        Chi-Yu         Dark           Fire    570   55      80   \n1169  1005  Roaring Moon       Dragon           Dark    590  105     139   \n1170  1006  Iron Valiant        Fairy       Fighting    590   74     130   \n1171  1007      Koraidon     Fighting         Dragon    670  100     135   \n1172  1008      Miraidon     Electric         Dragon    670  100      85   \n\n      Defense  Sp.Atk  Sp.Def  Speed Variant  \n0          49      65      65     45     NaN  \n1          63      80      80     60     NaN  \n2          83     100     100     80     NaN  \n3         123     122     120     80     NaN  \n4          43      60      50     65     NaN  \n...       ...     ...     ...    ...     ...  \n1168       80     135     120    100     NaN  \n1169       71      55     101    119     NaN  \n1170       90     120      60    116     NaN  \n1171      115      85     100    135     NaN  \n1172      100     135     115    135     NaN  \n\n[1173 rows x 12 columns]",
      "text/html": "<div>\n<style scoped>\n    .dataframe tbody tr th:only-of-type {\n        vertical-align: middle;\n    }\n\n    .dataframe tbody tr th {\n        vertical-align: top;\n    }\n\n    .dataframe thead th {\n        text-align: right;\n    }\n</style>\n<table border=\"1\" class=\"dataframe\">\n  <thead>\n    <tr style=\"text-align: right;\">\n      <th></th>\n      <th>#</th>\n      <th>Name</th>\n      <th>Primary Type</th>\n      <th>Secondary Type</th>\n      <th>Total</th>\n      <th>HP</th>\n      <th>Attack</th>\n      <th>Defense</th>\n      <th>Sp.Atk</th>\n      <th>Sp.Def</th>\n      <th>Speed</th>\n      <th>Variant</th>\n    </tr>\n  </thead>\n  <tbody>\n    <tr>\n      <th>0</th>\n      <td>1</td>\n      <td>Bulbasaur</td>\n      <td>Grass</td>\n      <td>Poison</td>\n      <td>318</td>\n      <td>45</td>\n      <td>49</td>\n      <td>49</td>\n      <td>65</td>\n      <td>65</td>\n      <td>45</td>\n      <td>NaN</td>\n    </tr>\n    <tr>\n      <th>1</th>\n      <td>2</td>\n      <td>Ivysaur</td>\n      <td>Grass</td>\n      <td>Poison</td>\n      <td>405</td>\n      <td>60</td>\n      <td>62</td>\n      <td>63</td>\n      <td>80</td>\n      <td>80</td>\n      <td>60</td>\n      <td>NaN</td>\n    </tr>\n    <tr>\n      <th>2</th>\n      <td>3</td>\n      <td>Venusaur</td>\n      <td>Grass</td>\n      <td>Poison</td>\n      <td>525</td>\n      <td>80</td>\n      <td>82</td>\n      <td>83</td>\n      <td>100</td>\n      <td>100</td>\n      <td>80</td>\n      <td>NaN</td>\n    </tr>\n    <tr>\n      <th>3</th>\n      <td>3</td>\n      <td>Venusaur</td>\n      <td>Grass</td>\n      <td>Poison</td>\n      <td>625</td>\n      <td>80</td>\n      <td>100</td>\n      <td>123</td>\n      <td>122</td>\n      <td>120</td>\n      <td>80</td>\n      <td>NaN</td>\n    </tr>\n    <tr>\n      <th>4</th>\n      <td>4</td>\n      <td>Charmander</td>\n      <td>Fire</td>\n      <td>NaN</td>\n      <td>309</td>\n      <td>39</td>\n      <td>52</td>\n      <td>43</td>\n      <td>60</td>\n      <td>50</td>\n      <td>65</td>\n      <td>NaN</td>\n    </tr>\n    <tr>\n      <th>...</th>\n      <td>...</td>\n      <td>...</td>\n      <td>...</td>\n      <td>...</td>\n      <td>...</td>\n      <td>...</td>\n      <td>...</td>\n      <td>...</td>\n      <td>...</td>\n      <td>...</td>\n      <td>...</td>\n      <td>...</td>\n    </tr>\n    <tr>\n      <th>1168</th>\n      <td>1004</td>\n      <td>Chi-Yu</td>\n      <td>Dark</td>\n      <td>Fire</td>\n      <td>570</td>\n      <td>55</td>\n      <td>80</td>\n      <td>80</td>\n      <td>135</td>\n      <td>120</td>\n      <td>100</td>\n      <td>NaN</td>\n    </tr>\n    <tr>\n      <th>1169</th>\n      <td>1005</td>\n      <td>Roaring Moon</td>\n      <td>Dragon</td>\n      <td>Dark</td>\n      <td>590</td>\n      <td>105</td>\n      <td>139</td>\n      <td>71</td>\n      <td>55</td>\n      <td>101</td>\n      <td>119</td>\n      <td>NaN</td>\n    </tr>\n    <tr>\n      <th>1170</th>\n      <td>1006</td>\n      <td>Iron Valiant</td>\n      <td>Fairy</td>\n      <td>Fighting</td>\n      <td>590</td>\n      <td>74</td>\n      <td>130</td>\n      <td>90</td>\n      <td>120</td>\n      <td>60</td>\n      <td>116</td>\n      <td>NaN</td>\n    </tr>\n    <tr>\n      <th>1171</th>\n      <td>1007</td>\n      <td>Koraidon</td>\n      <td>Fighting</td>\n      <td>Dragon</td>\n      <td>670</td>\n      <td>100</td>\n      <td>135</td>\n      <td>115</td>\n      <td>85</td>\n      <td>100</td>\n      <td>135</td>\n      <td>NaN</td>\n    </tr>\n    <tr>\n      <th>1172</th>\n      <td>1008</td>\n      <td>Miraidon</td>\n      <td>Electric</td>\n      <td>Dragon</td>\n      <td>670</td>\n      <td>100</td>\n      <td>85</td>\n      <td>100</td>\n      <td>135</td>\n      <td>115</td>\n      <td>135</td>\n      <td>NaN</td>\n    </tr>\n  </tbody>\n</table>\n<p>1173 rows × 12 columns</p>\n</div>"
     },
     "execution_count": 43,
     "metadata": {},
     "output_type": "execute_result"
    }
   ],
   "source": [
    "pokedex = pd.read_csv('data/Pokedex_Cleaned.csv', encoding='latin-1')\n",
    "pokedex"
   ]
  },
  {
   "cell_type": "code",
   "execution_count": 44,
   "id": "4184e5a4",
   "metadata": {
    "ExecuteTime": {
     "start_time": "2023-04-04T13:45:40.564775Z",
     "end_time": "2023-04-04T13:45:40.613777Z"
    }
   },
   "outputs": [
    {
     "data": {
      "text/plain": "Water       147\nNormal      130\nGrass       102\nBug          99\nPsychic      76\nElectric     73\nFire         73\nRock         67\nDark         56\nDragon       47\nGround       47\nPoison       46\nFighting     46\nGhost        46\nSteel        42\nFairy        32\nIce          27\nFlying       12\nNull          2\nMale          1\nFemale        1\nRockruff      1\nName: Primary Type, dtype: int64"
     },
     "execution_count": 44,
     "metadata": {},
     "output_type": "execute_result"
    }
   ],
   "source": [
    "primary_types = pokedex['Primary Type']\n",
    "primary_types.value_counts()  # need to remove rows that aren't types"
   ]
  },
  {
   "cell_type": "code",
   "execution_count": 45,
   "id": "552490ac",
   "metadata": {
    "ExecuteTime": {
     "start_time": "2023-04-04T13:45:41.002780Z",
     "end_time": "2023-04-04T13:45:41.037777Z"
    }
   },
   "outputs": [
    {
     "data": {
      "text/plain": "Water       147\nNormal      130\nGrass       102\nBug          99\nPsychic      76\nFire         73\nElectric     73\nRock         67\nDark         56\nGround       47\nDragon       47\nFighting     46\nPoison       46\nGhost        46\nSteel        42\nFairy        32\nIce          27\nFlying       12\nName: Primary Type, dtype: int64"
     },
     "execution_count": 45,
     "metadata": {},
     "output_type": "execute_result"
    }
   ],
   "source": [
    "not_types = {\"Null\", \"Male\", \"Female\", \"Rockruff\"}\n",
    "pokedex = pokedex.loc[~pokedex['Primary Type'].isin(not_types)]  # remove rows with invalid types\n",
    "primary_types = pokedex['Primary Type']\n",
    "primary_types.value_counts()  # bad rows are gone"
   ]
  },
  {
   "cell_type": "code",
   "execution_count": 46,
   "id": "3e48915c",
   "metadata": {
    "ExecuteTime": {
     "start_time": "2023-04-04T13:45:41.507778Z",
     "end_time": "2023-04-04T13:45:41.655785Z"
    }
   },
   "outputs": [
    {
     "data": {
      "text/plain": "     Primary Type   HP  Attack  Defense  Sp.Atk  Sp.Def  Speed          Name\n0           Grass   45      49       49      65      65     45     Bulbasaur\n1           Grass   60      62       63      80      80     60       Ivysaur\n3           Grass   80     100      123     122     120     80      Venusaur\n4            Fire   39      52       43      60      50     65    Charmander\n5            Fire   58      64       58      80      65     80    Charmeleon\n...           ...  ...     ...      ...     ...     ...    ...           ...\n1168         Dark   55      80       80     135     120    100        Chi-Yu\n1169       Dragon  105     139       71      55     101    119  Roaring Moon\n1170        Fairy   74     130       90     120      60    116  Iron Valiant\n1171     Fighting  100     135      115      85     100    135      Koraidon\n1172     Electric  100      85      100     135     115    135      Miraidon\n\n[1008 rows x 8 columns]",
      "text/html": "<div>\n<style scoped>\n    .dataframe tbody tr th:only-of-type {\n        vertical-align: middle;\n    }\n\n    .dataframe tbody tr th {\n        vertical-align: top;\n    }\n\n    .dataframe thead th {\n        text-align: right;\n    }\n</style>\n<table border=\"1\" class=\"dataframe\">\n  <thead>\n    <tr style=\"text-align: right;\">\n      <th></th>\n      <th>Primary Type</th>\n      <th>HP</th>\n      <th>Attack</th>\n      <th>Defense</th>\n      <th>Sp.Atk</th>\n      <th>Sp.Def</th>\n      <th>Speed</th>\n      <th>Name</th>\n    </tr>\n  </thead>\n  <tbody>\n    <tr>\n      <th>0</th>\n      <td>Grass</td>\n      <td>45</td>\n      <td>49</td>\n      <td>49</td>\n      <td>65</td>\n      <td>65</td>\n      <td>45</td>\n      <td>Bulbasaur</td>\n    </tr>\n    <tr>\n      <th>1</th>\n      <td>Grass</td>\n      <td>60</td>\n      <td>62</td>\n      <td>63</td>\n      <td>80</td>\n      <td>80</td>\n      <td>60</td>\n      <td>Ivysaur</td>\n    </tr>\n    <tr>\n      <th>3</th>\n      <td>Grass</td>\n      <td>80</td>\n      <td>100</td>\n      <td>123</td>\n      <td>122</td>\n      <td>120</td>\n      <td>80</td>\n      <td>Venusaur</td>\n    </tr>\n    <tr>\n      <th>4</th>\n      <td>Fire</td>\n      <td>39</td>\n      <td>52</td>\n      <td>43</td>\n      <td>60</td>\n      <td>50</td>\n      <td>65</td>\n      <td>Charmander</td>\n    </tr>\n    <tr>\n      <th>5</th>\n      <td>Fire</td>\n      <td>58</td>\n      <td>64</td>\n      <td>58</td>\n      <td>80</td>\n      <td>65</td>\n      <td>80</td>\n      <td>Charmeleon</td>\n    </tr>\n    <tr>\n      <th>...</th>\n      <td>...</td>\n      <td>...</td>\n      <td>...</td>\n      <td>...</td>\n      <td>...</td>\n      <td>...</td>\n      <td>...</td>\n      <td>...</td>\n    </tr>\n    <tr>\n      <th>1168</th>\n      <td>Dark</td>\n      <td>55</td>\n      <td>80</td>\n      <td>80</td>\n      <td>135</td>\n      <td>120</td>\n      <td>100</td>\n      <td>Chi-Yu</td>\n    </tr>\n    <tr>\n      <th>1169</th>\n      <td>Dragon</td>\n      <td>105</td>\n      <td>139</td>\n      <td>71</td>\n      <td>55</td>\n      <td>101</td>\n      <td>119</td>\n      <td>Roaring Moon</td>\n    </tr>\n    <tr>\n      <th>1170</th>\n      <td>Fairy</td>\n      <td>74</td>\n      <td>130</td>\n      <td>90</td>\n      <td>120</td>\n      <td>60</td>\n      <td>116</td>\n      <td>Iron Valiant</td>\n    </tr>\n    <tr>\n      <th>1171</th>\n      <td>Fighting</td>\n      <td>100</td>\n      <td>135</td>\n      <td>115</td>\n      <td>85</td>\n      <td>100</td>\n      <td>135</td>\n      <td>Koraidon</td>\n    </tr>\n    <tr>\n      <th>1172</th>\n      <td>Electric</td>\n      <td>100</td>\n      <td>85</td>\n      <td>100</td>\n      <td>135</td>\n      <td>115</td>\n      <td>135</td>\n      <td>Miraidon</td>\n    </tr>\n  </tbody>\n</table>\n<p>1008 rows × 8 columns</p>\n</div>"
     },
     "execution_count": 46,
     "metadata": {},
     "output_type": "execute_result"
    }
   ],
   "source": [
    "# Drop irrelevant rows, columns, reorder name\n",
    "pokemon_names = pokedex['Name'].copy()\n",
    "pokedex_relevant = pokedex.drop(['#', 'Name', 'Secondary Type', 'Total', 'Variant'], axis=1)\n",
    "pokedex_relevant['Name'] = pokemon_names\n",
    "pokedex_relevant = pokedex_relevant.drop_duplicates(subset=[\"Name\"], keep='last')\n",
    "pokedex_relevant"
   ]
  },
  {
   "cell_type": "code",
   "execution_count": 47,
   "id": "8f7a5347",
   "metadata": {
    "ExecuteTime": {
     "start_time": "2023-04-04T13:45:42.473779Z",
     "end_time": "2023-04-04T13:45:42.623778Z"
    }
   },
   "outputs": [
    {
     "data": {
      "text/plain": "['Bulbasaur',\n 'Ivysaur',\n 'Venusaur',\n 'Charmander',\n 'Charmeleon',\n 'Charizard',\n 'Squirtle',\n 'Wartortle',\n 'Blastoise',\n 'Caterpie',\n 'Metapod',\n 'Butterfree',\n 'Weedle',\n 'Kakuna',\n 'Beedrill',\n 'Pidgey',\n 'Pidgeotto',\n 'Pidgeot',\n 'Rattata',\n 'Raticate',\n 'Spearow',\n 'Fearow',\n 'Ekans',\n 'Arbok',\n 'Pikachu',\n 'Raichu',\n 'Sandshrew',\n 'Sandslash',\n 'Nidorina',\n 'Nidoqueen',\n 'Nidoran?',\n 'Nidorino',\n 'Nidoking',\n 'Clefairy',\n 'Clefable',\n 'Vulpix',\n 'Ninetales',\n 'Jigglypuff',\n 'Wigglytuff',\n 'Zubat',\n 'Golbat',\n 'Oddish',\n 'Gloom',\n 'Vileplume',\n 'Paras',\n 'Parasect',\n 'Venonat',\n 'Venomoth',\n 'Diglett',\n 'Dugtrio',\n 'Meowth',\n 'Persian',\n 'Psyduck',\n 'Golduck',\n 'Mankey',\n 'Primeape',\n 'Growlithe',\n 'Arcanine',\n 'Poliwag',\n 'Poliwhirl',\n 'Poliwrath',\n 'Abra',\n 'Kadabra',\n 'Alakazam',\n 'Machop',\n 'Machoke',\n 'Machamp',\n 'Bellsprout',\n 'Weepinbell',\n 'Victreebel',\n 'Tentacool',\n 'Tentacruel',\n 'Geodude',\n 'Graveler',\n 'Golem',\n 'Ponyta',\n 'Rapidash',\n 'Slowpoke',\n 'Slowbro',\n 'Magnemite',\n 'Magneton',\n \"Farfetch'd\",\n 'Farfetchd',\n 'Doduo',\n 'Dodrio',\n 'Seel',\n 'Dewgong',\n 'Grimer',\n 'Muk',\n 'Shellder',\n 'Cloyster',\n 'Gastly',\n 'Haunter',\n 'Gengar',\n 'Onix',\n 'Drowzee',\n 'Hypno',\n 'Krabby',\n 'Kingler',\n 'Voltorb',\n 'Electrode',\n 'Exeggcute',\n 'Exeggutor',\n 'Cubone',\n 'Marowak',\n 'Hitmonlee',\n 'Hitmonchan',\n 'Lickitung',\n 'Koffing',\n 'Weezing',\n 'Rhyhorn',\n 'Rhydon',\n 'Chansey',\n 'Tangela',\n 'Kangaskhan',\n 'Horsea',\n 'Seadra',\n 'Goldeen',\n 'Seaking',\n 'Staryu',\n 'Starmie',\n 'Mr. Mime',\n 'Scyther',\n 'Jynx',\n 'Electabuzz',\n 'Magmar',\n 'Pinsir',\n 'Tauros',\n 'Magikarp',\n 'Gyarados',\n 'Lapras',\n 'Ditto',\n 'Eevee',\n 'Vaporeon',\n 'Jolteon',\n 'Flareon',\n 'Porygon',\n 'Omanyte',\n 'Omastar',\n 'Kabuto',\n 'Kabutops',\n 'Aerodactyl',\n 'Snorlax',\n 'Articuno',\n 'ArticunoIce',\n 'Zapdos',\n 'Moltres',\n 'Dratini',\n 'Dragonair',\n 'Dragonite',\n 'Mewtwo',\n 'Mew',\n 'Chikorita',\n 'Bayleef',\n 'Meganium',\n 'Cyndaquil',\n 'Quilava',\n 'Typhlosion',\n 'Totodile',\n 'Croconaw',\n 'Feraligatr',\n 'Sentret',\n 'Furret',\n 'Hoothoot',\n 'Noctowl',\n 'Ledyba',\n 'Ledian',\n 'Spinarak',\n 'Ariados',\n 'Crobat',\n 'Chinchou',\n 'Lanturn',\n 'Pichu',\n 'Cleffa',\n 'Igglybuff',\n 'Togepi',\n 'Togetic',\n 'Natu',\n 'Xatu',\n 'Mareep',\n 'Flaaffy',\n 'Ampharos',\n 'Bellossom',\n 'Marill',\n 'Azumarill',\n 'Sudowoodo',\n 'Politoed',\n 'Hoppip',\n 'Skiploom',\n 'Jumpluff',\n 'Aipom',\n 'Sunkern',\n 'Sunflora',\n 'Yanma',\n 'Wooper',\n 'Quagsire',\n 'Espeon',\n 'Umbreon',\n 'Murkrow',\n 'Slowking',\n 'Misdreavus',\n 'Unown',\n 'Wobbuffet',\n 'Girafarig',\n 'Pineco',\n 'Forretress',\n 'Dunsparce',\n 'Gligar',\n 'Steelix',\n 'Snubbull',\n 'Granbull',\n 'Qwilfish',\n 'Scizor',\n 'Shuckle',\n 'Heracross',\n 'Sneasel',\n 'Teddiursa',\n 'Ursaring',\n 'Slugma',\n 'Magcargo',\n 'SwinubIce',\n 'PiloswineIce',\n 'Corsola',\n 'Remoraid',\n 'Octillery',\n 'DelibirdIce',\n 'Mantine',\n 'Skarmory',\n 'Houndour',\n 'Houndoom',\n 'Kingdra',\n 'Phanpy',\n 'Donphan',\n 'Porygon2',\n 'Stantler',\n 'Smeargle',\n 'Tyrogue',\n 'Hitmontop',\n 'SmoochumIce',\n 'Elekid',\n 'Magby',\n 'Miltank',\n 'Blissey',\n 'Raikou',\n 'Entei',\n 'Suicune',\n 'Larvitar',\n 'Pupitar',\n 'Tyranitar',\n 'Lugia',\n 'Ho-oh',\n 'Celebi',\n 'Treecko',\n 'Grovyle',\n 'Sceptile',\n 'Torchic',\n 'Combusken',\n 'Blaziken',\n 'Mudkip',\n 'Marshtomp',\n 'Swampert',\n 'Poochyena',\n 'Mightyena',\n 'Zigzagoon',\n 'Linoone',\n 'Wurmple',\n 'Silcoon',\n 'Beautifly',\n 'Cascoon',\n 'Dustox',\n 'Lotad',\n 'Lombre',\n 'Ludicolo',\n 'Seedot',\n 'Nuzleaf',\n 'Shiftry',\n 'Taillow',\n 'Swellow',\n 'Wingull',\n 'Pelipper',\n 'Ralts',\n 'Kirlia',\n 'Gardevoir',\n 'Surskit',\n 'Masquerain',\n 'Shroomish',\n 'Breloom',\n 'Slakoth',\n 'Vigoroth',\n 'Slaking',\n 'Nincada',\n 'Ninjask',\n 'Shedinja',\n 'Whismur',\n 'Loudred',\n 'Exploud',\n 'Makuhita',\n 'Hariyama',\n 'Azurill',\n 'Nosepass',\n 'Skitty',\n 'Delcatty',\n 'Sableye',\n 'Mawile',\n 'Aron',\n 'Lairon',\n 'Aggron',\n 'Meditite',\n 'Medicham',\n 'Electrike',\n 'Manectric',\n 'Plusle',\n 'Minun',\n 'Volbeat',\n 'Illumise',\n 'Roselia',\n 'Gulpin',\n 'Swalot',\n 'Carvanha',\n 'Sharpedo',\n 'Wailmer',\n 'Wailord',\n 'Numel',\n 'Camerupt',\n 'Torkoal',\n 'Spoink',\n 'Grumpig',\n 'Spinda',\n 'Trapinch',\n 'Vibrava',\n 'Flygon',\n 'Cacnea',\n 'Cacturne',\n 'Swablu',\n 'Altaria',\n 'Zangoose',\n 'Seviper',\n 'Lunatone',\n 'Sol',\n 'Barboach',\n 'Whiscash',\n 'Corphish',\n 'Crawdaunt',\n 'Baltoy',\n 'Claydol',\n 'Lileep',\n 'Cradily',\n 'Anorith',\n 'Armaldo',\n 'Feebas',\n 'Milotic',\n 'Castform',\n 'Kecleon',\n 'Shuppet',\n 'Banette',\n 'Duskull',\n 'Dusclops',\n 'Tropius',\n 'Chimecho',\n 'Absol',\n 'Wynaut',\n 'Snorunt',\n 'Glalie',\n 'Spheal',\n 'Sealeo',\n 'Walrein',\n 'Clamperl',\n 'Huntail',\n 'Gorebyss',\n 'Relicanth',\n 'Luvdisc',\n 'Bagon',\n 'Shelgon',\n 'Salamence',\n 'Beldum',\n 'Metang',\n 'Metagross',\n 'Regirock',\n 'RegiceIce',\n 'Registeel',\n 'Latias',\n 'Latios',\n 'Kyogre',\n 'Groudon',\n 'Rayquaza',\n 'Jirachi',\n 'Turtwig',\n 'Grotle',\n 'Torterra',\n 'Chimchar',\n 'Monferno',\n 'Infernape',\n 'Piplup',\n 'Prinplup',\n 'Empoleon',\n 'Starly',\n 'Staravia',\n 'Staraptor',\n 'Bidoof',\n 'Bibarel',\n 'Kricketot',\n 'Kricketune',\n 'Shinx',\n 'Luxio',\n 'Luxray',\n 'Budew',\n 'Roserade',\n 'Cranidos',\n 'Rampardos',\n 'Shieldon',\n 'Bastiodon',\n 'Burmy',\n 'Burmy Plant Cloak',\n 'Burmy Sandy Cloak',\n 'Burmy Trash Cloak',\n 'Wormadam',\n 'Wormadam Plant Cloak',\n 'Wormadam Sandy Cloak',\n 'Wormadam Trash Cloak',\n 'Mothim',\n 'Combee',\n 'Vespiquen',\n 'Pachirisu',\n 'Buizel',\n 'Floatzel',\n 'Cherubi',\n 'Cherrim',\n 'Shellos',\n 'Gastrodon',\n 'Ambipom',\n 'Drifloon',\n 'Drifblim',\n 'Buneary',\n 'Lopunny',\n 'Mismagius',\n 'Honchkrow',\n 'Glameow',\n 'Purugly',\n 'Chingling',\n 'Stunky',\n 'Skuntank',\n 'Bronzor',\n 'Bronzong',\n 'Bonsly',\n 'Mime Jr.',\n 'Happiny',\n 'Chatot',\n 'Spiritomb',\n 'Gible',\n 'Gabite',\n 'Garchomp',\n 'Munchlax',\n 'Riolu',\n 'Lucario',\n 'Hippopotas',\n 'Hippowdon',\n 'Skorupi',\n 'Drapion',\n 'Croagunk',\n 'Toxicroak',\n 'Carnivine',\n 'Finneon',\n 'Lumineon',\n 'Mantyke',\n 'Snover',\n 'Abomasnow',\n 'Weavile',\n 'Magnezone',\n 'Lickilicky',\n 'Rhyperior',\n 'Tangrowth',\n 'Electivire',\n 'Magmortar',\n 'Togekiss',\n 'Yanmega',\n 'Leafeon',\n 'Glaceon',\n 'Gliscor',\n 'MamoswineIce',\n 'Porygon-Z',\n 'Gallade',\n 'Probopass',\n 'Dusknoir',\n 'FroslassIce',\n 'Rotom',\n 'Uxie',\n 'Mesprit',\n 'Azelf',\n 'Dialga',\n 'Palkia',\n 'Heatran',\n 'Regigigas',\n 'Giratina',\n 'Cresselia',\n 'Phione',\n 'Manaphy',\n 'Darkrai',\n 'Arceus',\n 'Victini',\n 'Snivy',\n 'Servine',\n 'Serperior',\n 'Tepig',\n 'Pignite',\n 'Emboar',\n 'Oshawott',\n 'Dewott',\n 'Samurott',\n 'Patrat',\n 'Watchog',\n 'Lillipup',\n 'Herdier',\n 'Stoutland',\n 'Purrloin',\n 'Liepard',\n 'Pansage',\n 'Simisage',\n 'Pansear',\n 'Simisear',\n 'Panpour',\n 'Simipour',\n 'Munna',\n 'Musharna',\n 'Pidove',\n 'Tranquill',\n 'Unfezant',\n 'Blitzle',\n 'Zebstrika',\n 'Roggenrola',\n 'Boldore',\n 'Gigalith',\n 'Woobat',\n 'Swoobat',\n 'Drilbur',\n 'Excadrill',\n 'Audino',\n 'Timburr',\n 'Gurdurr',\n 'Conkeldurr',\n 'Tympole',\n 'Palpitoad',\n 'Seismitoad',\n 'Throh',\n 'Sawk',\n 'Sewaddle',\n 'Swadloon',\n 'Leavanny',\n 'Venipede',\n 'Whirlipede',\n 'Scolipede',\n 'Cottonee',\n 'Whimsicott',\n 'Petilil',\n 'Lilligant',\n 'Basculin',\n 'Sandile',\n 'Krokorok',\n 'Krookodile',\n 'Darumaka',\n 'Darmanitan',\n 'Maractus',\n 'Dwebble',\n 'Crustle',\n 'Scraggy',\n 'Scrafty',\n 'Sigilyph',\n 'Yamask',\n 'Cofagrigus',\n 'Tirtouga',\n 'Carracosta',\n 'Archen',\n 'Archeops',\n 'Trubbish',\n 'Garbodor',\n 'Zorua',\n 'Zoroark',\n 'Minccino',\n 'Cinccino',\n 'Gothita',\n 'Gothorita',\n 'Gothitelle',\n 'Solosis',\n 'Duosion',\n 'Reuniclus',\n 'Ducklett',\n 'Swanna',\n 'Vanillite',\n 'Vanillish',\n 'Vanilluxe',\n 'Deerling',\n 'Sawsbuck',\n 'Emolga',\n 'Karrablast',\n 'Escavalier',\n 'Foongus',\n 'Amoonguss',\n 'Frillish',\n 'Jellicent',\n 'Alomomola',\n 'Joltik',\n 'Galvantula',\n 'Ferroseed',\n 'Ferrothorn',\n 'Klink',\n 'Klang',\n 'Klinklang',\n 'Tynamo',\n 'Eelektrik',\n 'Eelektross',\n 'Elgyem',\n 'Beheeyem',\n 'Litwick',\n 'Lampent',\n 'Chandelure',\n 'Axew',\n 'Fraxure',\n 'Haxorus',\n 'Cubchoo',\n 'Beartic',\n 'Cryogonal',\n 'Shelmet',\n 'Accelgor',\n 'Stunfisk',\n 'Mienfoo',\n 'Mienshao',\n 'Druddigon',\n 'Golett',\n 'Golurk',\n 'Pawniard',\n 'Bisharp',\n 'Bouffalant',\n 'Rufflet',\n 'Braviary',\n 'Vullaby',\n 'Mandibuzz',\n 'Heatmor',\n 'Durant',\n 'Deino',\n 'Zweilous',\n 'Hydreigon',\n 'Larvesta',\n 'Volcarona',\n 'Cobalion',\n 'Terrakion',\n 'Virizion',\n 'Tornadus',\n 'Thundurus',\n 'Reshiram',\n 'Zekrom',\n 'Landorus',\n 'Kyurem',\n 'Keldeo',\n 'Meloetta',\n 'Genesect',\n 'Chespin',\n 'Quilladin',\n 'Chesnaught',\n 'Fennekin',\n 'Braixen',\n 'Delphox',\n 'Froakie',\n 'Frogadier',\n 'Greninja',\n 'Bunnelby',\n 'Diggersby',\n 'Fletchling',\n 'Fletchinder',\n 'Talonflame',\n 'Scatter',\n 'Spewpa',\n 'Vivillon',\n 'Litleo',\n 'Pyroar',\n 'Flabébé',\n 'Floette',\n 'Florges',\n 'Skiddo',\n 'Gogoat',\n 'Pancham',\n 'Pangoro',\n 'Furfrou',\n 'Espurr',\n 'Honedge',\n 'Doublade',\n 'Aegislash',\n 'Spritzee',\n 'Aromatisse',\n 'Swirlix',\n 'Slurpuff',\n 'Inkay',\n 'Malamar',\n 'Binacle',\n 'Barbaracle',\n 'Skrelp',\n 'Dragalge',\n 'Clauncher',\n 'Clawitzer',\n 'Helioptile',\n 'Heliolisk',\n 'Tyrunt',\n 'Tyrantrum',\n 'Amaura',\n 'Aurorus',\n 'Sylveon',\n 'Hawlucha',\n 'Dedenne',\n 'Carbink',\n 'Goomy',\n 'Sliggoo',\n 'Goodra',\n 'Klefki',\n 'Phantump',\n 'Trevenant',\n 'Pumpkaboo',\n 'Gourgeist',\n 'Bergmite',\n 'Avalugg',\n 'Noibat',\n 'Noivern',\n 'Xerneas',\n 'Yveltal',\n 'Zygarde',\n 'Diancie',\n 'Hoopa',\n 'Volcanion',\n 'Rowlet',\n 'Dartrix',\n 'Decidueye',\n 'Litten',\n 'Torracat',\n 'Incineroar',\n 'Popplio',\n 'Brionne',\n 'Primarina',\n 'Pikipek',\n 'Trumbeak',\n 'Toucannon',\n 'Yungoos',\n 'Gumshoos',\n 'Grubbin',\n 'Charjabug',\n 'Vikavolt',\n 'Crabrawler',\n 'Crabominable',\n 'Oricorio',\n 'Cutiefly',\n 'Ribombee',\n 'Rockruff',\n 'Lycanroc',\n 'Wishiwashi',\n 'Mareanie',\n 'Toxapex',\n 'Mudbray',\n 'Mudsdale',\n 'Dewpider',\n 'Araquanid',\n 'Fomantis',\n 'Lurantis',\n 'Morelull',\n 'Shiinotic',\n 'Salandit',\n 'Salazzle',\n 'Stufful',\n 'Bewear',\n 'Bounsweet',\n 'Steenee',\n 'Tsareena',\n 'Comfey',\n 'Oranguru',\n 'Passimian',\n 'Wimpod',\n 'Golisopod',\n 'Sandygast',\n 'Palossand',\n 'Pyukumuku',\n 'Silvally',\n 'Minior',\n 'Komala',\n 'Turtonator',\n 'Togedemaru',\n 'Mimikyu',\n 'Bruxish',\n 'Drampa',\n 'Dhelmise',\n 'Jangmo-o',\n 'Hakamo-o',\n 'Kommo-o',\n 'Tapu Koko',\n 'Tapu Lele',\n 'Tapu Bulu',\n 'Tapu Fini',\n 'Cosmog',\n 'Cosmoem',\n 'Solgaleo',\n 'Lunala',\n 'Nihilego',\n 'Buzzwole',\n 'Pheromosa',\n 'Xurkitree',\n 'Cele Steela',\n 'Kartana',\n 'Guzzlord',\n 'Necrozma',\n 'Magearna',\n 'Marshadow',\n 'Poipole',\n 'Naganadel',\n 'Stakataka',\n 'Blacephalon',\n 'Zeraora',\n 'Meltan',\n 'Melmetal',\n 'Grookey',\n 'Thwackey',\n 'Rillaboom',\n 'Scorbunny',\n 'Raboot',\n 'Cinderace',\n 'Sobble',\n 'Drizzile',\n 'Inteleon',\n 'Skwovet',\n 'Greedent',\n 'Rookidee',\n 'Corvisquire',\n 'Corviknight',\n 'Blip',\n 'Dottler',\n 'Orbeetle',\n 'Nickit',\n 'Thievul',\n 'Gossifleur',\n 'Eldegoss',\n 'Wooloo',\n 'Dubwool',\n 'Chewtle',\n 'Drednaw',\n 'Yamper',\n 'Boltund',\n 'Rolycoly',\n 'Carkol',\n 'Coalossal',\n 'Applin',\n 'Flapple',\n 'Appletun',\n 'Silicobra',\n 'Sandaconda',\n 'Cramorant',\n 'Arrokuda',\n 'Barraskewda',\n 'Toxel',\n 'Toxtricity',\n 'Sizzlipede',\n 'Centiskorch',\n 'Clobbopus',\n 'Grapploct',\n 'Sinistea',\n 'Polteageist',\n 'Hatenna',\n 'Hattrem',\n 'Hatterene',\n 'Impidimp',\n 'Morgrem',\n 'Grimmsnarl',\n 'Obstagoon',\n 'Perrserker',\n 'Cursola',\n \"Sirfetch'd\",\n 'Mr.Rime',\n 'Runerigus',\n 'Milcery',\n 'Alcremie',\n 'Falinks',\n 'Pincurchin',\n 'SnomIce',\n 'FrosmothIce',\n 'Stonjourner',\n 'Indeedee',\n 'Morpeko',\n 'Cufant',\n 'Copperajah',\n 'Dracozolt',\n 'Arctozolt',\n 'Dracovish',\n 'Arctovish',\n 'Duraludon',\n 'Dreepy',\n 'Drakloak',\n 'Dragapult',\n 'Zacian',\n 'Zamazenta',\n 'Eternatus',\n 'Kubfu',\n 'Urshifu',\n 'Zarude',\n 'Regieleki',\n 'Regidrago',\n 'Glastrier',\n 'Spectrier',\n 'Calyrex',\n 'Wyrdeer',\n 'Kleavor',\n 'Ursaluna',\n 'Sneasler',\n 'Overqwil',\n 'Enamorus',\n 'Sprigatito',\n 'Floragato',\n 'Meowscarada',\n 'Fuecoco',\n 'Crocalor',\n 'Skeledirge',\n 'Quaxly',\n 'Quaxwell',\n 'Quaquaval',\n 'Lechonk',\n 'Oinkologne',\n 'Tarountula',\n 'Spidops',\n 'Nymble',\n 'Lokix',\n 'Pawmi',\n 'Pawmo',\n 'Pawmot',\n 'Tandemaus',\n 'Maushold',\n 'Fidough',\n 'Dachsbun',\n 'Smoliv',\n 'Dolliv',\n 'Arboliva',\n 'Squawkabilly',\n 'Nacli',\n 'Naclstack',\n 'Garganacl',\n 'Charcadet',\n 'Armarouge',\n 'Ceruledge',\n 'Tadbulb',\n 'Bellibolt',\n 'Wattrel',\n 'Kilowattrel',\n 'Maschiff',\n 'Mabosstiff',\n 'Shroodle',\n 'Grafaiai',\n 'Bramblin',\n 'Brambleghast',\n 'Toedscool',\n 'Toedscruel',\n 'Klawf',\n 'Capsakid',\n 'Scovillain',\n 'Rellor',\n 'Rabsca',\n 'Flittle',\n 'Espathra',\n 'Tinkatink',\n 'Tinkatuff',\n 'Tinkaton',\n 'Wiglett',\n 'Wugtrio',\n 'Bombirdier',\n 'Finizen',\n 'Palafin',\n 'Varoom',\n 'Revavroom',\n 'Cyclizar',\n 'Orthworm',\n 'Glimmet',\n 'Glimmora',\n 'Greavard',\n 'Houndstone',\n 'Flamigo',\n 'Cetoddle',\n 'Cetitan',\n 'Veluza',\n 'Dondozo',\n 'Tatsugiri',\n 'Annihilape',\n 'Clodsire',\n 'Farigiraf',\n 'Dudunsparce',\n 'Kingambit',\n 'Great Tusk',\n 'Scream Tail',\n 'Brute Bonnet',\n 'Flutter Mane',\n 'Slither Wing',\n 'Sandy Shocks',\n 'Iron Treads',\n 'Iron Bundle',\n 'Iron Hands',\n 'Iron Jugulis',\n 'Iron Moth',\n 'Iron Thorns',\n 'Frigibax',\n 'Arctibax',\n 'Baxcalibur',\n 'Gholdengo',\n ...]"
     },
     "execution_count": 47,
     "metadata": {},
     "output_type": "execute_result"
    }
   ],
   "source": [
    "pokedex_relevant.Name.tolist()"
   ]
  },
  {
   "cell_type": "code",
   "execution_count": 48,
   "id": "623bdeb9",
   "metadata": {
    "ExecuteTime": {
     "start_time": "2023-04-04T13:45:43.266774Z",
     "end_time": "2023-04-04T13:45:43.332791Z"
    }
   },
   "outputs": [
    {
     "data": {
      "text/plain": "(array([[0.14150943, 0.15408805, 0.15408805, 0.20440252, 0.20440252,\n         0.14150943],\n        [0.14814815, 0.15308642, 0.15555556, 0.19753086, 0.19753086,\n         0.14814815],\n        [0.128     , 0.16      , 0.1968    , 0.1952    , 0.192     ,\n         0.128     ],\n        ...,\n        [0.12542373, 0.22033898, 0.15254237, 0.20338983, 0.10169492,\n         0.19661017],\n        [0.14925373, 0.20149254, 0.17164179, 0.12686567, 0.14925373,\n         0.20149254],\n        [0.14925373, 0.12686567, 0.14925373, 0.20149254, 0.17164179,\n         0.20149254]]),\n array(['Grass', 'Grass', 'Grass', ..., 'Fairy', 'Fighting', 'Electric'],\n       dtype=object))"
     },
     "execution_count": 48,
     "metadata": {},
     "output_type": "execute_result"
    }
   ],
   "source": [
    "# extract features and labels\n",
    "features = pokedex_relevant.iloc[:, 1:-1].values.astype(float)\n",
    "# normalize numbers\n",
    "for feature in features:\n",
    "    s = sum(feature)\n",
    "    feature /= s\n",
    "labels = pokedex_relevant.iloc[:, 0].values\n",
    "features, labels"
   ]
  },
  {
   "cell_type": "code",
   "execution_count": 49,
   "id": "d7c8e109",
   "metadata": {
    "ExecuteTime": {
     "start_time": "2023-04-04T13:45:44.502089Z",
     "end_time": "2023-04-04T13:45:44.573097Z"
    }
   },
   "outputs": [],
   "source": [
    "# train test splits -- stats\n",
    "# Stratify on labels to ensure each class has equal proportions\n",
    "X_train, X_test, y_train, y_test = train_test_split(features, labels, test_size = 0.2, stratify=labels, random_state=42)"
   ]
  },
  {
   "cell_type": "markdown",
   "id": "32f93e7a",
   "metadata": {},
   "source": [
    "## Decision Tree Approach using Entropy"
   ]
  },
  {
   "cell_type": "code",
   "execution_count": 50,
   "id": "1c5947c4",
   "metadata": {
    "ExecuteTime": {
     "start_time": "2023-04-04T13:45:45.603331Z",
     "end_time": "2023-04-04T13:45:45.699333Z"
    }
   },
   "outputs": [
    {
     "name": "stdout",
     "output_type": "stream",
     "text": [
      "For test set:\n",
      "Confusion Matrix:  [[4 0 0 2 1 1 1 0 0 3 2 0 0 1 1 1 1 0]\n",
      " [0 1 1 0 0 0 1 0 0 2 1 0 2 0 0 1 0 0]\n",
      " [0 0 1 2 0 1 0 0 0 0 1 0 1 0 0 1 0 0]\n",
      " [0 0 2 3 0 0 0 0 0 1 1 0 2 1 1 0 1 0]\n",
      " [0 0 0 0 2 0 0 0 0 0 0 0 1 0 0 0 0 3]\n",
      " [0 1 1 0 1 2 0 0 0 0 0 0 2 0 0 0 0 1]\n",
      " [3 1 2 0 0 0 0 0 3 0 0 0 1 1 0 0 1 1]\n",
      " [0 0 0 0 0 0 0 0 0 0 0 0 1 1 0 0 0 0]\n",
      " [1 0 0 0 0 0 0 1 0 1 0 1 0 2 1 0 0 0]\n",
      " [1 1 1 0 0 1 0 0 0 9 1 0 2 1 0 0 0 2]\n",
      " [1 1 1 0 0 1 0 0 0 0 2 0 1 0 0 1 1 0]\n",
      " [1 0 0 0 0 0 1 0 0 0 0 0 1 0 0 1 0 0]\n",
      " [0 0 2 1 0 2 0 0 0 1 2 0 7 3 0 1 0 4]\n",
      " [0 1 0 0 1 0 0 0 0 2 1 0 3 0 0 0 0 0]\n",
      " [1 0 0 2 2 1 1 0 0 3 0 0 0 0 1 0 0 1]\n",
      " [2 0 0 0 0 0 1 0 0 0 0 0 0 0 0 2 1 5]\n",
      " [1 0 0 0 0 0 0 0 0 0 0 0 1 1 0 2 1 1]\n",
      " [1 0 2 1 1 1 2 1 0 2 1 1 5 1 0 1 2 5]]\n",
      "Accuracy :  19.801980198019802\n",
      "Report :                precision    recall  f1-score   support\n",
      "\n",
      "         Bug       0.25      0.22      0.24        18\n",
      "        Dark       0.17      0.11      0.13         9\n",
      "      Dragon       0.08      0.14      0.10         7\n",
      "    Electric       0.27      0.25      0.26        12\n",
      "       Fairy       0.25      0.33      0.29         6\n",
      "    Fighting       0.20      0.25      0.22         8\n",
      "        Fire       0.00      0.00      0.00        13\n",
      "      Flying       0.00      0.00      0.00         2\n",
      "       Ghost       0.00      0.00      0.00         7\n",
      "       Grass       0.38      0.47      0.42        19\n",
      "      Ground       0.17      0.22      0.19         9\n",
      "         Ice       0.00      0.00      0.00         4\n",
      "      Normal       0.23      0.30      0.26        23\n",
      "      Poison       0.00      0.00      0.00         8\n",
      "     Psychic       0.25      0.08      0.12        12\n",
      "        Rock       0.18      0.18      0.18        11\n",
      "       Steel       0.12      0.14      0.13         7\n",
      "       Water       0.22      0.19      0.20        27\n",
      "\n",
      "    accuracy                           0.20       202\n",
      "   macro avg       0.15      0.16      0.15       202\n",
      "weighted avg       0.19      0.20      0.19       202\n",
      "\n",
      "For train set:\n",
      "Confusion Matrix:  [[ 73   0   0   0   0   0   0   0   0   0   0   0   0   0   0   0   0   0]\n",
      " [  0  36   0   0   0   0   0   0   0   0   0   0   0   0   0   0   0   0]\n",
      " [  0   0  30   0   0   0   0   0   0   0   0   0   0   0   0   0   0   0]\n",
      " [  0   0   0  46   0   0   0   0   0   0   0   0   0   0   0   0   0   0]\n",
      " [  0   1   0   0  22   0   0   0   0   0   0   0   0   0   0   0   0   0]\n",
      " [  0   0   0   0   0  32   0   0   0   0   0   0   0   0   0   0   0   0]\n",
      " [  0   0   0   0   0   0  50   0   0   0   0   0   0   0   0   0   0   0]\n",
      " [  0   0   0   0   0   0   0   9   0   0   0   0   0   0   0   0   0   0]\n",
      " [  0   0   0   0   0   0   0   0  29   0   0   0   0   0   0   0   0   0]\n",
      " [  0   0   0   0   0   0   2   0   0  74   0   0   1   0   0   0   0   0]\n",
      " [  0   0   0   0   0   0   0   0   0   0  34   0   0   0   0   0   0   0]\n",
      " [  0   0   0   0   0   0   0   0   0   0   0  17   1   0   0   0   0   0]\n",
      " [  0   0   0   0   0   0   0   0   0   0   0   0  93   0   0   0   0   0]\n",
      " [  0   0   0   0   0   0   0   0   0   0   0   0   0  30   0   0   0   0]\n",
      " [  0   0   0   0   0   0   0   0   0   0   0   0   3   0  45   0   0   0]\n",
      " [  0   0   0   0   0   0   0   0   0   0   0   0   0   0   0  46   0   0]\n",
      " [  0   0   0   0   0   0   0   0   0   0   0   0   1   0   0   0  26   0]\n",
      " [  0   0   0   0   0   0   0   0   0   0   3   0   2   0   0   0   0 100]]\n",
      "Accuracy :  98.26302729528535\n",
      "Report :                precision    recall  f1-score   support\n",
      "\n",
      "         Bug       1.00      1.00      1.00        73\n",
      "        Dark       0.97      1.00      0.99        36\n",
      "      Dragon       1.00      1.00      1.00        30\n",
      "    Electric       1.00      1.00      1.00        46\n",
      "       Fairy       1.00      0.96      0.98        23\n",
      "    Fighting       1.00      1.00      1.00        32\n",
      "        Fire       0.96      1.00      0.98        50\n",
      "      Flying       1.00      1.00      1.00         9\n",
      "       Ghost       1.00      1.00      1.00        29\n",
      "       Grass       1.00      0.96      0.98        77\n",
      "      Ground       0.92      1.00      0.96        34\n",
      "         Ice       1.00      0.94      0.97        18\n",
      "      Normal       0.92      1.00      0.96        93\n",
      "      Poison       1.00      1.00      1.00        30\n",
      "     Psychic       1.00      0.94      0.97        48\n",
      "        Rock       1.00      1.00      1.00        46\n",
      "       Steel       1.00      0.96      0.98        27\n",
      "       Water       1.00      0.95      0.98       105\n",
      "\n",
      "    accuracy                           0.98       806\n",
      "   macro avg       0.99      0.98      0.99       806\n",
      "weighted avg       0.98      0.98      0.98       806\n",
      "\n"
     ]
    }
   ],
   "source": [
    "# Decision tree with entropy\n",
    "clf_entropy = DecisionTreeClassifier(\n",
    "        criterion = \"entropy\")\n",
    "# Performing training\n",
    "entropy_model = clf_entropy.fit(X_train, y_train)\n",
    "\n",
    "# Prediction using entropy, display results\n",
    "\n",
    "print(\"For test set:\")\n",
    "y_pred = entropy_model.predict(X_test)\n",
    "print(\"Confusion Matrix: \",\n",
    "confusion_matrix(y_test, y_pred))\n",
    "\n",
    "print (\"Accuracy : \",\n",
    "accuracy_score(y_test,y_pred)*100)\n",
    "\n",
    "print(\"Report : \",\n",
    "classification_report(y_test, y_pred))\n",
    "\n",
    "print(\"For train set:\")\n",
    "y_pred = entropy_model.predict(X_train)\n",
    "print(\"Confusion Matrix: \",\n",
    "confusion_matrix(y_train, y_pred))\n",
    "\n",
    "print (\"Accuracy : \",\n",
    "accuracy_score(y_train,y_pred)*100)  # high train accuracy but low test accuracy... potentially overfitting?\n",
    "\n",
    "print(\"Report : \",\n",
    "classification_report(y_train, y_pred))"
   ]
  },
  {
   "cell_type": "markdown",
   "source": [
    "# Decision Tree Hyperparameter Tuning using GridSearchCV (instead of validation set)\n"
   ],
   "metadata": {
    "collapsed": false
   }
  },
  {
   "cell_type": "code",
   "execution_count": 53,
   "outputs": [
    {
     "name": "stdout",
     "output_type": "stream",
     "text": [
      "Fitting 5 folds for each of 120 candidates, totalling 600 fits\n",
      "[CV 1/5] END C=0.1, class_weight=balanced, gamma=1, kernel=rbf, random_state=42;, score=0.130 total time=   0.0s\n",
      "[CV 2/5] END C=0.1, class_weight=balanced, gamma=1, kernel=rbf, random_state=42;, score=0.081 total time=   0.0s\n",
      "[CV 3/5] END C=0.1, class_weight=balanced, gamma=1, kernel=rbf, random_state=42;, score=0.087 total time=   0.0s\n",
      "[CV 4/5] END C=0.1, class_weight=balanced, gamma=1, kernel=rbf, random_state=42;, score=0.062 total time=   0.0s\n",
      "[CV 5/5] END C=0.1, class_weight=balanced, gamma=1, kernel=rbf, random_state=42;, score=0.075 total time=   0.0s\n",
      "[CV 1/5] END C=0.1, class_weight=balanced, gamma=1, kernel=linear, random_state=42;, score=0.130 total time=   0.0s\n",
      "[CV 2/5] END C=0.1, class_weight=balanced, gamma=1, kernel=linear, random_state=42;, score=0.081 total time=   0.0s\n",
      "[CV 3/5] END C=0.1, class_weight=balanced, gamma=1, kernel=linear, random_state=42;, score=0.081 total time=   0.0s\n",
      "[CV 4/5] END C=0.1, class_weight=balanced, gamma=1, kernel=linear, random_state=42;, score=0.068 total time=   0.0s\n",
      "[CV 5/5] END C=0.1, class_weight=balanced, gamma=1, kernel=linear, random_state=42;, score=0.075 total time=   0.0s\n",
      "[CV 1/5] END C=0.1, class_weight=balanced, gamma=0.1, kernel=rbf, random_state=42;, score=0.130 total time=   0.0s\n",
      "[CV 2/5] END C=0.1, class_weight=balanced, gamma=0.1, kernel=rbf, random_state=42;, score=0.081 total time=   0.0s\n",
      "[CV 3/5] END C=0.1, class_weight=balanced, gamma=0.1, kernel=rbf, random_state=42;, score=0.081 total time=   0.0s\n",
      "[CV 4/5] END C=0.1, class_weight=balanced, gamma=0.1, kernel=rbf, random_state=42;, score=0.068 total time=   0.0s\n",
      "[CV 5/5] END C=0.1, class_weight=balanced, gamma=0.1, kernel=rbf, random_state=42;, score=0.075 total time=   0.0s\n",
      "[CV 1/5] END C=0.1, class_weight=balanced, gamma=0.1, kernel=linear, random_state=42;, score=0.130 total time=   0.0s\n",
      "[CV 2/5] END C=0.1, class_weight=balanced, gamma=0.1, kernel=linear, random_state=42;, score=0.081 total time=   0.0s\n",
      "[CV 3/5] END C=0.1, class_weight=balanced, gamma=0.1, kernel=linear, random_state=42;, score=0.081 total time=   0.0s\n",
      "[CV 4/5] END C=0.1, class_weight=balanced, gamma=0.1, kernel=linear, random_state=42;, score=0.068 total time=   0.0s\n",
      "[CV 5/5] END C=0.1, class_weight=balanced, gamma=0.1, kernel=linear, random_state=42;, score=0.075 total time=   0.0s\n",
      "[CV 1/5] END C=0.1, class_weight=balanced, gamma=0.01, kernel=rbf, random_state=42;, score=0.130 total time=   0.0s\n",
      "[CV 2/5] END C=0.1, class_weight=balanced, gamma=0.01, kernel=rbf, random_state=42;, score=0.081 total time=   0.0s\n",
      "[CV 3/5] END C=0.1, class_weight=balanced, gamma=0.01, kernel=rbf, random_state=42;, score=0.081 total time=   0.0s\n",
      "[CV 4/5] END C=0.1, class_weight=balanced, gamma=0.01, kernel=rbf, random_state=42;, score=0.068 total time=   0.0s\n",
      "[CV 5/5] END C=0.1, class_weight=balanced, gamma=0.01, kernel=rbf, random_state=42;, score=0.075 total time=   0.0s\n",
      "[CV 1/5] END C=0.1, class_weight=balanced, gamma=0.01, kernel=linear, random_state=42;, score=0.130 total time=   0.0s\n",
      "[CV 2/5] END C=0.1, class_weight=balanced, gamma=0.01, kernel=linear, random_state=42;, score=0.081 total time=   0.0s\n",
      "[CV 3/5] END C=0.1, class_weight=balanced, gamma=0.01, kernel=linear, random_state=42;, score=0.081 total time=   0.0s\n",
      "[CV 4/5] END C=0.1, class_weight=balanced, gamma=0.01, kernel=linear, random_state=42;, score=0.068 total time=   0.0s\n",
      "[CV 5/5] END C=0.1, class_weight=balanced, gamma=0.01, kernel=linear, random_state=42;, score=0.075 total time=   0.0s\n",
      "[CV 1/5] END C=0.1, class_weight=balanced, gamma=scale, kernel=rbf, random_state=42;, score=0.179 total time=   0.0s\n",
      "[CV 2/5] END C=0.1, class_weight=balanced, gamma=scale, kernel=rbf, random_state=42;, score=0.155 total time=   0.0s\n",
      "[CV 3/5] END C=0.1, class_weight=balanced, gamma=scale, kernel=rbf, random_state=42;, score=0.112 total time=   0.0s\n",
      "[CV 4/5] END C=0.1, class_weight=balanced, gamma=scale, kernel=rbf, random_state=42;, score=0.161 total time=   0.0s\n",
      "[CV 5/5] END C=0.1, class_weight=balanced, gamma=scale, kernel=rbf, random_state=42;, score=0.180 total time=   0.0s\n",
      "[CV 1/5] END C=0.1, class_weight=balanced, gamma=scale, kernel=linear, random_state=42;, score=0.130 total time=   0.0s\n",
      "[CV 2/5] END C=0.1, class_weight=balanced, gamma=scale, kernel=linear, random_state=42;, score=0.081 total time=   0.0s\n",
      "[CV 3/5] END C=0.1, class_weight=balanced, gamma=scale, kernel=linear, random_state=42;, score=0.081 total time=   0.0s\n",
      "[CV 4/5] END C=0.1, class_weight=balanced, gamma=scale, kernel=linear, random_state=42;, score=0.068 total time=   0.0s\n",
      "[CV 5/5] END C=0.1, class_weight=balanced, gamma=scale, kernel=linear, random_state=42;, score=0.075 total time=   0.0s\n",
      "[CV 1/5] END C=0.1, class_weight=balanced, gamma=scale, kernel=rbf, random_state=42;, score=0.179 total time=   0.0s\n",
      "[CV 2/5] END C=0.1, class_weight=balanced, gamma=scale, kernel=rbf, random_state=42;, score=0.155 total time=   0.0s\n",
      "[CV 3/5] END C=0.1, class_weight=balanced, gamma=scale, kernel=rbf, random_state=42;, score=0.112 total time=   0.0s\n",
      "[CV 4/5] END C=0.1, class_weight=balanced, gamma=scale, kernel=rbf, random_state=42;, score=0.161 total time=   0.0s\n",
      "[CV 5/5] END C=0.1, class_weight=balanced, gamma=scale, kernel=rbf, random_state=42;, score=0.180 total time=   0.0s\n",
      "[CV 1/5] END C=0.1, class_weight=balanced, gamma=scale, kernel=linear, random_state=42;, score=0.130 total time=   0.0s\n",
      "[CV 2/5] END C=0.1, class_weight=balanced, gamma=scale, kernel=linear, random_state=42;, score=0.081 total time=   0.0s\n",
      "[CV 3/5] END C=0.1, class_weight=balanced, gamma=scale, kernel=linear, random_state=42;, score=0.081 total time=   0.0s\n",
      "[CV 4/5] END C=0.1, class_weight=balanced, gamma=scale, kernel=linear, random_state=42;, score=0.068 total time=   0.0s\n",
      "[CV 5/5] END C=0.1, class_weight=balanced, gamma=scale, kernel=linear, random_state=42;, score=0.075 total time=   0.0s\n",
      "[CV 1/5] END C=0.1, class_weight=balanced, gamma=auto, kernel=rbf, random_state=42;, score=0.130 total time=   0.0s\n",
      "[CV 2/5] END C=0.1, class_weight=balanced, gamma=auto, kernel=rbf, random_state=42;, score=0.081 total time=   0.0s\n",
      "[CV 3/5] END C=0.1, class_weight=balanced, gamma=auto, kernel=rbf, random_state=42;, score=0.081 total time=   0.0s\n",
      "[CV 4/5] END C=0.1, class_weight=balanced, gamma=auto, kernel=rbf, random_state=42;, score=0.068 total time=   0.0s\n",
      "[CV 5/5] END C=0.1, class_weight=balanced, gamma=auto, kernel=rbf, random_state=42;, score=0.075 total time=   0.0s\n",
      "[CV 1/5] END C=0.1, class_weight=balanced, gamma=auto, kernel=linear, random_state=42;, score=0.130 total time=   0.0s\n",
      "[CV 2/5] END C=0.1, class_weight=balanced, gamma=auto, kernel=linear, random_state=42;, score=0.081 total time=   0.0s\n",
      "[CV 3/5] END C=0.1, class_weight=balanced, gamma=auto, kernel=linear, random_state=42;, score=0.081 total time=   0.0s\n",
      "[CV 4/5] END C=0.1, class_weight=balanced, gamma=auto, kernel=linear, random_state=42;, score=0.068 total time=   0.0s\n",
      "[CV 5/5] END C=0.1, class_weight=balanced, gamma=auto, kernel=linear, random_state=42;, score=0.075 total time=   0.0s\n",
      "[CV 1/5] END C=0.1, class_weight=None, gamma=1, kernel=rbf, random_state=42;, score=0.130 total time=   0.0s\n",
      "[CV 2/5] END C=0.1, class_weight=None, gamma=1, kernel=rbf, random_state=42;, score=0.130 total time=   0.0s\n",
      "[CV 3/5] END C=0.1, class_weight=None, gamma=1, kernel=rbf, random_state=42;, score=0.130 total time=   0.0s\n",
      "[CV 4/5] END C=0.1, class_weight=None, gamma=1, kernel=rbf, random_state=42;, score=0.130 total time=   0.0s\n",
      "[CV 5/5] END C=0.1, class_weight=None, gamma=1, kernel=rbf, random_state=42;, score=0.130 total time=   0.0s\n",
      "[CV 1/5] END C=0.1, class_weight=None, gamma=1, kernel=linear, random_state=42;, score=0.130 total time=   0.0s\n",
      "[CV 2/5] END C=0.1, class_weight=None, gamma=1, kernel=linear, random_state=42;, score=0.130 total time=   0.0s\n",
      "[CV 3/5] END C=0.1, class_weight=None, gamma=1, kernel=linear, random_state=42;, score=0.130 total time=   0.0s\n",
      "[CV 4/5] END C=0.1, class_weight=None, gamma=1, kernel=linear, random_state=42;, score=0.130 total time=   0.0s\n",
      "[CV 5/5] END C=0.1, class_weight=None, gamma=1, kernel=linear, random_state=42;, score=0.130 total time=   0.0s\n",
      "[CV 1/5] END C=0.1, class_weight=None, gamma=0.1, kernel=rbf, random_state=42;, score=0.130 total time=   0.0s\n",
      "[CV 2/5] END C=0.1, class_weight=None, gamma=0.1, kernel=rbf, random_state=42;, score=0.130 total time=   0.0s\n",
      "[CV 3/5] END C=0.1, class_weight=None, gamma=0.1, kernel=rbf, random_state=42;, score=0.130 total time=   0.0s\n",
      "[CV 4/5] END C=0.1, class_weight=None, gamma=0.1, kernel=rbf, random_state=42;, score=0.130 total time=   0.0s\n",
      "[CV 5/5] END C=0.1, class_weight=None, gamma=0.1, kernel=rbf, random_state=42;, score=0.130 total time=   0.0s\n",
      "[CV 1/5] END C=0.1, class_weight=None, gamma=0.1, kernel=linear, random_state=42;, score=0.130 total time=   0.0s\n",
      "[CV 2/5] END C=0.1, class_weight=None, gamma=0.1, kernel=linear, random_state=42;, score=0.130 total time=   0.0s\n",
      "[CV 3/5] END C=0.1, class_weight=None, gamma=0.1, kernel=linear, random_state=42;, score=0.130 total time=   0.0s\n",
      "[CV 4/5] END C=0.1, class_weight=None, gamma=0.1, kernel=linear, random_state=42;, score=0.130 total time=   0.0s\n",
      "[CV 5/5] END C=0.1, class_weight=None, gamma=0.1, kernel=linear, random_state=42;, score=0.130 total time=   0.0s\n",
      "[CV 1/5] END C=0.1, class_weight=None, gamma=0.01, kernel=rbf, random_state=42;, score=0.130 total time=   0.0s\n",
      "[CV 2/5] END C=0.1, class_weight=None, gamma=0.01, kernel=rbf, random_state=42;, score=0.130 total time=   0.0s\n",
      "[CV 3/5] END C=0.1, class_weight=None, gamma=0.01, kernel=rbf, random_state=42;, score=0.130 total time=   0.0s\n",
      "[CV 4/5] END C=0.1, class_weight=None, gamma=0.01, kernel=rbf, random_state=42;, score=0.130 total time=   0.0s\n",
      "[CV 5/5] END C=0.1, class_weight=None, gamma=0.01, kernel=rbf, random_state=42;, score=0.130 total time=   0.0s\n",
      "[CV 1/5] END C=0.1, class_weight=None, gamma=0.01, kernel=linear, random_state=42;, score=0.130 total time=   0.0s\n",
      "[CV 2/5] END C=0.1, class_weight=None, gamma=0.01, kernel=linear, random_state=42;, score=0.130 total time=   0.0s\n",
      "[CV 3/5] END C=0.1, class_weight=None, gamma=0.01, kernel=linear, random_state=42;, score=0.130 total time=   0.0s\n",
      "[CV 4/5] END C=0.1, class_weight=None, gamma=0.01, kernel=linear, random_state=42;, score=0.130 total time=   0.0s\n",
      "[CV 5/5] END C=0.1, class_weight=None, gamma=0.01, kernel=linear, random_state=42;, score=0.130 total time=   0.0s\n",
      "[CV 1/5] END C=0.1, class_weight=None, gamma=scale, kernel=rbf, random_state=42;, score=0.179 total time=   0.0s\n",
      "[CV 2/5] END C=0.1, class_weight=None, gamma=scale, kernel=rbf, random_state=42;, score=0.155 total time=   0.0s\n",
      "[CV 3/5] END C=0.1, class_weight=None, gamma=scale, kernel=rbf, random_state=42;, score=0.174 total time=   0.0s\n",
      "[CV 4/5] END C=0.1, class_weight=None, gamma=scale, kernel=rbf, random_state=42;, score=0.168 total time=   0.0s\n",
      "[CV 5/5] END C=0.1, class_weight=None, gamma=scale, kernel=rbf, random_state=42;, score=0.180 total time=   0.0s\n",
      "[CV 1/5] END C=0.1, class_weight=None, gamma=scale, kernel=linear, random_state=42;, score=0.130 total time=   0.0s\n",
      "[CV 2/5] END C=0.1, class_weight=None, gamma=scale, kernel=linear, random_state=42;, score=0.130 total time=   0.0s\n",
      "[CV 3/5] END C=0.1, class_weight=None, gamma=scale, kernel=linear, random_state=42;, score=0.130 total time=   0.0s\n",
      "[CV 4/5] END C=0.1, class_weight=None, gamma=scale, kernel=linear, random_state=42;, score=0.130 total time=   0.0s\n",
      "[CV 5/5] END C=0.1, class_weight=None, gamma=scale, kernel=linear, random_state=42;, score=0.130 total time=   0.0s\n",
      "[CV 1/5] END C=0.1, class_weight=None, gamma=scale, kernel=rbf, random_state=42;, score=0.179 total time=   0.0s\n",
      "[CV 2/5] END C=0.1, class_weight=None, gamma=scale, kernel=rbf, random_state=42;, score=0.155 total time=   0.0s\n",
      "[CV 3/5] END C=0.1, class_weight=None, gamma=scale, kernel=rbf, random_state=42;, score=0.174 total time=   0.0s\n",
      "[CV 4/5] END C=0.1, class_weight=None, gamma=scale, kernel=rbf, random_state=42;, score=0.168 total time=   0.0s\n",
      "[CV 5/5] END C=0.1, class_weight=None, gamma=scale, kernel=rbf, random_state=42;, score=0.180 total time=   0.0s\n",
      "[CV 1/5] END C=0.1, class_weight=None, gamma=scale, kernel=linear, random_state=42;, score=0.130 total time=   0.0s\n",
      "[CV 2/5] END C=0.1, class_weight=None, gamma=scale, kernel=linear, random_state=42;, score=0.130 total time=   0.0s\n",
      "[CV 3/5] END C=0.1, class_weight=None, gamma=scale, kernel=linear, random_state=42;, score=0.130 total time=   0.0s\n",
      "[CV 4/5] END C=0.1, class_weight=None, gamma=scale, kernel=linear, random_state=42;, score=0.130 total time=   0.0s\n",
      "[CV 5/5] END C=0.1, class_weight=None, gamma=scale, kernel=linear, random_state=42;, score=0.130 total time=   0.0s\n",
      "[CV 1/5] END C=0.1, class_weight=None, gamma=auto, kernel=rbf, random_state=42;, score=0.130 total time=   0.0s\n",
      "[CV 2/5] END C=0.1, class_weight=None, gamma=auto, kernel=rbf, random_state=42;, score=0.130 total time=   0.0s\n",
      "[CV 3/5] END C=0.1, class_weight=None, gamma=auto, kernel=rbf, random_state=42;, score=0.130 total time=   0.0s\n",
      "[CV 4/5] END C=0.1, class_weight=None, gamma=auto, kernel=rbf, random_state=42;, score=0.130 total time=   0.0s\n",
      "[CV 5/5] END C=0.1, class_weight=None, gamma=auto, kernel=rbf, random_state=42;, score=0.130 total time=   0.0s\n",
      "[CV 1/5] END C=0.1, class_weight=None, gamma=auto, kernel=linear, random_state=42;, score=0.130 total time=   0.0s\n",
      "[CV 2/5] END C=0.1, class_weight=None, gamma=auto, kernel=linear, random_state=42;, score=0.130 total time=   0.0s\n",
      "[CV 3/5] END C=0.1, class_weight=None, gamma=auto, kernel=linear, random_state=42;, score=0.130 total time=   0.0s\n",
      "[CV 4/5] END C=0.1, class_weight=None, gamma=auto, kernel=linear, random_state=42;, score=0.130 total time=   0.0s\n",
      "[CV 5/5] END C=0.1, class_weight=None, gamma=auto, kernel=linear, random_state=42;, score=0.130 total time=   0.0s\n",
      "[CV 1/5] END C=1, class_weight=balanced, gamma=1, kernel=rbf, random_state=42;, score=0.080 total time=   0.0s\n",
      "[CV 2/5] END C=1, class_weight=balanced, gamma=1, kernel=rbf, random_state=42;, score=0.075 total time=   0.0s\n",
      "[CV 3/5] END C=1, class_weight=balanced, gamma=1, kernel=rbf, random_state=42;, score=0.124 total time=   0.0s\n",
      "[CV 4/5] END C=1, class_weight=balanced, gamma=1, kernel=rbf, random_state=42;, score=0.093 total time=   0.0s\n",
      "[CV 5/5] END C=1, class_weight=balanced, gamma=1, kernel=rbf, random_state=42;, score=0.112 total time=   0.0s\n",
      "[CV 1/5] END C=1, class_weight=balanced, gamma=1, kernel=linear, random_state=42;, score=0.068 total time=   0.0s\n",
      "[CV 2/5] END C=1, class_weight=balanced, gamma=1, kernel=linear, random_state=42;, score=0.093 total time=   0.0s\n",
      "[CV 3/5] END C=1, class_weight=balanced, gamma=1, kernel=linear, random_state=42;, score=0.093 total time=   0.0s\n",
      "[CV 4/5] END C=1, class_weight=balanced, gamma=1, kernel=linear, random_state=42;, score=0.093 total time=   0.0s\n",
      "[CV 5/5] END C=1, class_weight=balanced, gamma=1, kernel=linear, random_state=42;, score=0.093 total time=   0.0s\n",
      "[CV 1/5] END C=1, class_weight=balanced, gamma=0.1, kernel=rbf, random_state=42;, score=0.062 total time=   0.0s\n",
      "[CV 2/5] END C=1, class_weight=balanced, gamma=0.1, kernel=rbf, random_state=42;, score=0.031 total time=   0.0s\n",
      "[CV 3/5] END C=1, class_weight=balanced, gamma=0.1, kernel=rbf, random_state=42;, score=0.093 total time=   0.0s\n",
      "[CV 4/5] END C=1, class_weight=balanced, gamma=0.1, kernel=rbf, random_state=42;, score=0.093 total time=   0.0s\n",
      "[CV 5/5] END C=1, class_weight=balanced, gamma=0.1, kernel=rbf, random_state=42;, score=0.025 total time=   0.0s\n",
      "[CV 1/5] END C=1, class_weight=balanced, gamma=0.1, kernel=linear, random_state=42;, score=0.068 total time=   0.0s\n",
      "[CV 2/5] END C=1, class_weight=balanced, gamma=0.1, kernel=linear, random_state=42;, score=0.093 total time=   0.0s\n",
      "[CV 3/5] END C=1, class_weight=balanced, gamma=0.1, kernel=linear, random_state=42;, score=0.093 total time=   0.0s\n",
      "[CV 4/5] END C=1, class_weight=balanced, gamma=0.1, kernel=linear, random_state=42;, score=0.093 total time=   0.0s\n",
      "[CV 5/5] END C=1, class_weight=balanced, gamma=0.1, kernel=linear, random_state=42;, score=0.093 total time=   0.0s\n",
      "[CV 1/5] END C=1, class_weight=balanced, gamma=0.01, kernel=rbf, random_state=42;, score=0.062 total time=   0.0s\n",
      "[CV 2/5] END C=1, class_weight=balanced, gamma=0.01, kernel=rbf, random_state=42;, score=0.031 total time=   0.0s\n",
      "[CV 3/5] END C=1, class_weight=balanced, gamma=0.01, kernel=rbf, random_state=42;, score=0.093 total time=   0.0s\n",
      "[CV 4/5] END C=1, class_weight=balanced, gamma=0.01, kernel=rbf, random_state=42;, score=0.093 total time=   0.0s\n",
      "[CV 5/5] END C=1, class_weight=balanced, gamma=0.01, kernel=rbf, random_state=42;, score=0.031 total time=   0.0s\n",
      "[CV 1/5] END C=1, class_weight=balanced, gamma=0.01, kernel=linear, random_state=42;, score=0.068 total time=   0.0s\n",
      "[CV 2/5] END C=1, class_weight=balanced, gamma=0.01, kernel=linear, random_state=42;, score=0.093 total time=   0.0s\n",
      "[CV 3/5] END C=1, class_weight=balanced, gamma=0.01, kernel=linear, random_state=42;, score=0.093 total time=   0.0s\n",
      "[CV 4/5] END C=1, class_weight=balanced, gamma=0.01, kernel=linear, random_state=42;, score=0.093 total time=   0.0s\n",
      "[CV 5/5] END C=1, class_weight=balanced, gamma=0.01, kernel=linear, random_state=42;, score=0.093 total time=   0.0s\n",
      "[CV 1/5] END C=1, class_weight=balanced, gamma=scale, kernel=rbf, random_state=42;, score=0.185 total time=   0.0s\n",
      "[CV 2/5] END C=1, class_weight=balanced, gamma=scale, kernel=rbf, random_state=42;, score=0.168 total time=   0.0s\n",
      "[CV 3/5] END C=1, class_weight=balanced, gamma=scale, kernel=rbf, random_state=42;, score=0.180 total time=   0.0s\n",
      "[CV 4/5] END C=1, class_weight=balanced, gamma=scale, kernel=rbf, random_state=42;, score=0.168 total time=   0.0s\n",
      "[CV 5/5] END C=1, class_weight=balanced, gamma=scale, kernel=rbf, random_state=42;, score=0.193 total time=   0.0s\n",
      "[CV 1/5] END C=1, class_weight=balanced, gamma=scale, kernel=linear, random_state=42;, score=0.068 total time=   0.0s\n",
      "[CV 2/5] END C=1, class_weight=balanced, gamma=scale, kernel=linear, random_state=42;, score=0.093 total time=   0.0s\n",
      "[CV 3/5] END C=1, class_weight=balanced, gamma=scale, kernel=linear, random_state=42;, score=0.093 total time=   0.0s\n",
      "[CV 4/5] END C=1, class_weight=balanced, gamma=scale, kernel=linear, random_state=42;, score=0.093 total time=   0.0s\n",
      "[CV 5/5] END C=1, class_weight=balanced, gamma=scale, kernel=linear, random_state=42;, score=0.093 total time=   0.0s\n",
      "[CV 1/5] END C=1, class_weight=balanced, gamma=scale, kernel=rbf, random_state=42;, score=0.185 total time=   0.0s\n",
      "[CV 2/5] END C=1, class_weight=balanced, gamma=scale, kernel=rbf, random_state=42;, score=0.168 total time=   0.0s\n",
      "[CV 3/5] END C=1, class_weight=balanced, gamma=scale, kernel=rbf, random_state=42;, score=0.180 total time=   0.0s\n",
      "[CV 4/5] END C=1, class_weight=balanced, gamma=scale, kernel=rbf, random_state=42;, score=0.168 total time=   0.0s\n",
      "[CV 5/5] END C=1, class_weight=balanced, gamma=scale, kernel=rbf, random_state=42;, score=0.193 total time=   0.0s\n",
      "[CV 1/5] END C=1, class_weight=balanced, gamma=scale, kernel=linear, random_state=42;, score=0.068 total time=   0.3s\n",
      "[CV 2/5] END C=1, class_weight=balanced, gamma=scale, kernel=linear, random_state=42;, score=0.093 total time=   0.0s\n",
      "[CV 3/5] END C=1, class_weight=balanced, gamma=scale, kernel=linear, random_state=42;, score=0.093 total time=   0.0s\n",
      "[CV 4/5] END C=1, class_weight=balanced, gamma=scale, kernel=linear, random_state=42;, score=0.093 total time=   0.0s\n",
      "[CV 5/5] END C=1, class_weight=balanced, gamma=scale, kernel=linear, random_state=42;, score=0.093 total time=   0.0s\n",
      "[CV 1/5] END C=1, class_weight=balanced, gamma=auto, kernel=rbf, random_state=42;, score=0.062 total time=   0.0s\n",
      "[CV 2/5] END C=1, class_weight=balanced, gamma=auto, kernel=rbf, random_state=42;, score=0.031 total time=   0.0s\n",
      "[CV 3/5] END C=1, class_weight=balanced, gamma=auto, kernel=rbf, random_state=42;, score=0.093 total time=   0.0s\n",
      "[CV 4/5] END C=1, class_weight=balanced, gamma=auto, kernel=rbf, random_state=42;, score=0.062 total time=   0.0s\n",
      "[CV 5/5] END C=1, class_weight=balanced, gamma=auto, kernel=rbf, random_state=42;, score=0.093 total time=   0.0s\n",
      "[CV 1/5] END C=1, class_weight=balanced, gamma=auto, kernel=linear, random_state=42;, score=0.068 total time=   0.0s\n",
      "[CV 2/5] END C=1, class_weight=balanced, gamma=auto, kernel=linear, random_state=42;, score=0.093 total time=   0.0s\n",
      "[CV 3/5] END C=1, class_weight=balanced, gamma=auto, kernel=linear, random_state=42;, score=0.093 total time=   0.0s\n",
      "[CV 4/5] END C=1, class_weight=balanced, gamma=auto, kernel=linear, random_state=42;, score=0.093 total time=   0.0s\n",
      "[CV 5/5] END C=1, class_weight=balanced, gamma=auto, kernel=linear, random_state=42;, score=0.093 total time=   0.0s\n",
      "[CV 1/5] END C=1, class_weight=None, gamma=1, kernel=rbf, random_state=42;, score=0.136 total time=   0.0s\n",
      "[CV 2/5] END C=1, class_weight=None, gamma=1, kernel=rbf, random_state=42;, score=0.124 total time=   0.0s\n",
      "[CV 3/5] END C=1, class_weight=None, gamma=1, kernel=rbf, random_state=42;, score=0.118 total time=   0.0s\n",
      "[CV 4/5] END C=1, class_weight=None, gamma=1, kernel=rbf, random_state=42;, score=0.130 total time=   0.0s\n",
      "[CV 5/5] END C=1, class_weight=None, gamma=1, kernel=rbf, random_state=42;, score=0.137 total time=   0.0s\n",
      "[CV 1/5] END C=1, class_weight=None, gamma=1, kernel=linear, random_state=42;, score=0.130 total time=   0.0s\n",
      "[CV 2/5] END C=1, class_weight=None, gamma=1, kernel=linear, random_state=42;, score=0.130 total time=   0.0s\n",
      "[CV 3/5] END C=1, class_weight=None, gamma=1, kernel=linear, random_state=42;, score=0.130 total time=   0.0s\n",
      "[CV 4/5] END C=1, class_weight=None, gamma=1, kernel=linear, random_state=42;, score=0.130 total time=   0.0s\n",
      "[CV 5/5] END C=1, class_weight=None, gamma=1, kernel=linear, random_state=42;, score=0.130 total time=   0.0s\n",
      "[CV 1/5] END C=1, class_weight=None, gamma=0.1, kernel=rbf, random_state=42;, score=0.130 total time=   0.0s\n",
      "[CV 2/5] END C=1, class_weight=None, gamma=0.1, kernel=rbf, random_state=42;, score=0.130 total time=   0.0s\n",
      "[CV 3/5] END C=1, class_weight=None, gamma=0.1, kernel=rbf, random_state=42;, score=0.130 total time=   0.0s\n",
      "[CV 4/5] END C=1, class_weight=None, gamma=0.1, kernel=rbf, random_state=42;, score=0.130 total time=   0.0s\n",
      "[CV 5/5] END C=1, class_weight=None, gamma=0.1, kernel=rbf, random_state=42;, score=0.130 total time=   0.0s\n",
      "[CV 1/5] END C=1, class_weight=None, gamma=0.1, kernel=linear, random_state=42;, score=0.130 total time=   0.0s\n",
      "[CV 2/5] END C=1, class_weight=None, gamma=0.1, kernel=linear, random_state=42;, score=0.130 total time=   0.0s\n",
      "[CV 3/5] END C=1, class_weight=None, gamma=0.1, kernel=linear, random_state=42;, score=0.130 total time=   0.0s\n",
      "[CV 4/5] END C=1, class_weight=None, gamma=0.1, kernel=linear, random_state=42;, score=0.130 total time=   0.0s\n",
      "[CV 5/5] END C=1, class_weight=None, gamma=0.1, kernel=linear, random_state=42;, score=0.130 total time=   0.0s\n",
      "[CV 1/5] END C=1, class_weight=None, gamma=0.01, kernel=rbf, random_state=42;, score=0.130 total time=   0.0s\n",
      "[CV 2/5] END C=1, class_weight=None, gamma=0.01, kernel=rbf, random_state=42;, score=0.130 total time=   0.0s\n",
      "[CV 3/5] END C=1, class_weight=None, gamma=0.01, kernel=rbf, random_state=42;, score=0.130 total time=   0.0s\n",
      "[CV 4/5] END C=1, class_weight=None, gamma=0.01, kernel=rbf, random_state=42;, score=0.130 total time=   0.0s\n",
      "[CV 5/5] END C=1, class_weight=None, gamma=0.01, kernel=rbf, random_state=42;, score=0.130 total time=   0.0s\n",
      "[CV 1/5] END C=1, class_weight=None, gamma=0.01, kernel=linear, random_state=42;, score=0.130 total time=   0.0s\n",
      "[CV 2/5] END C=1, class_weight=None, gamma=0.01, kernel=linear, random_state=42;, score=0.130 total time=   0.0s\n",
      "[CV 3/5] END C=1, class_weight=None, gamma=0.01, kernel=linear, random_state=42;, score=0.130 total time=   0.0s\n",
      "[CV 4/5] END C=1, class_weight=None, gamma=0.01, kernel=linear, random_state=42;, score=0.130 total time=   0.0s\n",
      "[CV 5/5] END C=1, class_weight=None, gamma=0.01, kernel=linear, random_state=42;, score=0.130 total time=   0.0s\n",
      "[CV 1/5] END C=1, class_weight=None, gamma=scale, kernel=rbf, random_state=42;, score=0.302 total time=   0.0s\n",
      "[CV 2/5] END C=1, class_weight=None, gamma=scale, kernel=rbf, random_state=42;, score=0.236 total time=   0.0s\n",
      "[CV 3/5] END C=1, class_weight=None, gamma=scale, kernel=rbf, random_state=42;, score=0.286 total time=   0.0s\n",
      "[CV 4/5] END C=1, class_weight=None, gamma=scale, kernel=rbf, random_state=42;, score=0.292 total time=   0.0s\n",
      "[CV 5/5] END C=1, class_weight=None, gamma=scale, kernel=rbf, random_state=42;, score=0.224 total time=   0.0s\n",
      "[CV 1/5] END C=1, class_weight=None, gamma=scale, kernel=linear, random_state=42;, score=0.130 total time=   0.0s\n",
      "[CV 2/5] END C=1, class_weight=None, gamma=scale, kernel=linear, random_state=42;, score=0.130 total time=   0.0s\n",
      "[CV 3/5] END C=1, class_weight=None, gamma=scale, kernel=linear, random_state=42;, score=0.130 total time=   0.0s\n",
      "[CV 4/5] END C=1, class_weight=None, gamma=scale, kernel=linear, random_state=42;, score=0.130 total time=   0.0s\n",
      "[CV 5/5] END C=1, class_weight=None, gamma=scale, kernel=linear, random_state=42;, score=0.130 total time=   0.0s\n",
      "[CV 1/5] END C=1, class_weight=None, gamma=scale, kernel=rbf, random_state=42;, score=0.302 total time=   0.0s\n",
      "[CV 2/5] END C=1, class_weight=None, gamma=scale, kernel=rbf, random_state=42;, score=0.236 total time=   0.0s\n",
      "[CV 3/5] END C=1, class_weight=None, gamma=scale, kernel=rbf, random_state=42;, score=0.286 total time=   0.0s\n",
      "[CV 4/5] END C=1, class_weight=None, gamma=scale, kernel=rbf, random_state=42;, score=0.292 total time=   0.0s\n",
      "[CV 5/5] END C=1, class_weight=None, gamma=scale, kernel=rbf, random_state=42;, score=0.224 total time=   0.0s\n",
      "[CV 1/5] END C=1, class_weight=None, gamma=scale, kernel=linear, random_state=42;, score=0.130 total time=   0.0s\n",
      "[CV 2/5] END C=1, class_weight=None, gamma=scale, kernel=linear, random_state=42;, score=0.130 total time=   0.0s\n",
      "[CV 3/5] END C=1, class_weight=None, gamma=scale, kernel=linear, random_state=42;, score=0.130 total time=   0.0s\n",
      "[CV 4/5] END C=1, class_weight=None, gamma=scale, kernel=linear, random_state=42;, score=0.130 total time=   0.0s\n",
      "[CV 5/5] END C=1, class_weight=None, gamma=scale, kernel=linear, random_state=42;, score=0.130 total time=   0.0s\n",
      "[CV 1/5] END C=1, class_weight=None, gamma=auto, kernel=rbf, random_state=42;, score=0.130 total time=   0.0s\n",
      "[CV 2/5] END C=1, class_weight=None, gamma=auto, kernel=rbf, random_state=42;, score=0.130 total time=   0.0s\n",
      "[CV 3/5] END C=1, class_weight=None, gamma=auto, kernel=rbf, random_state=42;, score=0.130 total time=   0.0s\n",
      "[CV 4/5] END C=1, class_weight=None, gamma=auto, kernel=rbf, random_state=42;, score=0.130 total time=   0.0s\n",
      "[CV 5/5] END C=1, class_weight=None, gamma=auto, kernel=rbf, random_state=42;, score=0.130 total time=   0.0s\n",
      "[CV 1/5] END C=1, class_weight=None, gamma=auto, kernel=linear, random_state=42;, score=0.130 total time=   0.0s\n",
      "[CV 2/5] END C=1, class_weight=None, gamma=auto, kernel=linear, random_state=42;, score=0.130 total time=   0.0s\n",
      "[CV 3/5] END C=1, class_weight=None, gamma=auto, kernel=linear, random_state=42;, score=0.130 total time=   0.0s\n",
      "[CV 4/5] END C=1, class_weight=None, gamma=auto, kernel=linear, random_state=42;, score=0.130 total time=   0.0s\n",
      "[CV 5/5] END C=1, class_weight=None, gamma=auto, kernel=linear, random_state=42;, score=0.130 total time=   0.0s\n",
      "[CV 1/5] END C=10, class_weight=balanced, gamma=1, kernel=rbf, random_state=42;, score=0.130 total time=   0.0s\n",
      "[CV 2/5] END C=10, class_weight=balanced, gamma=1, kernel=rbf, random_state=42;, score=0.112 total time=   0.0s\n",
      "[CV 3/5] END C=10, class_weight=balanced, gamma=1, kernel=rbf, random_state=42;, score=0.118 total time=   0.0s\n",
      "[CV 4/5] END C=10, class_weight=balanced, gamma=1, kernel=rbf, random_state=42;, score=0.186 total time=   0.0s\n",
      "[CV 5/5] END C=10, class_weight=balanced, gamma=1, kernel=rbf, random_state=42;, score=0.137 total time=   0.0s\n",
      "[CV 1/5] END C=10, class_weight=balanced, gamma=1, kernel=linear, random_state=42;, score=0.123 total time=   0.0s\n",
      "[CV 2/5] END C=10, class_weight=balanced, gamma=1, kernel=linear, random_state=42;, score=0.099 total time=   0.0s\n",
      "[CV 3/5] END C=10, class_weight=balanced, gamma=1, kernel=linear, random_state=42;, score=0.118 total time=   0.0s\n",
      "[CV 4/5] END C=10, class_weight=balanced, gamma=1, kernel=linear, random_state=42;, score=0.149 total time=   0.0s\n",
      "[CV 5/5] END C=10, class_weight=balanced, gamma=1, kernel=linear, random_state=42;, score=0.106 total time=   0.0s\n",
      "[CV 1/5] END C=10, class_weight=balanced, gamma=0.1, kernel=rbf, random_state=42;, score=0.111 total time=   0.0s\n",
      "[CV 2/5] END C=10, class_weight=balanced, gamma=0.1, kernel=rbf, random_state=42;, score=0.062 total time=   0.0s\n",
      "[CV 3/5] END C=10, class_weight=balanced, gamma=0.1, kernel=rbf, random_state=42;, score=0.112 total time=   0.0s\n",
      "[CV 4/5] END C=10, class_weight=balanced, gamma=0.1, kernel=rbf, random_state=42;, score=0.130 total time=   0.0s\n",
      "[CV 5/5] END C=10, class_weight=balanced, gamma=0.1, kernel=rbf, random_state=42;, score=0.168 total time=   0.0s\n",
      "[CV 1/5] END C=10, class_weight=balanced, gamma=0.1, kernel=linear, random_state=42;, score=0.123 total time=   0.0s\n",
      "[CV 2/5] END C=10, class_weight=balanced, gamma=0.1, kernel=linear, random_state=42;, score=0.099 total time=   0.0s\n",
      "[CV 3/5] END C=10, class_weight=balanced, gamma=0.1, kernel=linear, random_state=42;, score=0.118 total time=   0.0s\n",
      "[CV 4/5] END C=10, class_weight=balanced, gamma=0.1, kernel=linear, random_state=42;, score=0.149 total time=   0.0s\n",
      "[CV 5/5] END C=10, class_weight=balanced, gamma=0.1, kernel=linear, random_state=42;, score=0.106 total time=   0.0s\n",
      "[CV 1/5] END C=10, class_weight=balanced, gamma=0.01, kernel=rbf, random_state=42;, score=0.105 total time=   0.0s\n",
      "[CV 2/5] END C=10, class_weight=balanced, gamma=0.01, kernel=rbf, random_state=42;, score=0.068 total time=   0.0s\n",
      "[CV 3/5] END C=10, class_weight=balanced, gamma=0.01, kernel=rbf, random_state=42;, score=0.093 total time=   0.0s\n",
      "[CV 4/5] END C=10, class_weight=balanced, gamma=0.01, kernel=rbf, random_state=42;, score=0.093 total time=   0.0s\n",
      "[CV 5/5] END C=10, class_weight=balanced, gamma=0.01, kernel=rbf, random_state=42;, score=0.093 total time=   0.0s\n",
      "[CV 1/5] END C=10, class_weight=balanced, gamma=0.01, kernel=linear, random_state=42;, score=0.123 total time=   0.0s\n",
      "[CV 2/5] END C=10, class_weight=balanced, gamma=0.01, kernel=linear, random_state=42;, score=0.099 total time=   0.0s\n",
      "[CV 3/5] END C=10, class_weight=balanced, gamma=0.01, kernel=linear, random_state=42;, score=0.118 total time=   0.0s\n",
      "[CV 4/5] END C=10, class_weight=balanced, gamma=0.01, kernel=linear, random_state=42;, score=0.149 total time=   0.0s\n",
      "[CV 5/5] END C=10, class_weight=balanced, gamma=0.01, kernel=linear, random_state=42;, score=0.106 total time=   0.0s\n",
      "[CV 1/5] END C=10, class_weight=balanced, gamma=scale, kernel=rbf, random_state=42;, score=0.241 total time=   0.0s\n",
      "[CV 2/5] END C=10, class_weight=balanced, gamma=scale, kernel=rbf, random_state=42;, score=0.186 total time=   0.0s\n",
      "[CV 3/5] END C=10, class_weight=balanced, gamma=scale, kernel=rbf, random_state=42;, score=0.224 total time=   0.0s\n",
      "[CV 4/5] END C=10, class_weight=balanced, gamma=scale, kernel=rbf, random_state=42;, score=0.230 total time=   0.0s\n",
      "[CV 5/5] END C=10, class_weight=balanced, gamma=scale, kernel=rbf, random_state=42;, score=0.199 total time=   0.1s\n",
      "[CV 1/5] END C=10, class_weight=balanced, gamma=scale, kernel=linear, random_state=42;, score=0.123 total time=   0.0s\n",
      "[CV 2/5] END C=10, class_weight=balanced, gamma=scale, kernel=linear, random_state=42;, score=0.099 total time=   0.0s\n",
      "[CV 3/5] END C=10, class_weight=balanced, gamma=scale, kernel=linear, random_state=42;, score=0.118 total time=   0.0s\n",
      "[CV 4/5] END C=10, class_weight=balanced, gamma=scale, kernel=linear, random_state=42;, score=0.149 total time=   0.0s\n",
      "[CV 5/5] END C=10, class_weight=balanced, gamma=scale, kernel=linear, random_state=42;, score=0.106 total time=   0.0s\n",
      "[CV 1/5] END C=10, class_weight=balanced, gamma=scale, kernel=rbf, random_state=42;, score=0.241 total time=   0.0s\n",
      "[CV 2/5] END C=10, class_weight=balanced, gamma=scale, kernel=rbf, random_state=42;, score=0.186 total time=   0.0s\n",
      "[CV 3/5] END C=10, class_weight=balanced, gamma=scale, kernel=rbf, random_state=42;, score=0.224 total time=   0.0s\n",
      "[CV 4/5] END C=10, class_weight=balanced, gamma=scale, kernel=rbf, random_state=42;, score=0.230 total time=   0.0s\n",
      "[CV 5/5] END C=10, class_weight=balanced, gamma=scale, kernel=rbf, random_state=42;, score=0.199 total time=   0.0s\n",
      "[CV 1/5] END C=10, class_weight=balanced, gamma=scale, kernel=linear, random_state=42;, score=0.123 total time=   0.0s\n",
      "[CV 2/5] END C=10, class_weight=balanced, gamma=scale, kernel=linear, random_state=42;, score=0.099 total time=   0.0s\n",
      "[CV 3/5] END C=10, class_weight=balanced, gamma=scale, kernel=linear, random_state=42;, score=0.118 total time=   0.0s\n",
      "[CV 4/5] END C=10, class_weight=balanced, gamma=scale, kernel=linear, random_state=42;, score=0.149 total time=   0.0s\n",
      "[CV 5/5] END C=10, class_weight=balanced, gamma=scale, kernel=linear, random_state=42;, score=0.106 total time=   0.0s\n",
      "[CV 1/5] END C=10, class_weight=balanced, gamma=auto, kernel=rbf, random_state=42;, score=0.130 total time=   0.0s\n",
      "[CV 2/5] END C=10, class_weight=balanced, gamma=auto, kernel=rbf, random_state=42;, score=0.118 total time=   0.0s\n",
      "[CV 3/5] END C=10, class_weight=balanced, gamma=auto, kernel=rbf, random_state=42;, score=0.106 total time=   0.0s\n",
      "[CV 4/5] END C=10, class_weight=balanced, gamma=auto, kernel=rbf, random_state=42;, score=0.118 total time=   0.0s\n",
      "[CV 5/5] END C=10, class_weight=balanced, gamma=auto, kernel=rbf, random_state=42;, score=0.124 total time=   0.0s\n",
      "[CV 1/5] END C=10, class_weight=balanced, gamma=auto, kernel=linear, random_state=42;, score=0.123 total time=   0.0s\n",
      "[CV 2/5] END C=10, class_weight=balanced, gamma=auto, kernel=linear, random_state=42;, score=0.099 total time=   0.0s\n",
      "[CV 3/5] END C=10, class_weight=balanced, gamma=auto, kernel=linear, random_state=42;, score=0.118 total time=   0.0s\n",
      "[CV 4/5] END C=10, class_weight=balanced, gamma=auto, kernel=linear, random_state=42;, score=0.149 total time=   0.0s\n",
      "[CV 5/5] END C=10, class_weight=balanced, gamma=auto, kernel=linear, random_state=42;, score=0.106 total time=   0.0s\n",
      "[CV 1/5] END C=10, class_weight=None, gamma=1, kernel=rbf, random_state=42;, score=0.191 total time=   0.0s\n",
      "[CV 2/5] END C=10, class_weight=None, gamma=1, kernel=rbf, random_state=42;, score=0.180 total time=   0.0s\n",
      "[CV 3/5] END C=10, class_weight=None, gamma=1, kernel=rbf, random_state=42;, score=0.199 total time=   0.0s\n",
      "[CV 4/5] END C=10, class_weight=None, gamma=1, kernel=rbf, random_state=42;, score=0.205 total time=   0.0s\n",
      "[CV 5/5] END C=10, class_weight=None, gamma=1, kernel=rbf, random_state=42;, score=0.211 total time=   0.0s\n",
      "[CV 1/5] END C=10, class_weight=None, gamma=1, kernel=linear, random_state=42;, score=0.204 total time=   0.0s\n",
      "[CV 2/5] END C=10, class_weight=None, gamma=1, kernel=linear, random_state=42;, score=0.161 total time=   0.0s\n",
      "[CV 3/5] END C=10, class_weight=None, gamma=1, kernel=linear, random_state=42;, score=0.186 total time=   0.0s\n",
      "[CV 4/5] END C=10, class_weight=None, gamma=1, kernel=linear, random_state=42;, score=0.193 total time=   0.0s\n",
      "[CV 5/5] END C=10, class_weight=None, gamma=1, kernel=linear, random_state=42;, score=0.193 total time=   0.0s\n",
      "[CV 1/5] END C=10, class_weight=None, gamma=0.1, kernel=rbf, random_state=42;, score=0.136 total time=   0.0s\n",
      "[CV 2/5] END C=10, class_weight=None, gamma=0.1, kernel=rbf, random_state=42;, score=0.124 total time=   0.0s\n",
      "[CV 3/5] END C=10, class_weight=None, gamma=0.1, kernel=rbf, random_state=42;, score=0.118 total time=   0.0s\n",
      "[CV 4/5] END C=10, class_weight=None, gamma=0.1, kernel=rbf, random_state=42;, score=0.130 total time=   0.0s\n",
      "[CV 5/5] END C=10, class_weight=None, gamma=0.1, kernel=rbf, random_state=42;, score=0.143 total time=   0.0s\n",
      "[CV 1/5] END C=10, class_weight=None, gamma=0.1, kernel=linear, random_state=42;, score=0.204 total time=   0.0s\n",
      "[CV 2/5] END C=10, class_weight=None, gamma=0.1, kernel=linear, random_state=42;, score=0.161 total time=   0.0s\n",
      "[CV 3/5] END C=10, class_weight=None, gamma=0.1, kernel=linear, random_state=42;, score=0.186 total time=   0.0s\n",
      "[CV 4/5] END C=10, class_weight=None, gamma=0.1, kernel=linear, random_state=42;, score=0.193 total time=   0.0s\n",
      "[CV 5/5] END C=10, class_weight=None, gamma=0.1, kernel=linear, random_state=42;, score=0.193 total time=   0.0s\n",
      "[CV 1/5] END C=10, class_weight=None, gamma=0.01, kernel=rbf, random_state=42;, score=0.130 total time=   0.0s\n",
      "[CV 2/5] END C=10, class_weight=None, gamma=0.01, kernel=rbf, random_state=42;, score=0.130 total time=   0.0s\n",
      "[CV 3/5] END C=10, class_weight=None, gamma=0.01, kernel=rbf, random_state=42;, score=0.130 total time=   0.0s\n",
      "[CV 4/5] END C=10, class_weight=None, gamma=0.01, kernel=rbf, random_state=42;, score=0.130 total time=   0.0s\n",
      "[CV 5/5] END C=10, class_weight=None, gamma=0.01, kernel=rbf, random_state=42;, score=0.130 total time=   0.0s\n",
      "[CV 1/5] END C=10, class_weight=None, gamma=0.01, kernel=linear, random_state=42;, score=0.204 total time=   0.0s\n",
      "[CV 2/5] END C=10, class_weight=None, gamma=0.01, kernel=linear, random_state=42;, score=0.161 total time=   0.0s\n",
      "[CV 3/5] END C=10, class_weight=None, gamma=0.01, kernel=linear, random_state=42;, score=0.186 total time=   0.0s\n",
      "[CV 4/5] END C=10, class_weight=None, gamma=0.01, kernel=linear, random_state=42;, score=0.193 total time=   0.0s\n",
      "[CV 5/5] END C=10, class_weight=None, gamma=0.01, kernel=linear, random_state=42;, score=0.193 total time=   0.0s\n",
      "[CV 1/5] END C=10, class_weight=None, gamma=scale, kernel=rbf, random_state=42;, score=0.309 total time=   0.0s\n",
      "[CV 2/5] END C=10, class_weight=None, gamma=scale, kernel=rbf, random_state=42;, score=0.224 total time=   0.0s\n",
      "[CV 3/5] END C=10, class_weight=None, gamma=scale, kernel=rbf, random_state=42;, score=0.267 total time=   0.0s\n",
      "[CV 4/5] END C=10, class_weight=None, gamma=scale, kernel=rbf, random_state=42;, score=0.292 total time=   0.0s\n",
      "[CV 5/5] END C=10, class_weight=None, gamma=scale, kernel=rbf, random_state=42;, score=0.224 total time=   0.0s\n",
      "[CV 1/5] END C=10, class_weight=None, gamma=scale, kernel=linear, random_state=42;, score=0.204 total time=   0.0s\n",
      "[CV 2/5] END C=10, class_weight=None, gamma=scale, kernel=linear, random_state=42;, score=0.161 total time=   0.0s\n",
      "[CV 3/5] END C=10, class_weight=None, gamma=scale, kernel=linear, random_state=42;, score=0.186 total time=   0.0s\n",
      "[CV 4/5] END C=10, class_weight=None, gamma=scale, kernel=linear, random_state=42;, score=0.193 total time=   0.0s\n",
      "[CV 5/5] END C=10, class_weight=None, gamma=scale, kernel=linear, random_state=42;, score=0.193 total time=   0.0s\n",
      "[CV 1/5] END C=10, class_weight=None, gamma=scale, kernel=rbf, random_state=42;, score=0.309 total time=   0.0s\n",
      "[CV 2/5] END C=10, class_weight=None, gamma=scale, kernel=rbf, random_state=42;, score=0.224 total time=   0.0s\n",
      "[CV 3/5] END C=10, class_weight=None, gamma=scale, kernel=rbf, random_state=42;, score=0.267 total time=   0.0s\n",
      "[CV 4/5] END C=10, class_weight=None, gamma=scale, kernel=rbf, random_state=42;, score=0.292 total time=   0.0s\n",
      "[CV 5/5] END C=10, class_weight=None, gamma=scale, kernel=rbf, random_state=42;, score=0.224 total time=   0.0s\n",
      "[CV 1/5] END C=10, class_weight=None, gamma=scale, kernel=linear, random_state=42;, score=0.204 total time=   0.0s\n",
      "[CV 2/5] END C=10, class_weight=None, gamma=scale, kernel=linear, random_state=42;, score=0.161 total time=   0.0s\n",
      "[CV 3/5] END C=10, class_weight=None, gamma=scale, kernel=linear, random_state=42;, score=0.186 total time=   0.0s\n",
      "[CV 4/5] END C=10, class_weight=None, gamma=scale, kernel=linear, random_state=42;, score=0.193 total time=   0.0s\n",
      "[CV 5/5] END C=10, class_weight=None, gamma=scale, kernel=linear, random_state=42;, score=0.193 total time=   0.0s\n",
      "[CV 1/5] END C=10, class_weight=None, gamma=auto, kernel=rbf, random_state=42;, score=0.142 total time=   0.0s\n",
      "[CV 2/5] END C=10, class_weight=None, gamma=auto, kernel=rbf, random_state=42;, score=0.161 total time=   0.0s\n",
      "[CV 3/5] END C=10, class_weight=None, gamma=auto, kernel=rbf, random_state=42;, score=0.174 total time=   0.0s\n",
      "[CV 4/5] END C=10, class_weight=None, gamma=auto, kernel=rbf, random_state=42;, score=0.186 total time=   0.0s\n",
      "[CV 5/5] END C=10, class_weight=None, gamma=auto, kernel=rbf, random_state=42;, score=0.155 total time=   0.0s\n",
      "[CV 1/5] END C=10, class_weight=None, gamma=auto, kernel=linear, random_state=42;, score=0.204 total time=   0.0s\n",
      "[CV 2/5] END C=10, class_weight=None, gamma=auto, kernel=linear, random_state=42;, score=0.161 total time=   0.0s\n",
      "[CV 3/5] END C=10, class_weight=None, gamma=auto, kernel=linear, random_state=42;, score=0.186 total time=   0.0s\n",
      "[CV 4/5] END C=10, class_weight=None, gamma=auto, kernel=linear, random_state=42;, score=0.193 total time=   0.0s\n",
      "[CV 5/5] END C=10, class_weight=None, gamma=auto, kernel=linear, random_state=42;, score=0.193 total time=   0.0s\n",
      "[CV 1/5] END C=100, class_weight=balanced, gamma=1, kernel=rbf, random_state=42;, score=0.148 total time=   0.0s\n",
      "[CV 2/5] END C=100, class_weight=balanced, gamma=1, kernel=rbf, random_state=42;, score=0.118 total time=   0.0s\n",
      "[CV 3/5] END C=100, class_weight=balanced, gamma=1, kernel=rbf, random_state=42;, score=0.137 total time=   0.0s\n",
      "[CV 4/5] END C=100, class_weight=balanced, gamma=1, kernel=rbf, random_state=42;, score=0.217 total time=   0.0s\n",
      "[CV 5/5] END C=100, class_weight=balanced, gamma=1, kernel=rbf, random_state=42;, score=0.199 total time=   0.0s\n",
      "[CV 1/5] END C=100, class_weight=balanced, gamma=1, kernel=linear, random_state=42;, score=0.123 total time=   0.0s\n",
      "[CV 2/5] END C=100, class_weight=balanced, gamma=1, kernel=linear, random_state=42;, score=0.143 total time=   0.0s\n",
      "[CV 3/5] END C=100, class_weight=balanced, gamma=1, kernel=linear, random_state=42;, score=0.118 total time=   0.0s\n",
      "[CV 4/5] END C=100, class_weight=balanced, gamma=1, kernel=linear, random_state=42;, score=0.193 total time=   0.0s\n",
      "[CV 5/5] END C=100, class_weight=balanced, gamma=1, kernel=linear, random_state=42;, score=0.211 total time=   0.0s\n",
      "[CV 1/5] END C=100, class_weight=balanced, gamma=0.1, kernel=rbf, random_state=42;, score=0.136 total time=   0.0s\n",
      "[CV 2/5] END C=100, class_weight=balanced, gamma=0.1, kernel=rbf, random_state=42;, score=0.099 total time=   0.0s\n",
      "[CV 3/5] END C=100, class_weight=balanced, gamma=0.1, kernel=rbf, random_state=42;, score=0.124 total time=   0.0s\n",
      "[CV 4/5] END C=100, class_weight=balanced, gamma=0.1, kernel=rbf, random_state=42;, score=0.174 total time=   0.0s\n",
      "[CV 5/5] END C=100, class_weight=balanced, gamma=0.1, kernel=rbf, random_state=42;, score=0.161 total time=   0.0s\n",
      "[CV 1/5] END C=100, class_weight=balanced, gamma=0.1, kernel=linear, random_state=42;, score=0.123 total time=   0.0s\n",
      "[CV 2/5] END C=100, class_weight=balanced, gamma=0.1, kernel=linear, random_state=42;, score=0.143 total time=   0.0s\n",
      "[CV 3/5] END C=100, class_weight=balanced, gamma=0.1, kernel=linear, random_state=42;, score=0.118 total time=   0.0s\n",
      "[CV 4/5] END C=100, class_weight=balanced, gamma=0.1, kernel=linear, random_state=42;, score=0.193 total time=   0.0s\n",
      "[CV 5/5] END C=100, class_weight=balanced, gamma=0.1, kernel=linear, random_state=42;, score=0.211 total time=   0.0s\n",
      "[CV 1/5] END C=100, class_weight=balanced, gamma=0.01, kernel=rbf, random_state=42;, score=0.080 total time=   0.0s\n",
      "[CV 2/5] END C=100, class_weight=balanced, gamma=0.01, kernel=rbf, random_state=42;, score=0.081 total time=   0.0s\n",
      "[CV 3/5] END C=100, class_weight=balanced, gamma=0.01, kernel=rbf, random_state=42;, score=0.093 total time=   0.0s\n",
      "[CV 4/5] END C=100, class_weight=balanced, gamma=0.01, kernel=rbf, random_state=42;, score=0.081 total time=   0.0s\n",
      "[CV 5/5] END C=100, class_weight=balanced, gamma=0.01, kernel=rbf, random_state=42;, score=0.099 total time=   0.0s\n",
      "[CV 1/5] END C=100, class_weight=balanced, gamma=0.01, kernel=linear, random_state=42;, score=0.123 total time=   0.0s\n",
      "[CV 2/5] END C=100, class_weight=balanced, gamma=0.01, kernel=linear, random_state=42;, score=0.143 total time=   0.0s\n",
      "[CV 3/5] END C=100, class_weight=balanced, gamma=0.01, kernel=linear, random_state=42;, score=0.118 total time=   0.0s\n",
      "[CV 4/5] END C=100, class_weight=balanced, gamma=0.01, kernel=linear, random_state=42;, score=0.193 total time=   0.0s\n",
      "[CV 5/5] END C=100, class_weight=balanced, gamma=0.01, kernel=linear, random_state=42;, score=0.211 total time=   0.0s\n",
      "[CV 1/5] END C=100, class_weight=balanced, gamma=scale, kernel=rbf, random_state=42;, score=0.259 total time=   0.0s\n",
      "[CV 2/5] END C=100, class_weight=balanced, gamma=scale, kernel=rbf, random_state=42;, score=0.224 total time=   0.0s\n",
      "[CV 3/5] END C=100, class_weight=balanced, gamma=scale, kernel=rbf, random_state=42;, score=0.255 total time=   0.0s\n",
      "[CV 4/5] END C=100, class_weight=balanced, gamma=scale, kernel=rbf, random_state=42;, score=0.236 total time=   0.0s\n",
      "[CV 5/5] END C=100, class_weight=balanced, gamma=scale, kernel=rbf, random_state=42;, score=0.205 total time=   0.0s\n",
      "[CV 1/5] END C=100, class_weight=balanced, gamma=scale, kernel=linear, random_state=42;, score=0.123 total time=   0.0s\n",
      "[CV 2/5] END C=100, class_weight=balanced, gamma=scale, kernel=linear, random_state=42;, score=0.143 total time=   0.0s\n",
      "[CV 3/5] END C=100, class_weight=balanced, gamma=scale, kernel=linear, random_state=42;, score=0.118 total time=   0.0s\n",
      "[CV 4/5] END C=100, class_weight=balanced, gamma=scale, kernel=linear, random_state=42;, score=0.193 total time=   0.0s\n",
      "[CV 5/5] END C=100, class_weight=balanced, gamma=scale, kernel=linear, random_state=42;, score=0.211 total time=   0.0s\n",
      "[CV 1/5] END C=100, class_weight=balanced, gamma=scale, kernel=rbf, random_state=42;, score=0.259 total time=   0.0s\n",
      "[CV 2/5] END C=100, class_weight=balanced, gamma=scale, kernel=rbf, random_state=42;, score=0.224 total time=   0.0s\n",
      "[CV 3/5] END C=100, class_weight=balanced, gamma=scale, kernel=rbf, random_state=42;, score=0.255 total time=   0.0s\n",
      "[CV 4/5] END C=100, class_weight=balanced, gamma=scale, kernel=rbf, random_state=42;, score=0.236 total time=   0.0s\n",
      "[CV 5/5] END C=100, class_weight=balanced, gamma=scale, kernel=rbf, random_state=42;, score=0.205 total time=   0.0s\n",
      "[CV 1/5] END C=100, class_weight=balanced, gamma=scale, kernel=linear, random_state=42;, score=0.123 total time=   0.0s\n",
      "[CV 2/5] END C=100, class_weight=balanced, gamma=scale, kernel=linear, random_state=42;, score=0.143 total time=   0.0s\n",
      "[CV 3/5] END C=100, class_weight=balanced, gamma=scale, kernel=linear, random_state=42;, score=0.118 total time=   0.0s\n",
      "[CV 4/5] END C=100, class_weight=balanced, gamma=scale, kernel=linear, random_state=42;, score=0.193 total time=   0.0s\n",
      "[CV 5/5] END C=100, class_weight=balanced, gamma=scale, kernel=linear, random_state=42;, score=0.211 total time=   0.0s\n",
      "[CV 1/5] END C=100, class_weight=balanced, gamma=auto, kernel=rbf, random_state=42;, score=0.142 total time=   0.0s\n",
      "[CV 2/5] END C=100, class_weight=balanced, gamma=auto, kernel=rbf, random_state=42;, score=0.106 total time=   0.0s\n",
      "[CV 3/5] END C=100, class_weight=balanced, gamma=auto, kernel=rbf, random_state=42;, score=0.106 total time=   0.0s\n",
      "[CV 4/5] END C=100, class_weight=balanced, gamma=auto, kernel=rbf, random_state=42;, score=0.186 total time=   0.0s\n",
      "[CV 5/5] END C=100, class_weight=balanced, gamma=auto, kernel=rbf, random_state=42;, score=0.193 total time=   0.0s\n",
      "[CV 1/5] END C=100, class_weight=balanced, gamma=auto, kernel=linear, random_state=42;, score=0.123 total time=   0.0s\n",
      "[CV 2/5] END C=100, class_weight=balanced, gamma=auto, kernel=linear, random_state=42;, score=0.143 total time=   0.0s\n",
      "[CV 3/5] END C=100, class_weight=balanced, gamma=auto, kernel=linear, random_state=42;, score=0.118 total time=   0.0s\n",
      "[CV 4/5] END C=100, class_weight=balanced, gamma=auto, kernel=linear, random_state=42;, score=0.193 total time=   0.0s\n",
      "[CV 5/5] END C=100, class_weight=balanced, gamma=auto, kernel=linear, random_state=42;, score=0.211 total time=   0.0s\n",
      "[CV 1/5] END C=100, class_weight=None, gamma=1, kernel=rbf, random_state=42;, score=0.204 total time=   0.0s\n",
      "[CV 2/5] END C=100, class_weight=None, gamma=1, kernel=rbf, random_state=42;, score=0.217 total time=   0.0s\n",
      "[CV 3/5] END C=100, class_weight=None, gamma=1, kernel=rbf, random_state=42;, score=0.186 total time=   0.0s\n",
      "[CV 4/5] END C=100, class_weight=None, gamma=1, kernel=rbf, random_state=42;, score=0.224 total time=   0.0s\n",
      "[CV 5/5] END C=100, class_weight=None, gamma=1, kernel=rbf, random_state=42;, score=0.199 total time=   0.0s\n",
      "[CV 1/5] END C=100, class_weight=None, gamma=1, kernel=linear, random_state=42;, score=0.222 total time=   0.0s\n",
      "[CV 2/5] END C=100, class_weight=None, gamma=1, kernel=linear, random_state=42;, score=0.211 total time=   0.0s\n",
      "[CV 3/5] END C=100, class_weight=None, gamma=1, kernel=linear, random_state=42;, score=0.199 total time=   0.0s\n",
      "[CV 4/5] END C=100, class_weight=None, gamma=1, kernel=linear, random_state=42;, score=0.230 total time=   0.0s\n",
      "[CV 5/5] END C=100, class_weight=None, gamma=1, kernel=linear, random_state=42;, score=0.199 total time=   0.0s\n",
      "[CV 1/5] END C=100, class_weight=None, gamma=0.1, kernel=rbf, random_state=42;, score=0.198 total time=   0.0s\n",
      "[CV 2/5] END C=100, class_weight=None, gamma=0.1, kernel=rbf, random_state=42;, score=0.180 total time=   0.0s\n",
      "[CV 3/5] END C=100, class_weight=None, gamma=0.1, kernel=rbf, random_state=42;, score=0.180 total time=   0.0s\n",
      "[CV 4/5] END C=100, class_weight=None, gamma=0.1, kernel=rbf, random_state=42;, score=0.211 total time=   0.0s\n",
      "[CV 5/5] END C=100, class_weight=None, gamma=0.1, kernel=rbf, random_state=42;, score=0.199 total time=   0.0s\n",
      "[CV 1/5] END C=100, class_weight=None, gamma=0.1, kernel=linear, random_state=42;, score=0.222 total time=   0.0s\n",
      "[CV 2/5] END C=100, class_weight=None, gamma=0.1, kernel=linear, random_state=42;, score=0.211 total time=   0.0s\n",
      "[CV 3/5] END C=100, class_weight=None, gamma=0.1, kernel=linear, random_state=42;, score=0.199 total time=   0.0s\n",
      "[CV 4/5] END C=100, class_weight=None, gamma=0.1, kernel=linear, random_state=42;, score=0.230 total time=   0.0s\n",
      "[CV 5/5] END C=100, class_weight=None, gamma=0.1, kernel=linear, random_state=42;, score=0.199 total time=   0.0s\n",
      "[CV 1/5] END C=100, class_weight=None, gamma=0.01, kernel=rbf, random_state=42;, score=0.136 total time=   0.0s\n",
      "[CV 2/5] END C=100, class_weight=None, gamma=0.01, kernel=rbf, random_state=42;, score=0.124 total time=   0.0s\n",
      "[CV 3/5] END C=100, class_weight=None, gamma=0.01, kernel=rbf, random_state=42;, score=0.118 total time=   0.0s\n",
      "[CV 4/5] END C=100, class_weight=None, gamma=0.01, kernel=rbf, random_state=42;, score=0.130 total time=   0.0s\n",
      "[CV 5/5] END C=100, class_weight=None, gamma=0.01, kernel=rbf, random_state=42;, score=0.143 total time=   0.0s\n",
      "[CV 1/5] END C=100, class_weight=None, gamma=0.01, kernel=linear, random_state=42;, score=0.222 total time=   0.0s\n",
      "[CV 2/5] END C=100, class_weight=None, gamma=0.01, kernel=linear, random_state=42;, score=0.211 total time=   0.0s\n",
      "[CV 3/5] END C=100, class_weight=None, gamma=0.01, kernel=linear, random_state=42;, score=0.199 total time=   0.0s\n",
      "[CV 4/5] END C=100, class_weight=None, gamma=0.01, kernel=linear, random_state=42;, score=0.230 total time=   0.0s\n",
      "[CV 5/5] END C=100, class_weight=None, gamma=0.01, kernel=linear, random_state=42;, score=0.199 total time=   0.0s\n",
      "[CV 1/5] END C=100, class_weight=None, gamma=scale, kernel=rbf, random_state=42;, score=0.309 total time=   0.0s\n",
      "[CV 2/5] END C=100, class_weight=None, gamma=scale, kernel=rbf, random_state=42;, score=0.224 total time=   0.0s\n",
      "[CV 3/5] END C=100, class_weight=None, gamma=scale, kernel=rbf, random_state=42;, score=0.236 total time=   0.0s\n",
      "[CV 4/5] END C=100, class_weight=None, gamma=scale, kernel=rbf, random_state=42;, score=0.242 total time=   0.0s\n",
      "[CV 5/5] END C=100, class_weight=None, gamma=scale, kernel=rbf, random_state=42;, score=0.193 total time=   0.0s\n",
      "[CV 1/5] END C=100, class_weight=None, gamma=scale, kernel=linear, random_state=42;, score=0.222 total time=   0.0s\n",
      "[CV 2/5] END C=100, class_weight=None, gamma=scale, kernel=linear, random_state=42;, score=0.211 total time=   0.0s\n",
      "[CV 3/5] END C=100, class_weight=None, gamma=scale, kernel=linear, random_state=42;, score=0.199 total time=   0.0s\n",
      "[CV 4/5] END C=100, class_weight=None, gamma=scale, kernel=linear, random_state=42;, score=0.230 total time=   0.0s\n",
      "[CV 5/5] END C=100, class_weight=None, gamma=scale, kernel=linear, random_state=42;, score=0.199 total time=   0.0s\n",
      "[CV 1/5] END C=100, class_weight=None, gamma=scale, kernel=rbf, random_state=42;, score=0.309 total time=   0.0s\n",
      "[CV 2/5] END C=100, class_weight=None, gamma=scale, kernel=rbf, random_state=42;, score=0.224 total time=   0.0s\n",
      "[CV 3/5] END C=100, class_weight=None, gamma=scale, kernel=rbf, random_state=42;, score=0.236 total time=   0.0s\n",
      "[CV 4/5] END C=100, class_weight=None, gamma=scale, kernel=rbf, random_state=42;, score=0.242 total time=   0.0s\n",
      "[CV 5/5] END C=100, class_weight=None, gamma=scale, kernel=rbf, random_state=42;, score=0.193 total time=   0.0s\n",
      "[CV 1/5] END C=100, class_weight=None, gamma=scale, kernel=linear, random_state=42;, score=0.222 total time=   0.0s\n",
      "[CV 2/5] END C=100, class_weight=None, gamma=scale, kernel=linear, random_state=42;, score=0.211 total time=   0.0s\n",
      "[CV 3/5] END C=100, class_weight=None, gamma=scale, kernel=linear, random_state=42;, score=0.199 total time=   0.0s\n",
      "[CV 4/5] END C=100, class_weight=None, gamma=scale, kernel=linear, random_state=42;, score=0.230 total time=   0.0s\n",
      "[CV 5/5] END C=100, class_weight=None, gamma=scale, kernel=linear, random_state=42;, score=0.199 total time=   0.0s\n",
      "[CV 1/5] END C=100, class_weight=None, gamma=auto, kernel=rbf, random_state=42;, score=0.222 total time=   0.0s\n",
      "[CV 2/5] END C=100, class_weight=None, gamma=auto, kernel=rbf, random_state=42;, score=0.186 total time=   0.0s\n",
      "[CV 3/5] END C=100, class_weight=None, gamma=auto, kernel=rbf, random_state=42;, score=0.186 total time=   0.0s\n",
      "[CV 4/5] END C=100, class_weight=None, gamma=auto, kernel=rbf, random_state=42;, score=0.236 total time=   0.0s\n",
      "[CV 5/5] END C=100, class_weight=None, gamma=auto, kernel=rbf, random_state=42;, score=0.205 total time=   0.0s\n",
      "[CV 1/5] END C=100, class_weight=None, gamma=auto, kernel=linear, random_state=42;, score=0.222 total time=   0.0s\n",
      "[CV 2/5] END C=100, class_weight=None, gamma=auto, kernel=linear, random_state=42;, score=0.211 total time=   0.0s\n",
      "[CV 3/5] END C=100, class_weight=None, gamma=auto, kernel=linear, random_state=42;, score=0.199 total time=   0.0s\n",
      "[CV 4/5] END C=100, class_weight=None, gamma=auto, kernel=linear, random_state=42;, score=0.230 total time=   0.0s\n",
      "[CV 5/5] END C=100, class_weight=None, gamma=auto, kernel=linear, random_state=42;, score=0.199 total time=   0.0s\n",
      "[CV 1/5] END C=1000, class_weight=balanced, gamma=1, kernel=rbf, random_state=42;, score=0.154 total time=   0.0s\n",
      "[CV 2/5] END C=1000, class_weight=balanced, gamma=1, kernel=rbf, random_state=42;, score=0.155 total time=   0.0s\n",
      "[CV 3/5] END C=1000, class_weight=balanced, gamma=1, kernel=rbf, random_state=42;, score=0.174 total time=   0.0s\n",
      "[CV 4/5] END C=1000, class_weight=balanced, gamma=1, kernel=rbf, random_state=42;, score=0.180 total time=   0.0s\n",
      "[CV 5/5] END C=1000, class_weight=balanced, gamma=1, kernel=rbf, random_state=42;, score=0.161 total time=   0.0s\n",
      "[CV 1/5] END C=1000, class_weight=balanced, gamma=1, kernel=linear, random_state=42;, score=0.167 total time=   0.0s\n",
      "[CV 2/5] END C=1000, class_weight=balanced, gamma=1, kernel=linear, random_state=42;, score=0.149 total time=   0.0s\n",
      "[CV 3/5] END C=1000, class_weight=balanced, gamma=1, kernel=linear, random_state=42;, score=0.130 total time=   0.0s\n",
      "[CV 4/5] END C=1000, class_weight=balanced, gamma=1, kernel=linear, random_state=42;, score=0.205 total time=   0.0s\n",
      "[CV 5/5] END C=1000, class_weight=balanced, gamma=1, kernel=linear, random_state=42;, score=0.193 total time=   0.0s\n",
      "[CV 1/5] END C=1000, class_weight=balanced, gamma=0.1, kernel=rbf, random_state=42;, score=0.142 total time=   0.0s\n",
      "[CV 2/5] END C=1000, class_weight=balanced, gamma=0.1, kernel=rbf, random_state=42;, score=0.130 total time=   0.0s\n",
      "[CV 3/5] END C=1000, class_weight=balanced, gamma=0.1, kernel=rbf, random_state=42;, score=0.118 total time=   0.0s\n",
      "[CV 4/5] END C=1000, class_weight=balanced, gamma=0.1, kernel=rbf, random_state=42;, score=0.211 total time=   0.0s\n",
      "[CV 5/5] END C=1000, class_weight=balanced, gamma=0.1, kernel=rbf, random_state=42;, score=0.211 total time=   0.0s\n",
      "[CV 1/5] END C=1000, class_weight=balanced, gamma=0.1, kernel=linear, random_state=42;, score=0.167 total time=   0.0s\n",
      "[CV 2/5] END C=1000, class_weight=balanced, gamma=0.1, kernel=linear, random_state=42;, score=0.149 total time=   0.0s\n",
      "[CV 3/5] END C=1000, class_weight=balanced, gamma=0.1, kernel=linear, random_state=42;, score=0.130 total time=   0.0s\n",
      "[CV 4/5] END C=1000, class_weight=balanced, gamma=0.1, kernel=linear, random_state=42;, score=0.205 total time=   0.0s\n",
      "[CV 5/5] END C=1000, class_weight=balanced, gamma=0.1, kernel=linear, random_state=42;, score=0.193 total time=   0.0s\n",
      "[CV 1/5] END C=1000, class_weight=balanced, gamma=0.01, kernel=rbf, random_state=42;, score=0.136 total time=   0.0s\n",
      "[CV 2/5] END C=1000, class_weight=balanced, gamma=0.01, kernel=rbf, random_state=42;, score=0.099 total time=   0.0s\n",
      "[CV 3/5] END C=1000, class_weight=balanced, gamma=0.01, kernel=rbf, random_state=42;, score=0.124 total time=   0.0s\n",
      "[CV 4/5] END C=1000, class_weight=balanced, gamma=0.01, kernel=rbf, random_state=42;, score=0.174 total time=   0.0s\n",
      "[CV 5/5] END C=1000, class_weight=balanced, gamma=0.01, kernel=rbf, random_state=42;, score=0.161 total time=   0.0s\n",
      "[CV 1/5] END C=1000, class_weight=balanced, gamma=0.01, kernel=linear, random_state=42;, score=0.167 total time=   0.0s\n",
      "[CV 2/5] END C=1000, class_weight=balanced, gamma=0.01, kernel=linear, random_state=42;, score=0.149 total time=   0.0s\n",
      "[CV 3/5] END C=1000, class_weight=balanced, gamma=0.01, kernel=linear, random_state=42;, score=0.130 total time=   0.0s\n",
      "[CV 4/5] END C=1000, class_weight=balanced, gamma=0.01, kernel=linear, random_state=42;, score=0.205 total time=   0.0s\n",
      "[CV 5/5] END C=1000, class_weight=balanced, gamma=0.01, kernel=linear, random_state=42;, score=0.193 total time=   0.0s\n",
      "[CV 1/5] END C=1000, class_weight=balanced, gamma=scale, kernel=rbf, random_state=42;, score=0.235 total time=   0.0s\n",
      "[CV 2/5] END C=1000, class_weight=balanced, gamma=scale, kernel=rbf, random_state=42;, score=0.255 total time=   0.0s\n",
      "[CV 3/5] END C=1000, class_weight=balanced, gamma=scale, kernel=rbf, random_state=42;, score=0.267 total time=   0.0s\n",
      "[CV 4/5] END C=1000, class_weight=balanced, gamma=scale, kernel=rbf, random_state=42;, score=0.193 total time=   0.1s\n",
      "[CV 5/5] END C=1000, class_weight=balanced, gamma=scale, kernel=rbf, random_state=42;, score=0.205 total time=   0.0s\n",
      "[CV 1/5] END C=1000, class_weight=balanced, gamma=scale, kernel=linear, random_state=42;, score=0.167 total time=   0.0s\n",
      "[CV 2/5] END C=1000, class_weight=balanced, gamma=scale, kernel=linear, random_state=42;, score=0.149 total time=   0.0s\n",
      "[CV 3/5] END C=1000, class_weight=balanced, gamma=scale, kernel=linear, random_state=42;, score=0.130 total time=   0.0s\n",
      "[CV 4/5] END C=1000, class_weight=balanced, gamma=scale, kernel=linear, random_state=42;, score=0.205 total time=   0.0s\n",
      "[CV 5/5] END C=1000, class_weight=balanced, gamma=scale, kernel=linear, random_state=42;, score=0.193 total time=   0.0s\n",
      "[CV 1/5] END C=1000, class_weight=balanced, gamma=scale, kernel=rbf, random_state=42;, score=0.235 total time=   0.0s\n",
      "[CV 2/5] END C=1000, class_weight=balanced, gamma=scale, kernel=rbf, random_state=42;, score=0.255 total time=   0.0s\n",
      "[CV 3/5] END C=1000, class_weight=balanced, gamma=scale, kernel=rbf, random_state=42;, score=0.267 total time=   0.0s\n",
      "[CV 4/5] END C=1000, class_weight=balanced, gamma=scale, kernel=rbf, random_state=42;, score=0.193 total time=   0.0s\n",
      "[CV 5/5] END C=1000, class_weight=balanced, gamma=scale, kernel=rbf, random_state=42;, score=0.205 total time=   0.0s\n",
      "[CV 1/5] END C=1000, class_weight=balanced, gamma=scale, kernel=linear, random_state=42;, score=0.167 total time=   0.0s\n",
      "[CV 2/5] END C=1000, class_weight=balanced, gamma=scale, kernel=linear, random_state=42;, score=0.149 total time=   0.0s\n",
      "[CV 3/5] END C=1000, class_weight=balanced, gamma=scale, kernel=linear, random_state=42;, score=0.130 total time=   0.0s\n",
      "[CV 4/5] END C=1000, class_weight=balanced, gamma=scale, kernel=linear, random_state=42;, score=0.205 total time=   0.0s\n",
      "[CV 5/5] END C=1000, class_weight=balanced, gamma=scale, kernel=linear, random_state=42;, score=0.193 total time=   0.0s\n",
      "[CV 1/5] END C=1000, class_weight=balanced, gamma=auto, kernel=rbf, random_state=42;, score=0.130 total time=   0.0s\n",
      "[CV 2/5] END C=1000, class_weight=balanced, gamma=auto, kernel=rbf, random_state=42;, score=0.118 total time=   0.0s\n",
      "[CV 3/5] END C=1000, class_weight=balanced, gamma=auto, kernel=rbf, random_state=42;, score=0.124 total time=   0.0s\n",
      "[CV 4/5] END C=1000, class_weight=balanced, gamma=auto, kernel=rbf, random_state=42;, score=0.199 total time=   0.0s\n",
      "[CV 5/5] END C=1000, class_weight=balanced, gamma=auto, kernel=rbf, random_state=42;, score=0.205 total time=   0.0s\n",
      "[CV 1/5] END C=1000, class_weight=balanced, gamma=auto, kernel=linear, random_state=42;, score=0.167 total time=   0.0s\n",
      "[CV 2/5] END C=1000, class_weight=balanced, gamma=auto, kernel=linear, random_state=42;, score=0.149 total time=   0.0s\n",
      "[CV 3/5] END C=1000, class_weight=balanced, gamma=auto, kernel=linear, random_state=42;, score=0.130 total time=   0.0s\n",
      "[CV 4/5] END C=1000, class_weight=balanced, gamma=auto, kernel=linear, random_state=42;, score=0.205 total time=   0.0s\n",
      "[CV 5/5] END C=1000, class_weight=balanced, gamma=auto, kernel=linear, random_state=42;, score=0.193 total time=   0.0s\n",
      "[CV 1/5] END C=1000, class_weight=None, gamma=1, kernel=rbf, random_state=42;, score=0.247 total time=   0.0s\n",
      "[CV 2/5] END C=1000, class_weight=None, gamma=1, kernel=rbf, random_state=42;, score=0.217 total time=   0.0s\n",
      "[CV 3/5] END C=1000, class_weight=None, gamma=1, kernel=rbf, random_state=42;, score=0.205 total time=   0.0s\n",
      "[CV 4/5] END C=1000, class_weight=None, gamma=1, kernel=rbf, random_state=42;, score=0.224 total time=   0.0s\n",
      "[CV 5/5] END C=1000, class_weight=None, gamma=1, kernel=rbf, random_state=42;, score=0.224 total time=   0.0s\n",
      "[CV 1/5] END C=1000, class_weight=None, gamma=1, kernel=linear, random_state=42;, score=0.204 total time=   0.0s\n",
      "[CV 2/5] END C=1000, class_weight=None, gamma=1, kernel=linear, random_state=42;, score=0.217 total time=   0.0s\n",
      "[CV 3/5] END C=1000, class_weight=None, gamma=1, kernel=linear, random_state=42;, score=0.236 total time=   0.0s\n",
      "[CV 4/5] END C=1000, class_weight=None, gamma=1, kernel=linear, random_state=42;, score=0.224 total time=   0.0s\n",
      "[CV 5/5] END C=1000, class_weight=None, gamma=1, kernel=linear, random_state=42;, score=0.205 total time=   0.0s\n",
      "[CV 1/5] END C=1000, class_weight=None, gamma=0.1, kernel=rbf, random_state=42;, score=0.222 total time=   0.0s\n",
      "[CV 2/5] END C=1000, class_weight=None, gamma=0.1, kernel=rbf, random_state=42;, score=0.211 total time=   0.0s\n",
      "[CV 3/5] END C=1000, class_weight=None, gamma=0.1, kernel=rbf, random_state=42;, score=0.211 total time=   0.0s\n",
      "[CV 4/5] END C=1000, class_weight=None, gamma=0.1, kernel=rbf, random_state=42;, score=0.236 total time=   0.0s\n",
      "[CV 5/5] END C=1000, class_weight=None, gamma=0.1, kernel=rbf, random_state=42;, score=0.199 total time=   0.0s\n",
      "[CV 1/5] END C=1000, class_weight=None, gamma=0.1, kernel=linear, random_state=42;, score=0.204 total time=   0.0s\n",
      "[CV 2/5] END C=1000, class_weight=None, gamma=0.1, kernel=linear, random_state=42;, score=0.217 total time=   0.0s\n",
      "[CV 3/5] END C=1000, class_weight=None, gamma=0.1, kernel=linear, random_state=42;, score=0.236 total time=   0.0s\n",
      "[CV 4/5] END C=1000, class_weight=None, gamma=0.1, kernel=linear, random_state=42;, score=0.224 total time=   0.0s\n",
      "[CV 5/5] END C=1000, class_weight=None, gamma=0.1, kernel=linear, random_state=42;, score=0.205 total time=   0.0s\n",
      "[CV 1/5] END C=1000, class_weight=None, gamma=0.01, kernel=rbf, random_state=42;, score=0.198 total time=   0.0s\n",
      "[CV 2/5] END C=1000, class_weight=None, gamma=0.01, kernel=rbf, random_state=42;, score=0.180 total time=   0.0s\n",
      "[CV 3/5] END C=1000, class_weight=None, gamma=0.01, kernel=rbf, random_state=42;, score=0.180 total time=   0.0s\n",
      "[CV 4/5] END C=1000, class_weight=None, gamma=0.01, kernel=rbf, random_state=42;, score=0.205 total time=   0.0s\n",
      "[CV 5/5] END C=1000, class_weight=None, gamma=0.01, kernel=rbf, random_state=42;, score=0.199 total time=   0.0s\n",
      "[CV 1/5] END C=1000, class_weight=None, gamma=0.01, kernel=linear, random_state=42;, score=0.204 total time=   0.0s\n",
      "[CV 2/5] END C=1000, class_weight=None, gamma=0.01, kernel=linear, random_state=42;, score=0.217 total time=   0.0s\n",
      "[CV 3/5] END C=1000, class_weight=None, gamma=0.01, kernel=linear, random_state=42;, score=0.236 total time=   0.0s\n",
      "[CV 4/5] END C=1000, class_weight=None, gamma=0.01, kernel=linear, random_state=42;, score=0.224 total time=   0.0s\n",
      "[CV 5/5] END C=1000, class_weight=None, gamma=0.01, kernel=linear, random_state=42;, score=0.205 total time=   0.0s\n",
      "[CV 1/5] END C=1000, class_weight=None, gamma=scale, kernel=rbf, random_state=42;, score=0.259 total time=   0.0s\n",
      "[CV 2/5] END C=1000, class_weight=None, gamma=scale, kernel=rbf, random_state=42;, score=0.267 total time=   0.0s\n",
      "[CV 3/5] END C=1000, class_weight=None, gamma=scale, kernel=rbf, random_state=42;, score=0.255 total time=   0.2s\n",
      "[CV 4/5] END C=1000, class_weight=None, gamma=scale, kernel=rbf, random_state=42;, score=0.217 total time=   0.0s\n",
      "[CV 5/5] END C=1000, class_weight=None, gamma=scale, kernel=rbf, random_state=42;, score=0.205 total time=   0.1s\n",
      "[CV 1/5] END C=1000, class_weight=None, gamma=scale, kernel=linear, random_state=42;, score=0.204 total time=   0.0s\n",
      "[CV 2/5] END C=1000, class_weight=None, gamma=scale, kernel=linear, random_state=42;, score=0.217 total time=   0.0s\n",
      "[CV 3/5] END C=1000, class_weight=None, gamma=scale, kernel=linear, random_state=42;, score=0.236 total time=   0.0s\n",
      "[CV 4/5] END C=1000, class_weight=None, gamma=scale, kernel=linear, random_state=42;, score=0.224 total time=   0.0s\n",
      "[CV 5/5] END C=1000, class_weight=None, gamma=scale, kernel=linear, random_state=42;, score=0.205 total time=   0.0s\n",
      "[CV 1/5] END C=1000, class_weight=None, gamma=scale, kernel=rbf, random_state=42;, score=0.259 total time=   0.0s\n",
      "[CV 2/5] END C=1000, class_weight=None, gamma=scale, kernel=rbf, random_state=42;, score=0.267 total time=   0.1s\n",
      "[CV 3/5] END C=1000, class_weight=None, gamma=scale, kernel=rbf, random_state=42;, score=0.255 total time=   0.0s\n",
      "[CV 4/5] END C=1000, class_weight=None, gamma=scale, kernel=rbf, random_state=42;, score=0.217 total time=   0.2s\n",
      "[CV 5/5] END C=1000, class_weight=None, gamma=scale, kernel=rbf, random_state=42;, score=0.205 total time=   0.0s\n",
      "[CV 1/5] END C=1000, class_weight=None, gamma=scale, kernel=linear, random_state=42;, score=0.204 total time=   0.1s\n",
      "[CV 2/5] END C=1000, class_weight=None, gamma=scale, kernel=linear, random_state=42;, score=0.217 total time=   0.0s\n",
      "[CV 3/5] END C=1000, class_weight=None, gamma=scale, kernel=linear, random_state=42;, score=0.236 total time=   0.0s\n",
      "[CV 4/5] END C=1000, class_weight=None, gamma=scale, kernel=linear, random_state=42;, score=0.224 total time=   0.0s\n",
      "[CV 5/5] END C=1000, class_weight=None, gamma=scale, kernel=linear, random_state=42;, score=0.205 total time=   0.0s\n",
      "[CV 1/5] END C=1000, class_weight=None, gamma=auto, kernel=rbf, random_state=42;, score=0.198 total time=   0.0s\n",
      "[CV 2/5] END C=1000, class_weight=None, gamma=auto, kernel=rbf, random_state=42;, score=0.199 total time=   0.0s\n",
      "[CV 3/5] END C=1000, class_weight=None, gamma=auto, kernel=rbf, random_state=42;, score=0.211 total time=   0.0s\n",
      "[CV 4/5] END C=1000, class_weight=None, gamma=auto, kernel=rbf, random_state=42;, score=0.236 total time=   0.0s\n",
      "[CV 5/5] END C=1000, class_weight=None, gamma=auto, kernel=rbf, random_state=42;, score=0.205 total time=   0.0s\n",
      "[CV 1/5] END C=1000, class_weight=None, gamma=auto, kernel=linear, random_state=42;, score=0.204 total time=   0.0s\n",
      "[CV 2/5] END C=1000, class_weight=None, gamma=auto, kernel=linear, random_state=42;, score=0.217 total time=   0.0s\n",
      "[CV 3/5] END C=1000, class_weight=None, gamma=auto, kernel=linear, random_state=42;, score=0.236 total time=   0.0s\n",
      "[CV 4/5] END C=1000, class_weight=None, gamma=auto, kernel=linear, random_state=42;, score=0.224 total time=   0.0s\n",
      "[CV 5/5] END C=1000, class_weight=None, gamma=auto, kernel=linear, random_state=42;, score=0.205 total time=   0.0s\n",
      "BEST PARAMS {'C': 1, 'class_weight': None, 'gamma': 'scale', 'kernel': 'rbf', 'random_state': 42}\n",
      "BEST ESTIMATOR SVC(C=1, random_state=42)\n",
      "CLASSIFICATION REPORT\n",
      "               precision    recall  f1-score   support\n",
      "\n",
      "         Bug       0.35      0.44      0.39        18\n",
      "        Dark       0.00      0.00      0.00         9\n",
      "      Dragon       0.00      0.00      0.00         7\n",
      "    Electric       0.27      0.25      0.26        12\n",
      "       Fairy       0.00      0.00      0.00         6\n",
      "    Fighting       0.27      0.38      0.32         8\n",
      "        Fire       0.30      0.23      0.26        13\n",
      "      Flying       0.00      0.00      0.00         2\n",
      "       Ghost       0.00      0.00      0.00         7\n",
      "       Grass       0.25      0.16      0.19        19\n",
      "      Ground       0.50      0.22      0.31         9\n",
      "         Ice       0.00      0.00      0.00         4\n",
      "      Normal       0.27      0.57      0.37        23\n",
      "      Poison       0.00      0.00      0.00         8\n",
      "     Psychic       0.28      0.42      0.33        12\n",
      "        Rock       0.25      0.27      0.26        11\n",
      "       Steel       0.50      0.14      0.22         7\n",
      "       Water       0.26      0.48      0.34        27\n",
      "\n",
      "    accuracy                           0.28       202\n",
      "   macro avg       0.19      0.20      0.18       202\n",
      "weighted avg       0.24      0.28      0.24       202\n",
      "\n"
     ]
    },
    {
     "name": "stderr",
     "output_type": "stream",
     "text": [
      "c:\\users\\chamu\\appdata\\local\\programs\\python\\python37\\lib\\site-packages\\sklearn\\metrics\\_classification.py:1318: UndefinedMetricWarning: Precision and F-score are ill-defined and being set to 0.0 in labels with no predicted samples. Use `zero_division` parameter to control this behavior.\n",
      "  _warn_prf(average, modifier, msg_start, len(result))\n",
      "c:\\users\\chamu\\appdata\\local\\programs\\python\\python37\\lib\\site-packages\\sklearn\\metrics\\_classification.py:1318: UndefinedMetricWarning: Precision and F-score are ill-defined and being set to 0.0 in labels with no predicted samples. Use `zero_division` parameter to control this behavior.\n",
      "  _warn_prf(average, modifier, msg_start, len(result))\n",
      "c:\\users\\chamu\\appdata\\local\\programs\\python\\python37\\lib\\site-packages\\sklearn\\metrics\\_classification.py:1318: UndefinedMetricWarning: Precision and F-score are ill-defined and being set to 0.0 in labels with no predicted samples. Use `zero_division` parameter to control this behavior.\n",
      "  _warn_prf(average, modifier, msg_start, len(result))\n"
     ]
    }
   ],
   "source": [
    "from sklearn.model_selection import GridSearchCV\n",
    "\n",
    "# defining parameter range\n",
    "param_grid = {'C': [0.1, 1, 10, 100, 1000],\n",
    "              'gamma': [1, 0.1, 0.01, 'scale', 'scale', 'auto'],\n",
    "              'kernel': ['rbf', 'linear'],\n",
    "              'random_state': [42],  # remove randomness\n",
    "              'class_weight': ['balanced', None]}\n",
    "\n",
    "grid = GridSearchCV(SVC(), param_grid, refit=True, verbose=3)\n",
    "\n",
    "# fitting the model for grid search\n",
    "grid.fit(X_train, y_train)\n",
    "\n",
    "# print best parameter after tuning\n",
    "print(\"BEST PARAMS\", grid.best_params_)\n",
    "\n",
    "# print how our model looks after hyper-parameter tuning\n",
    "print(\"BEST ESTIMATOR\", grid.best_estimator_)\n",
    "\n",
    "grid_predictions = grid.predict(X_test)\n",
    "\n",
    "# print classification report\n",
    "print(\"CLASSIFICATION REPORT\\n\", classification_report(y_test, grid_predictions))"
   ],
   "metadata": {
    "collapsed": false,
    "ExecuteTime": {
     "start_time": "2023-04-04T13:48:49.168098Z",
     "end_time": "2023-04-04T13:49:23.657841Z"
    }
   }
  },
  {
   "cell_type": "markdown",
   "id": "d698e9ea",
   "metadata": {},
   "source": [
    "# SVM"
   ]
  },
  {
   "cell_type": "code",
   "execution_count": 13,
   "id": "bc183cd9",
   "metadata": {
    "ExecuteTime": {
     "start_time": "2023-04-03T23:03:57.448870Z",
     "end_time": "2023-04-03T23:03:57.917867Z"
    }
   },
   "outputs": [
    {
     "name": "stdout",
     "output_type": "stream",
     "text": [
      "For test set:\n",
      "Confusion Matrix:  [[ 8  0  0  1  0  1  0  0  0  0  0  0  2  0  3  0  1  2]\n",
      " [ 1  0  0  0  0  0  1  0  0  0  0  0  4  0  1  0  0  2]\n",
      " [ 1  0  0  1  0  0  1  0  0  0  0  0  2  0  0  0  0  2]\n",
      " [ 0  0  0  3  0  0  2  0  0  1  0  0  2  0  2  0  0  2]\n",
      " [ 0  0  0  0  0  1  0  0  0  0  0  0  1  0  1  0  0  3]\n",
      " [ 0  0  0  0  0  3  1  0  0  0  0  0  3  0  0  0  0  1]\n",
      " [ 0  1  0  1  0  1  3  0  0  1  0  0  0  0  1  0  0  5]\n",
      " [ 0  0  0  0  0  0  0  0  0  0  0  0  2  0  0  0  0  0]\n",
      " [ 0  0  0  1  0  0  0  0  0  0  0  0  0  0  3  3  0  0]\n",
      " [ 3  0  0  2  0  0  0  0  0  3  0  0  3  0  1  1  0  6]\n",
      " [ 2  0  0  0  0  1  0  0  0  0  2  0  3  0  0  1  0  0]\n",
      " [ 0  0  0  0  0  0  0  0  0  1  0  0  1  0  0  1  0  1]\n",
      " [ 2  0  0  0  0  2  0  0  0  0  1  0 13  0  0  0  0  5]\n",
      " [ 1  0  0  0  0  1  0  0  0  2  0  0  3  0  0  0  0  1]\n",
      " [ 0  0  0  0  0  1  0  0  0  2  0  0  2  0  5  0  0  2]\n",
      " [ 2  0  0  0  0  0  0  0  0  1  1  0  0  0  1  3  0  3]\n",
      " [ 1  0  0  0  0  0  0  0  0  0  0  0  1  0  0  2  1  2]\n",
      " [ 2  0  0  2  0  0  2  0  0  1  0  0  6  0  0  1  0 13]]\n",
      "Accuracy :  28.217821782178216\n",
      "Report :                precision    recall  f1-score   support\n",
      "\n",
      "         Bug       0.35      0.44      0.39        18\n",
      "        Dark       0.00      0.00      0.00         9\n",
      "      Dragon       0.00      0.00      0.00         7\n",
      "    Electric       0.27      0.25      0.26        12\n",
      "       Fairy       0.00      0.00      0.00         6\n",
      "    Fighting       0.27      0.38      0.32         8\n",
      "        Fire       0.30      0.23      0.26        13\n",
      "      Flying       0.00      0.00      0.00         2\n",
      "       Ghost       0.00      0.00      0.00         7\n",
      "       Grass       0.25      0.16      0.19        19\n",
      "      Ground       0.50      0.22      0.31         9\n",
      "         Ice       0.00      0.00      0.00         4\n",
      "      Normal       0.27      0.57      0.37        23\n",
      "      Poison       0.00      0.00      0.00         8\n",
      "     Psychic       0.28      0.42      0.33        12\n",
      "        Rock       0.25      0.27      0.26        11\n",
      "       Steel       0.50      0.14      0.22         7\n",
      "       Water       0.26      0.48      0.34        27\n",
      "\n",
      "    accuracy                           0.28       202\n",
      "   macro avg       0.19      0.20      0.18       202\n",
      "weighted avg       0.24      0.28      0.24       202\n",
      "\n",
      "For train set:\n"
     ]
    },
    {
     "name": "stderr",
     "output_type": "stream",
     "text": [
      "c:\\users\\chamu\\appdata\\local\\programs\\python\\python37\\lib\\site-packages\\sklearn\\metrics\\_classification.py:1318: UndefinedMetricWarning: Precision and F-score are ill-defined and being set to 0.0 in labels with no predicted samples. Use `zero_division` parameter to control this behavior.\n",
      "  _warn_prf(average, modifier, msg_start, len(result))\n",
      "c:\\users\\chamu\\appdata\\local\\programs\\python\\python37\\lib\\site-packages\\sklearn\\metrics\\_classification.py:1318: UndefinedMetricWarning: Precision and F-score are ill-defined and being set to 0.0 in labels with no predicted samples. Use `zero_division` parameter to control this behavior.\n",
      "  _warn_prf(average, modifier, msg_start, len(result))\n",
      "c:\\users\\chamu\\appdata\\local\\programs\\python\\python37\\lib\\site-packages\\sklearn\\metrics\\_classification.py:1318: UndefinedMetricWarning: Precision and F-score are ill-defined and being set to 0.0 in labels with no predicted samples. Use `zero_division` parameter to control this behavior.\n",
      "  _warn_prf(average, modifier, msg_start, len(result))\n"
     ]
    },
    {
     "name": "stdout",
     "output_type": "stream",
     "text": [
      "Confusion Matrix:  [[28  0  0  6  0  3  4  0  0  4  1  0 17  0  2  2  1  5]\n",
      " [ 3  1  0  1  0  1  8  0  0  2  0  0 10  0  1  2  0  7]\n",
      " [ 1  0  0  0  0  3  4  0  0  2  0  0  6  0  1  0  1 12]\n",
      " [ 3  0  0 13  0  0 11  0  0  3  0  0  3  0  4  0  0  9]\n",
      " [ 5  0  0  0  0  1  1  0  0  3  0  0  4  0  1  0  0  8]\n",
      " [ 2  0  0  0  0 13  1  0  0  1  1  0 12  0  0  0  0  2]\n",
      " [ 0  0  0  0  0  1 22  0  0  5  0  0 10  0  3  1  0  8]\n",
      " [ 1  0  0  3  0  0  2  0  0  0  0  0  2  0  0  0  0  1]\n",
      " [ 7  0  0  1  0  1  2  0  0  6  0  0  1  0  7  1  0  3]\n",
      " [ 6  0  0  2  0  3  6  0  0 23  1  0  8  0  3  1  1 23]\n",
      " [ 4  0  0  0  0  3  0  0  0  1  9  0  9  0  0  0  2  6]\n",
      " [ 1  0  0  0  0  0  0  0  0  1  0  2  1  0  1  1  0 11]\n",
      " [ 3  0  0  1  0  0  2  0  0  4  0  0 67  0  1  0  0 15]\n",
      " [ 1  0  0  3  0  1  3  0  0  1  0  0 11  0  1  1  0  8]\n",
      " [ 2  0  0  4  0  0  4  0  0  5  0  0  0  0 18  1  0 14]\n",
      " [ 6  0  0  0  0  2  1  0  0  2  0  0  5  0  2 22  0  6]\n",
      " [ 7  0  0  0  0  0  0  0  0  0  1  0  2  0  1  3  6  7]\n",
      " [ 4  0  0  5  0  0  7  0  0  5  1  0 14  0  2  0  1 66]]\n",
      "Accuracy :  35.98014888337469\n",
      "Report :                precision    recall  f1-score   support\n",
      "\n",
      "         Bug       0.33      0.38      0.36        73\n",
      "        Dark       1.00      0.03      0.05        36\n",
      "      Dragon       0.00      0.00      0.00        30\n",
      "    Electric       0.33      0.28      0.31        46\n",
      "       Fairy       0.00      0.00      0.00        23\n",
      "    Fighting       0.41      0.41      0.41        32\n",
      "        Fire       0.28      0.44      0.34        50\n",
      "      Flying       0.00      0.00      0.00         9\n",
      "       Ghost       0.00      0.00      0.00        29\n",
      "       Grass       0.34      0.30      0.32        77\n",
      "      Ground       0.64      0.26      0.37        34\n",
      "         Ice       1.00      0.11      0.20        18\n",
      "      Normal       0.37      0.72      0.49        93\n",
      "      Poison       0.00      0.00      0.00        30\n",
      "     Psychic       0.38      0.38      0.38        48\n",
      "        Rock       0.63      0.48      0.54        46\n",
      "       Steel       0.50      0.22      0.31        27\n",
      "       Water       0.31      0.63      0.42       105\n",
      "\n",
      "    accuracy                           0.36       806\n",
      "   macro avg       0.36      0.26      0.25       806\n",
      "weighted avg       0.37      0.36      0.31       806\n",
      "\n"
     ]
    },
    {
     "name": "stderr",
     "output_type": "stream",
     "text": [
      "c:\\users\\chamu\\appdata\\local\\programs\\python\\python37\\lib\\site-packages\\sklearn\\metrics\\_classification.py:1318: UndefinedMetricWarning: Precision and F-score are ill-defined and being set to 0.0 in labels with no predicted samples. Use `zero_division` parameter to control this behavior.\n",
      "  _warn_prf(average, modifier, msg_start, len(result))\n",
      "c:\\users\\chamu\\appdata\\local\\programs\\python\\python37\\lib\\site-packages\\sklearn\\metrics\\_classification.py:1318: UndefinedMetricWarning: Precision and F-score are ill-defined and being set to 0.0 in labels with no predicted samples. Use `zero_division` parameter to control this behavior.\n",
      "  _warn_prf(average, modifier, msg_start, len(result))\n",
      "c:\\users\\chamu\\appdata\\local\\programs\\python\\python37\\lib\\site-packages\\sklearn\\metrics\\_classification.py:1318: UndefinedMetricWarning: Precision and F-score are ill-defined and being set to 0.0 in labels with no predicted samples. Use `zero_division` parameter to control this behavior.\n",
      "  _warn_prf(average, modifier, msg_start, len(result))\n"
     ]
    }
   ],
   "source": [
    "svc_class = SVC(kernel='rbf')\n",
    "\n",
    "# SVM training\n",
    "svm_model = svc_class.fit(X_train,y_train)\n",
    "\n",
    "# Prediction \n",
    "print(\"For test set:\")\n",
    "y_pred = svm_model.predict(X_test)\n",
    "print(\"Confusion Matrix: \",\n",
    "confusion_matrix(y_test, y_pred))\n",
    "\n",
    "print (\"Accuracy : \",\n",
    "accuracy_score(y_test,y_pred)*100)\n",
    "\n",
    "print(\"Report : \",\n",
    "classification_report(y_test, y_pred))\n",
    "\n",
    "print(\"For train set:\")\n",
    "y_pred = svm_model.predict(X_train)\n",
    "print(\"Confusion Matrix: \",\n",
    "confusion_matrix(y_train, y_pred))\n",
    "\n",
    "print (\"Accuracy : \",\n",
    "accuracy_score(y_train,y_pred)*100)\n",
    "\n",
    "print(\"Report : \",\n",
    "classification_report(y_train, y_pred))"
   ]
  },
  {
   "cell_type": "markdown",
   "source": [
    "# SVM Hyperparameter Tuning using GridSearchCV (instead of validation set)"
   ],
   "metadata": {
    "collapsed": false
   }
  },
  {
   "cell_type": "code",
   "execution_count": 41,
   "outputs": [
    {
     "name": "stdout",
     "output_type": "stream",
     "text": [
      "Fitting 5 folds for each of 120 candidates, totalling 600 fits\n",
      "[CV 1/5] END C=0.1, class_weight=balanced, gamma=1, kernel=rbf, random_state=42;, score=0.130 total time=   0.0s\n",
      "[CV 2/5] END C=0.1, class_weight=balanced, gamma=1, kernel=rbf, random_state=42;, score=0.081 total time=   0.0s\n",
      "[CV 3/5] END C=0.1, class_weight=balanced, gamma=1, kernel=rbf, random_state=42;, score=0.087 total time=   0.0s\n",
      "[CV 4/5] END C=0.1, class_weight=balanced, gamma=1, kernel=rbf, random_state=42;, score=0.062 total time=   0.0s\n",
      "[CV 5/5] END C=0.1, class_weight=balanced, gamma=1, kernel=rbf, random_state=42;, score=0.075 total time=   0.0s\n",
      "[CV 1/5] END C=0.1, class_weight=balanced, gamma=1, kernel=sigmoid, random_state=42;, score=0.130 total time=   0.0s\n",
      "[CV 2/5] END C=0.1, class_weight=balanced, gamma=1, kernel=sigmoid, random_state=42;, score=0.081 total time=   0.0s\n",
      "[CV 3/5] END C=0.1, class_weight=balanced, gamma=1, kernel=sigmoid, random_state=42;, score=0.081 total time=   0.0s\n",
      "[CV 4/5] END C=0.1, class_weight=balanced, gamma=1, kernel=sigmoid, random_state=42;, score=0.068 total time=   0.0s\n",
      "[CV 5/5] END C=0.1, class_weight=balanced, gamma=1, kernel=sigmoid, random_state=42;, score=0.075 total time=   0.0s\n",
      "[CV 1/5] END C=0.1, class_weight=balanced, gamma=0.1, kernel=rbf, random_state=42;, score=0.130 total time=   0.0s\n",
      "[CV 2/5] END C=0.1, class_weight=balanced, gamma=0.1, kernel=rbf, random_state=42;, score=0.081 total time=   0.0s\n",
      "[CV 3/5] END C=0.1, class_weight=balanced, gamma=0.1, kernel=rbf, random_state=42;, score=0.081 total time=   0.0s\n",
      "[CV 4/5] END C=0.1, class_weight=balanced, gamma=0.1, kernel=rbf, random_state=42;, score=0.068 total time=   0.0s\n",
      "[CV 5/5] END C=0.1, class_weight=balanced, gamma=0.1, kernel=rbf, random_state=42;, score=0.075 total time=   0.0s\n",
      "[CV 1/5] END C=0.1, class_weight=balanced, gamma=0.1, kernel=sigmoid, random_state=42;, score=0.130 total time=   0.0s\n",
      "[CV 2/5] END C=0.1, class_weight=balanced, gamma=0.1, kernel=sigmoid, random_state=42;, score=0.081 total time=   0.0s\n",
      "[CV 3/5] END C=0.1, class_weight=balanced, gamma=0.1, kernel=sigmoid, random_state=42;, score=0.081 total time=   0.0s\n",
      "[CV 4/5] END C=0.1, class_weight=balanced, gamma=0.1, kernel=sigmoid, random_state=42;, score=0.068 total time=   0.0s\n",
      "[CV 5/5] END C=0.1, class_weight=balanced, gamma=0.1, kernel=sigmoid, random_state=42;, score=0.075 total time=   0.0s\n",
      "[CV 1/5] END C=0.1, class_weight=balanced, gamma=0.01, kernel=rbf, random_state=42;, score=0.130 total time=   0.0s\n",
      "[CV 2/5] END C=0.1, class_weight=balanced, gamma=0.01, kernel=rbf, random_state=42;, score=0.081 total time=   0.0s\n",
      "[CV 3/5] END C=0.1, class_weight=balanced, gamma=0.01, kernel=rbf, random_state=42;, score=0.081 total time=   0.0s\n",
      "[CV 4/5] END C=0.1, class_weight=balanced, gamma=0.01, kernel=rbf, random_state=42;, score=0.068 total time=   0.0s\n",
      "[CV 5/5] END C=0.1, class_weight=balanced, gamma=0.01, kernel=rbf, random_state=42;, score=0.075 total time=   0.0s\n",
      "[CV 1/5] END C=0.1, class_weight=balanced, gamma=0.01, kernel=sigmoid, random_state=42;, score=0.130 total time=   0.0s\n",
      "[CV 2/5] END C=0.1, class_weight=balanced, gamma=0.01, kernel=sigmoid, random_state=42;, score=0.081 total time=   0.0s\n",
      "[CV 3/5] END C=0.1, class_weight=balanced, gamma=0.01, kernel=sigmoid, random_state=42;, score=0.081 total time=   0.0s\n",
      "[CV 4/5] END C=0.1, class_weight=balanced, gamma=0.01, kernel=sigmoid, random_state=42;, score=0.068 total time=   0.0s\n",
      "[CV 5/5] END C=0.1, class_weight=balanced, gamma=0.01, kernel=sigmoid, random_state=42;, score=0.075 total time=   0.0s\n",
      "[CV 1/5] END C=0.1, class_weight=balanced, gamma=0.001, kernel=rbf, random_state=42;, score=0.130 total time=   0.0s\n",
      "[CV 2/5] END C=0.1, class_weight=balanced, gamma=0.001, kernel=rbf, random_state=42;, score=0.081 total time=   0.0s\n",
      "[CV 3/5] END C=0.1, class_weight=balanced, gamma=0.001, kernel=rbf, random_state=42;, score=0.081 total time=   0.0s\n",
      "[CV 4/5] END C=0.1, class_weight=balanced, gamma=0.001, kernel=rbf, random_state=42;, score=0.068 total time=   0.0s\n",
      "[CV 5/5] END C=0.1, class_weight=balanced, gamma=0.001, kernel=rbf, random_state=42;, score=0.075 total time=   0.0s\n",
      "[CV 1/5] END C=0.1, class_weight=balanced, gamma=0.001, kernel=sigmoid, random_state=42;, score=0.130 total time=   0.0s\n",
      "[CV 2/5] END C=0.1, class_weight=balanced, gamma=0.001, kernel=sigmoid, random_state=42;, score=0.081 total time=   0.0s\n",
      "[CV 3/5] END C=0.1, class_weight=balanced, gamma=0.001, kernel=sigmoid, random_state=42;, score=0.081 total time=   0.0s\n",
      "[CV 4/5] END C=0.1, class_weight=balanced, gamma=0.001, kernel=sigmoid, random_state=42;, score=0.068 total time=   0.0s\n",
      "[CV 5/5] END C=0.1, class_weight=balanced, gamma=0.001, kernel=sigmoid, random_state=42;, score=0.075 total time=   0.0s\n",
      "[CV 1/5] END C=0.1, class_weight=balanced, gamma=scale, kernel=rbf, random_state=42;, score=0.179 total time=   0.0s\n",
      "[CV 2/5] END C=0.1, class_weight=balanced, gamma=scale, kernel=rbf, random_state=42;, score=0.155 total time=   0.0s\n",
      "[CV 3/5] END C=0.1, class_weight=balanced, gamma=scale, kernel=rbf, random_state=42;, score=0.112 total time=   0.0s\n",
      "[CV 4/5] END C=0.1, class_weight=balanced, gamma=scale, kernel=rbf, random_state=42;, score=0.161 total time=   0.0s\n",
      "[CV 5/5] END C=0.1, class_weight=balanced, gamma=scale, kernel=rbf, random_state=42;, score=0.180 total time=   0.0s\n",
      "[CV 1/5] END C=0.1, class_weight=balanced, gamma=scale, kernel=sigmoid, random_state=42;, score=0.043 total time=   0.0s\n",
      "[CV 2/5] END C=0.1, class_weight=balanced, gamma=scale, kernel=sigmoid, random_state=42;, score=0.075 total time=   0.0s\n",
      "[CV 3/5] END C=0.1, class_weight=balanced, gamma=scale, kernel=sigmoid, random_state=42;, score=0.081 total time=   0.0s\n",
      "[CV 4/5] END C=0.1, class_weight=balanced, gamma=scale, kernel=sigmoid, random_state=42;, score=0.062 total time=   0.0s\n",
      "[CV 5/5] END C=0.1, class_weight=balanced, gamma=scale, kernel=sigmoid, random_state=42;, score=0.062 total time=   0.0s\n",
      "[CV 1/5] END C=0.1, class_weight=balanced, gamma=auto, kernel=rbf, random_state=42;, score=0.130 total time=   0.0s\n",
      "[CV 2/5] END C=0.1, class_weight=balanced, gamma=auto, kernel=rbf, random_state=42;, score=0.081 total time=   0.0s\n",
      "[CV 3/5] END C=0.1, class_weight=balanced, gamma=auto, kernel=rbf, random_state=42;, score=0.081 total time=   0.0s\n",
      "[CV 4/5] END C=0.1, class_weight=balanced, gamma=auto, kernel=rbf, random_state=42;, score=0.068 total time=   0.0s\n",
      "[CV 5/5] END C=0.1, class_weight=balanced, gamma=auto, kernel=rbf, random_state=42;, score=0.075 total time=   0.0s\n",
      "[CV 1/5] END C=0.1, class_weight=balanced, gamma=auto, kernel=sigmoid, random_state=42;, score=0.130 total time=   0.0s\n",
      "[CV 2/5] END C=0.1, class_weight=balanced, gamma=auto, kernel=sigmoid, random_state=42;, score=0.081 total time=   0.0s\n",
      "[CV 3/5] END C=0.1, class_weight=balanced, gamma=auto, kernel=sigmoid, random_state=42;, score=0.081 total time=   0.0s\n",
      "[CV 4/5] END C=0.1, class_weight=balanced, gamma=auto, kernel=sigmoid, random_state=42;, score=0.068 total time=   0.0s\n",
      "[CV 5/5] END C=0.1, class_weight=balanced, gamma=auto, kernel=sigmoid, random_state=42;, score=0.075 total time=   0.0s\n",
      "[CV 1/5] END C=0.1, class_weight=None, gamma=1, kernel=rbf, random_state=42;, score=0.130 total time=   0.0s\n",
      "[CV 2/5] END C=0.1, class_weight=None, gamma=1, kernel=rbf, random_state=42;, score=0.130 total time=   0.0s\n",
      "[CV 3/5] END C=0.1, class_weight=None, gamma=1, kernel=rbf, random_state=42;, score=0.130 total time=   0.0s\n",
      "[CV 4/5] END C=0.1, class_weight=None, gamma=1, kernel=rbf, random_state=42;, score=0.130 total time=   0.0s\n",
      "[CV 5/5] END C=0.1, class_weight=None, gamma=1, kernel=rbf, random_state=42;, score=0.130 total time=   0.0s\n",
      "[CV 1/5] END C=0.1, class_weight=None, gamma=1, kernel=sigmoid, random_state=42;, score=0.130 total time=   0.0s\n",
      "[CV 2/5] END C=0.1, class_weight=None, gamma=1, kernel=sigmoid, random_state=42;, score=0.130 total time=   0.0s\n",
      "[CV 3/5] END C=0.1, class_weight=None, gamma=1, kernel=sigmoid, random_state=42;, score=0.130 total time=   0.0s\n",
      "[CV 4/5] END C=0.1, class_weight=None, gamma=1, kernel=sigmoid, random_state=42;, score=0.130 total time=   0.0s\n",
      "[CV 5/5] END C=0.1, class_weight=None, gamma=1, kernel=sigmoid, random_state=42;, score=0.130 total time=   0.0s\n",
      "[CV 1/5] END C=0.1, class_weight=None, gamma=0.1, kernel=rbf, random_state=42;, score=0.130 total time=   0.0s\n",
      "[CV 2/5] END C=0.1, class_weight=None, gamma=0.1, kernel=rbf, random_state=42;, score=0.130 total time=   0.0s\n",
      "[CV 3/5] END C=0.1, class_weight=None, gamma=0.1, kernel=rbf, random_state=42;, score=0.130 total time=   0.0s\n",
      "[CV 4/5] END C=0.1, class_weight=None, gamma=0.1, kernel=rbf, random_state=42;, score=0.130 total time=   0.0s\n",
      "[CV 5/5] END C=0.1, class_weight=None, gamma=0.1, kernel=rbf, random_state=42;, score=0.130 total time=   0.0s\n",
      "[CV 1/5] END C=0.1, class_weight=None, gamma=0.1, kernel=sigmoid, random_state=42;, score=0.130 total time=   0.0s\n",
      "[CV 2/5] END C=0.1, class_weight=None, gamma=0.1, kernel=sigmoid, random_state=42;, score=0.130 total time=   0.0s\n",
      "[CV 3/5] END C=0.1, class_weight=None, gamma=0.1, kernel=sigmoid, random_state=42;, score=0.130 total time=   0.0s\n",
      "[CV 4/5] END C=0.1, class_weight=None, gamma=0.1, kernel=sigmoid, random_state=42;, score=0.130 total time=   0.0s\n",
      "[CV 5/5] END C=0.1, class_weight=None, gamma=0.1, kernel=sigmoid, random_state=42;, score=0.130 total time=   0.0s\n",
      "[CV 1/5] END C=0.1, class_weight=None, gamma=0.01, kernel=rbf, random_state=42;, score=0.130 total time=   0.0s\n",
      "[CV 2/5] END C=0.1, class_weight=None, gamma=0.01, kernel=rbf, random_state=42;, score=0.130 total time=   0.0s\n",
      "[CV 3/5] END C=0.1, class_weight=None, gamma=0.01, kernel=rbf, random_state=42;, score=0.130 total time=   0.0s\n",
      "[CV 4/5] END C=0.1, class_weight=None, gamma=0.01, kernel=rbf, random_state=42;, score=0.130 total time=   0.0s\n",
      "[CV 5/5] END C=0.1, class_weight=None, gamma=0.01, kernel=rbf, random_state=42;, score=0.130 total time=   0.0s\n",
      "[CV 1/5] END C=0.1, class_weight=None, gamma=0.01, kernel=sigmoid, random_state=42;, score=0.130 total time=   0.0s\n",
      "[CV 2/5] END C=0.1, class_weight=None, gamma=0.01, kernel=sigmoid, random_state=42;, score=0.130 total time=   0.0s\n",
      "[CV 3/5] END C=0.1, class_weight=None, gamma=0.01, kernel=sigmoid, random_state=42;, score=0.130 total time=   0.0s\n",
      "[CV 4/5] END C=0.1, class_weight=None, gamma=0.01, kernel=sigmoid, random_state=42;, score=0.130 total time=   0.0s\n",
      "[CV 5/5] END C=0.1, class_weight=None, gamma=0.01, kernel=sigmoid, random_state=42;, score=0.130 total time=   0.0s\n",
      "[CV 1/5] END C=0.1, class_weight=None, gamma=0.001, kernel=rbf, random_state=42;, score=0.130 total time=   0.0s\n",
      "[CV 2/5] END C=0.1, class_weight=None, gamma=0.001, kernel=rbf, random_state=42;, score=0.130 total time=   0.0s\n",
      "[CV 3/5] END C=0.1, class_weight=None, gamma=0.001, kernel=rbf, random_state=42;, score=0.130 total time=   0.0s\n",
      "[CV 4/5] END C=0.1, class_weight=None, gamma=0.001, kernel=rbf, random_state=42;, score=0.130 total time=   0.0s\n",
      "[CV 5/5] END C=0.1, class_weight=None, gamma=0.001, kernel=rbf, random_state=42;, score=0.130 total time=   0.0s\n",
      "[CV 1/5] END C=0.1, class_weight=None, gamma=0.001, kernel=sigmoid, random_state=42;, score=0.130 total time=   0.0s\n",
      "[CV 2/5] END C=0.1, class_weight=None, gamma=0.001, kernel=sigmoid, random_state=42;, score=0.130 total time=   0.0s\n",
      "[CV 3/5] END C=0.1, class_weight=None, gamma=0.001, kernel=sigmoid, random_state=42;, score=0.130 total time=   0.0s\n",
      "[CV 4/5] END C=0.1, class_weight=None, gamma=0.001, kernel=sigmoid, random_state=42;, score=0.130 total time=   0.0s\n",
      "[CV 5/5] END C=0.1, class_weight=None, gamma=0.001, kernel=sigmoid, random_state=42;, score=0.130 total time=   0.0s\n",
      "[CV 1/5] END C=0.1, class_weight=None, gamma=scale, kernel=rbf, random_state=42;, score=0.179 total time=   0.0s\n",
      "[CV 2/5] END C=0.1, class_weight=None, gamma=scale, kernel=rbf, random_state=42;, score=0.155 total time=   0.0s\n",
      "[CV 3/5] END C=0.1, class_weight=None, gamma=scale, kernel=rbf, random_state=42;, score=0.174 total time=   0.0s\n",
      "[CV 4/5] END C=0.1, class_weight=None, gamma=scale, kernel=rbf, random_state=42;, score=0.168 total time=   0.0s\n",
      "[CV 5/5] END C=0.1, class_weight=None, gamma=scale, kernel=rbf, random_state=42;, score=0.180 total time=   0.0s\n",
      "[CV 1/5] END C=0.1, class_weight=None, gamma=scale, kernel=sigmoid, random_state=42;, score=0.130 total time=   0.0s\n",
      "[CV 2/5] END C=0.1, class_weight=None, gamma=scale, kernel=sigmoid, random_state=42;, score=0.130 total time=   0.0s\n",
      "[CV 3/5] END C=0.1, class_weight=None, gamma=scale, kernel=sigmoid, random_state=42;, score=0.130 total time=   0.0s\n",
      "[CV 4/5] END C=0.1, class_weight=None, gamma=scale, kernel=sigmoid, random_state=42;, score=0.130 total time=   0.0s\n",
      "[CV 5/5] END C=0.1, class_weight=None, gamma=scale, kernel=sigmoid, random_state=42;, score=0.130 total time=   0.0s\n",
      "[CV 1/5] END C=0.1, class_weight=None, gamma=auto, kernel=rbf, random_state=42;, score=0.130 total time=   0.0s\n",
      "[CV 2/5] END C=0.1, class_weight=None, gamma=auto, kernel=rbf, random_state=42;, score=0.130 total time=   0.0s\n",
      "[CV 3/5] END C=0.1, class_weight=None, gamma=auto, kernel=rbf, random_state=42;, score=0.130 total time=   0.0s\n",
      "[CV 4/5] END C=0.1, class_weight=None, gamma=auto, kernel=rbf, random_state=42;, score=0.130 total time=   0.0s\n",
      "[CV 5/5] END C=0.1, class_weight=None, gamma=auto, kernel=rbf, random_state=42;, score=0.130 total time=   0.0s\n",
      "[CV 1/5] END C=0.1, class_weight=None, gamma=auto, kernel=sigmoid, random_state=42;, score=0.130 total time=   0.0s\n",
      "[CV 2/5] END C=0.1, class_weight=None, gamma=auto, kernel=sigmoid, random_state=42;, score=0.130 total time=   0.0s\n",
      "[CV 3/5] END C=0.1, class_weight=None, gamma=auto, kernel=sigmoid, random_state=42;, score=0.130 total time=   0.0s\n",
      "[CV 4/5] END C=0.1, class_weight=None, gamma=auto, kernel=sigmoid, random_state=42;, score=0.130 total time=   0.0s\n",
      "[CV 5/5] END C=0.1, class_weight=None, gamma=auto, kernel=sigmoid, random_state=42;, score=0.130 total time=   0.0s\n",
      "[CV 1/5] END C=1, class_weight=balanced, gamma=1, kernel=rbf, random_state=42;, score=0.080 total time=   0.0s\n",
      "[CV 2/5] END C=1, class_weight=balanced, gamma=1, kernel=rbf, random_state=42;, score=0.075 total time=   0.0s\n",
      "[CV 3/5] END C=1, class_weight=balanced, gamma=1, kernel=rbf, random_state=42;, score=0.124 total time=   0.0s\n",
      "[CV 4/5] END C=1, class_weight=balanced, gamma=1, kernel=rbf, random_state=42;, score=0.093 total time=   0.0s\n",
      "[CV 5/5] END C=1, class_weight=balanced, gamma=1, kernel=rbf, random_state=42;, score=0.112 total time=   0.0s\n",
      "[CV 1/5] END C=1, class_weight=balanced, gamma=1, kernel=sigmoid, random_state=42;, score=0.062 total time=   0.0s\n",
      "[CV 2/5] END C=1, class_weight=balanced, gamma=1, kernel=sigmoid, random_state=42;, score=0.081 total time=   0.0s\n",
      "[CV 3/5] END C=1, class_weight=balanced, gamma=1, kernel=sigmoid, random_state=42;, score=0.093 total time=   0.0s\n",
      "[CV 4/5] END C=1, class_weight=balanced, gamma=1, kernel=sigmoid, random_state=42;, score=0.093 total time=   0.0s\n",
      "[CV 5/5] END C=1, class_weight=balanced, gamma=1, kernel=sigmoid, random_state=42;, score=0.093 total time=   0.0s\n",
      "[CV 1/5] END C=1, class_weight=balanced, gamma=0.1, kernel=rbf, random_state=42;, score=0.062 total time=   0.0s\n",
      "[CV 2/5] END C=1, class_weight=balanced, gamma=0.1, kernel=rbf, random_state=42;, score=0.031 total time=   0.0s\n",
      "[CV 3/5] END C=1, class_weight=balanced, gamma=0.1, kernel=rbf, random_state=42;, score=0.093 total time=   0.0s\n",
      "[CV 4/5] END C=1, class_weight=balanced, gamma=0.1, kernel=rbf, random_state=42;, score=0.093 total time=   0.0s\n",
      "[CV 5/5] END C=1, class_weight=balanced, gamma=0.1, kernel=rbf, random_state=42;, score=0.025 total time=   0.0s\n",
      "[CV 1/5] END C=1, class_weight=balanced, gamma=0.1, kernel=sigmoid, random_state=42;, score=0.062 total time=   0.0s\n",
      "[CV 2/5] END C=1, class_weight=balanced, gamma=0.1, kernel=sigmoid, random_state=42;, score=0.031 total time=   0.0s\n",
      "[CV 3/5] END C=1, class_weight=balanced, gamma=0.1, kernel=sigmoid, random_state=42;, score=0.093 total time=   0.0s\n",
      "[CV 4/5] END C=1, class_weight=balanced, gamma=0.1, kernel=sigmoid, random_state=42;, score=0.093 total time=   0.0s\n",
      "[CV 5/5] END C=1, class_weight=balanced, gamma=0.1, kernel=sigmoid, random_state=42;, score=0.025 total time=   0.0s\n",
      "[CV 1/5] END C=1, class_weight=balanced, gamma=0.01, kernel=rbf, random_state=42;, score=0.062 total time=   0.0s\n",
      "[CV 2/5] END C=1, class_weight=balanced, gamma=0.01, kernel=rbf, random_state=42;, score=0.031 total time=   0.0s\n",
      "[CV 3/5] END C=1, class_weight=balanced, gamma=0.01, kernel=rbf, random_state=42;, score=0.093 total time=   0.0s\n",
      "[CV 4/5] END C=1, class_weight=balanced, gamma=0.01, kernel=rbf, random_state=42;, score=0.093 total time=   0.0s\n",
      "[CV 5/5] END C=1, class_weight=balanced, gamma=0.01, kernel=rbf, random_state=42;, score=0.031 total time=   0.0s\n",
      "[CV 1/5] END C=1, class_weight=balanced, gamma=0.01, kernel=sigmoid, random_state=42;, score=0.062 total time=   0.0s\n",
      "[CV 2/5] END C=1, class_weight=balanced, gamma=0.01, kernel=sigmoid, random_state=42;, score=0.031 total time=   0.0s\n",
      "[CV 3/5] END C=1, class_weight=balanced, gamma=0.01, kernel=sigmoid, random_state=42;, score=0.093 total time=   0.0s\n",
      "[CV 4/5] END C=1, class_weight=balanced, gamma=0.01, kernel=sigmoid, random_state=42;, score=0.093 total time=   0.0s\n",
      "[CV 5/5] END C=1, class_weight=balanced, gamma=0.01, kernel=sigmoid, random_state=42;, score=0.025 total time=   0.0s\n",
      "[CV 1/5] END C=1, class_weight=balanced, gamma=0.001, kernel=rbf, random_state=42;, score=0.062 total time=   0.0s\n",
      "[CV 2/5] END C=1, class_weight=balanced, gamma=0.001, kernel=rbf, random_state=42;, score=0.031 total time=   0.0s\n",
      "[CV 3/5] END C=1, class_weight=balanced, gamma=0.001, kernel=rbf, random_state=42;, score=0.093 total time=   0.0s\n",
      "[CV 4/5] END C=1, class_weight=balanced, gamma=0.001, kernel=rbf, random_state=42;, score=0.093 total time=   0.0s\n",
      "[CV 5/5] END C=1, class_weight=balanced, gamma=0.001, kernel=rbf, random_state=42;, score=0.031 total time=   0.0s\n",
      "[CV 1/5] END C=1, class_weight=balanced, gamma=0.001, kernel=sigmoid, random_state=42;, score=0.062 total time=   0.0s\n",
      "[CV 2/5] END C=1, class_weight=balanced, gamma=0.001, kernel=sigmoid, random_state=42;, score=0.031 total time=   0.0s\n",
      "[CV 3/5] END C=1, class_weight=balanced, gamma=0.001, kernel=sigmoid, random_state=42;, score=0.093 total time=   0.0s\n",
      "[CV 4/5] END C=1, class_weight=balanced, gamma=0.001, kernel=sigmoid, random_state=42;, score=0.093 total time=   0.0s\n",
      "[CV 5/5] END C=1, class_weight=balanced, gamma=0.001, kernel=sigmoid, random_state=42;, score=0.025 total time=   0.0s\n",
      "[CV 1/5] END C=1, class_weight=balanced, gamma=scale, kernel=rbf, random_state=42;, score=0.185 total time=   0.0s\n",
      "[CV 2/5] END C=1, class_weight=balanced, gamma=scale, kernel=rbf, random_state=42;, score=0.168 total time=   0.0s\n",
      "[CV 3/5] END C=1, class_weight=balanced, gamma=scale, kernel=rbf, random_state=42;, score=0.180 total time=   0.0s\n",
      "[CV 4/5] END C=1, class_weight=balanced, gamma=scale, kernel=rbf, random_state=42;, score=0.168 total time=   0.0s\n",
      "[CV 5/5] END C=1, class_weight=balanced, gamma=scale, kernel=rbf, random_state=42;, score=0.193 total time=   0.0s\n",
      "[CV 1/5] END C=1, class_weight=balanced, gamma=scale, kernel=sigmoid, random_state=42;, score=0.062 total time=   0.0s\n",
      "[CV 2/5] END C=1, class_weight=balanced, gamma=scale, kernel=sigmoid, random_state=42;, score=0.031 total time=   0.0s\n",
      "[CV 3/5] END C=1, class_weight=balanced, gamma=scale, kernel=sigmoid, random_state=42;, score=0.031 total time=   0.0s\n",
      "[CV 4/5] END C=1, class_weight=balanced, gamma=scale, kernel=sigmoid, random_state=42;, score=0.031 total time=   0.0s\n",
      "[CV 5/5] END C=1, class_weight=balanced, gamma=scale, kernel=sigmoid, random_state=42;, score=0.093 total time=   0.0s\n",
      "[CV 1/5] END C=1, class_weight=balanced, gamma=auto, kernel=rbf, random_state=42;, score=0.062 total time=   0.0s\n",
      "[CV 2/5] END C=1, class_weight=balanced, gamma=auto, kernel=rbf, random_state=42;, score=0.031 total time=   0.0s\n",
      "[CV 3/5] END C=1, class_weight=balanced, gamma=auto, kernel=rbf, random_state=42;, score=0.093 total time=   0.0s\n",
      "[CV 4/5] END C=1, class_weight=balanced, gamma=auto, kernel=rbf, random_state=42;, score=0.062 total time=   0.0s\n",
      "[CV 5/5] END C=1, class_weight=balanced, gamma=auto, kernel=rbf, random_state=42;, score=0.093 total time=   0.0s\n",
      "[CV 1/5] END C=1, class_weight=balanced, gamma=auto, kernel=sigmoid, random_state=42;, score=0.062 total time=   0.0s\n",
      "[CV 2/5] END C=1, class_weight=balanced, gamma=auto, kernel=sigmoid, random_state=42;, score=0.031 total time=   0.0s\n",
      "[CV 3/5] END C=1, class_weight=balanced, gamma=auto, kernel=sigmoid, random_state=42;, score=0.093 total time=   0.0s\n",
      "[CV 4/5] END C=1, class_weight=balanced, gamma=auto, kernel=sigmoid, random_state=42;, score=0.093 total time=   0.0s\n",
      "[CV 5/5] END C=1, class_weight=balanced, gamma=auto, kernel=sigmoid, random_state=42;, score=0.025 total time=   0.0s\n",
      "[CV 1/5] END C=1, class_weight=None, gamma=1, kernel=rbf, random_state=42;, score=0.136 total time=   0.0s\n",
      "[CV 2/5] END C=1, class_weight=None, gamma=1, kernel=rbf, random_state=42;, score=0.124 total time=   0.0s\n",
      "[CV 3/5] END C=1, class_weight=None, gamma=1, kernel=rbf, random_state=42;, score=0.118 total time=   0.0s\n",
      "[CV 4/5] END C=1, class_weight=None, gamma=1, kernel=rbf, random_state=42;, score=0.130 total time=   0.0s\n",
      "[CV 5/5] END C=1, class_weight=None, gamma=1, kernel=rbf, random_state=42;, score=0.137 total time=   0.0s\n",
      "[CV 1/5] END C=1, class_weight=None, gamma=1, kernel=sigmoid, random_state=42;, score=0.130 total time=   0.0s\n",
      "[CV 2/5] END C=1, class_weight=None, gamma=1, kernel=sigmoid, random_state=42;, score=0.130 total time=   0.0s\n",
      "[CV 3/5] END C=1, class_weight=None, gamma=1, kernel=sigmoid, random_state=42;, score=0.130 total time=   0.0s\n",
      "[CV 4/5] END C=1, class_weight=None, gamma=1, kernel=sigmoid, random_state=42;, score=0.130 total time=   0.0s\n",
      "[CV 5/5] END C=1, class_weight=None, gamma=1, kernel=sigmoid, random_state=42;, score=0.130 total time=   0.0s\n",
      "[CV 1/5] END C=1, class_weight=None, gamma=0.1, kernel=rbf, random_state=42;, score=0.130 total time=   0.0s\n",
      "[CV 2/5] END C=1, class_weight=None, gamma=0.1, kernel=rbf, random_state=42;, score=0.130 total time=   0.0s\n",
      "[CV 3/5] END C=1, class_weight=None, gamma=0.1, kernel=rbf, random_state=42;, score=0.130 total time=   0.0s\n",
      "[CV 4/5] END C=1, class_weight=None, gamma=0.1, kernel=rbf, random_state=42;, score=0.130 total time=   0.0s\n",
      "[CV 5/5] END C=1, class_weight=None, gamma=0.1, kernel=rbf, random_state=42;, score=0.130 total time=   0.0s\n",
      "[CV 1/5] END C=1, class_weight=None, gamma=0.1, kernel=sigmoid, random_state=42;, score=0.130 total time=   0.0s\n",
      "[CV 2/5] END C=1, class_weight=None, gamma=0.1, kernel=sigmoid, random_state=42;, score=0.130 total time=   0.0s\n",
      "[CV 3/5] END C=1, class_weight=None, gamma=0.1, kernel=sigmoid, random_state=42;, score=0.130 total time=   0.0s\n",
      "[CV 4/5] END C=1, class_weight=None, gamma=0.1, kernel=sigmoid, random_state=42;, score=0.130 total time=   0.0s\n",
      "[CV 5/5] END C=1, class_weight=None, gamma=0.1, kernel=sigmoid, random_state=42;, score=0.130 total time=   0.0s\n",
      "[CV 1/5] END C=1, class_weight=None, gamma=0.01, kernel=rbf, random_state=42;, score=0.130 total time=   0.0s\n",
      "[CV 2/5] END C=1, class_weight=None, gamma=0.01, kernel=rbf, random_state=42;, score=0.130 total time=   0.0s\n",
      "[CV 3/5] END C=1, class_weight=None, gamma=0.01, kernel=rbf, random_state=42;, score=0.130 total time=   0.0s\n",
      "[CV 4/5] END C=1, class_weight=None, gamma=0.01, kernel=rbf, random_state=42;, score=0.130 total time=   0.0s\n",
      "[CV 5/5] END C=1, class_weight=None, gamma=0.01, kernel=rbf, random_state=42;, score=0.130 total time=   0.0s\n",
      "[CV 1/5] END C=1, class_weight=None, gamma=0.01, kernel=sigmoid, random_state=42;, score=0.130 total time=   0.0s\n",
      "[CV 2/5] END C=1, class_weight=None, gamma=0.01, kernel=sigmoid, random_state=42;, score=0.130 total time=   0.0s\n",
      "[CV 3/5] END C=1, class_weight=None, gamma=0.01, kernel=sigmoid, random_state=42;, score=0.130 total time=   0.0s\n",
      "[CV 4/5] END C=1, class_weight=None, gamma=0.01, kernel=sigmoid, random_state=42;, score=0.130 total time=   0.0s\n",
      "[CV 5/5] END C=1, class_weight=None, gamma=0.01, kernel=sigmoid, random_state=42;, score=0.130 total time=   0.0s\n",
      "[CV 1/5] END C=1, class_weight=None, gamma=0.001, kernel=rbf, random_state=42;, score=0.130 total time=   0.0s\n",
      "[CV 2/5] END C=1, class_weight=None, gamma=0.001, kernel=rbf, random_state=42;, score=0.130 total time=   0.0s\n",
      "[CV 3/5] END C=1, class_weight=None, gamma=0.001, kernel=rbf, random_state=42;, score=0.130 total time=   0.0s\n",
      "[CV 4/5] END C=1, class_weight=None, gamma=0.001, kernel=rbf, random_state=42;, score=0.130 total time=   0.0s\n",
      "[CV 5/5] END C=1, class_weight=None, gamma=0.001, kernel=rbf, random_state=42;, score=0.130 total time=   0.0s\n",
      "[CV 1/5] END C=1, class_weight=None, gamma=0.001, kernel=sigmoid, random_state=42;, score=0.130 total time=   0.0s\n",
      "[CV 2/5] END C=1, class_weight=None, gamma=0.001, kernel=sigmoid, random_state=42;, score=0.130 total time=   0.0s\n",
      "[CV 3/5] END C=1, class_weight=None, gamma=0.001, kernel=sigmoid, random_state=42;, score=0.130 total time=   0.0s\n",
      "[CV 4/5] END C=1, class_weight=None, gamma=0.001, kernel=sigmoid, random_state=42;, score=0.130 total time=   0.0s\n",
      "[CV 5/5] END C=1, class_weight=None, gamma=0.001, kernel=sigmoid, random_state=42;, score=0.130 total time=   0.0s\n",
      "[CV 1/5] END C=1, class_weight=None, gamma=scale, kernel=rbf, random_state=42;, score=0.302 total time=   0.0s\n",
      "[CV 2/5] END C=1, class_weight=None, gamma=scale, kernel=rbf, random_state=42;, score=0.236 total time=   0.0s\n",
      "[CV 3/5] END C=1, class_weight=None, gamma=scale, kernel=rbf, random_state=42;, score=0.286 total time=   0.0s\n",
      "[CV 4/5] END C=1, class_weight=None, gamma=scale, kernel=rbf, random_state=42;, score=0.292 total time=   0.0s\n",
      "[CV 5/5] END C=1, class_weight=None, gamma=scale, kernel=rbf, random_state=42;, score=0.224 total time=   0.0s\n",
      "[CV 1/5] END C=1, class_weight=None, gamma=scale, kernel=sigmoid, random_state=42;, score=0.130 total time=   0.0s\n",
      "[CV 2/5] END C=1, class_weight=None, gamma=scale, kernel=sigmoid, random_state=42;, score=0.130 total time=   0.0s\n",
      "[CV 3/5] END C=1, class_weight=None, gamma=scale, kernel=sigmoid, random_state=42;, score=0.130 total time=   0.0s\n",
      "[CV 4/5] END C=1, class_weight=None, gamma=scale, kernel=sigmoid, random_state=42;, score=0.130 total time=   0.0s\n",
      "[CV 5/5] END C=1, class_weight=None, gamma=scale, kernel=sigmoid, random_state=42;, score=0.130 total time=   0.0s\n",
      "[CV 1/5] END C=1, class_weight=None, gamma=auto, kernel=rbf, random_state=42;, score=0.130 total time=   0.0s\n",
      "[CV 2/5] END C=1, class_weight=None, gamma=auto, kernel=rbf, random_state=42;, score=0.130 total time=   0.0s\n",
      "[CV 3/5] END C=1, class_weight=None, gamma=auto, kernel=rbf, random_state=42;, score=0.130 total time=   0.0s\n",
      "[CV 4/5] END C=1, class_weight=None, gamma=auto, kernel=rbf, random_state=42;, score=0.130 total time=   0.0s\n",
      "[CV 5/5] END C=1, class_weight=None, gamma=auto, kernel=rbf, random_state=42;, score=0.130 total time=   0.0s\n",
      "[CV 1/5] END C=1, class_weight=None, gamma=auto, kernel=sigmoid, random_state=42;, score=0.130 total time=   0.0s\n",
      "[CV 2/5] END C=1, class_weight=None, gamma=auto, kernel=sigmoid, random_state=42;, score=0.130 total time=   0.0s\n",
      "[CV 3/5] END C=1, class_weight=None, gamma=auto, kernel=sigmoid, random_state=42;, score=0.130 total time=   0.0s\n",
      "[CV 4/5] END C=1, class_weight=None, gamma=auto, kernel=sigmoid, random_state=42;, score=0.130 total time=   0.0s\n",
      "[CV 5/5] END C=1, class_weight=None, gamma=auto, kernel=sigmoid, random_state=42;, score=0.130 total time=   0.0s\n",
      "[CV 1/5] END C=10, class_weight=balanced, gamma=1, kernel=rbf, random_state=42;, score=0.130 total time=   0.0s\n",
      "[CV 2/5] END C=10, class_weight=balanced, gamma=1, kernel=rbf, random_state=42;, score=0.112 total time=   0.0s\n",
      "[CV 3/5] END C=10, class_weight=balanced, gamma=1, kernel=rbf, random_state=42;, score=0.118 total time=   0.0s\n",
      "[CV 4/5] END C=10, class_weight=balanced, gamma=1, kernel=rbf, random_state=42;, score=0.186 total time=   0.0s\n",
      "[CV 5/5] END C=10, class_weight=balanced, gamma=1, kernel=rbf, random_state=42;, score=0.137 total time=   0.0s\n",
      "[CV 1/5] END C=10, class_weight=balanced, gamma=1, kernel=sigmoid, random_state=42;, score=0.123 total time=   0.0s\n",
      "[CV 2/5] END C=10, class_weight=balanced, gamma=1, kernel=sigmoid, random_state=42;, score=0.099 total time=   0.0s\n",
      "[CV 3/5] END C=10, class_weight=balanced, gamma=1, kernel=sigmoid, random_state=42;, score=0.118 total time=   0.0s\n",
      "[CV 4/5] END C=10, class_weight=balanced, gamma=1, kernel=sigmoid, random_state=42;, score=0.149 total time=   0.0s\n",
      "[CV 5/5] END C=10, class_weight=balanced, gamma=1, kernel=sigmoid, random_state=42;, score=0.099 total time=   0.0s\n",
      "[CV 1/5] END C=10, class_weight=balanced, gamma=0.1, kernel=rbf, random_state=42;, score=0.111 total time=   0.0s\n",
      "[CV 2/5] END C=10, class_weight=balanced, gamma=0.1, kernel=rbf, random_state=42;, score=0.062 total time=   0.0s\n",
      "[CV 3/5] END C=10, class_weight=balanced, gamma=0.1, kernel=rbf, random_state=42;, score=0.112 total time=   0.0s\n",
      "[CV 4/5] END C=10, class_weight=balanced, gamma=0.1, kernel=rbf, random_state=42;, score=0.130 total time=   0.0s\n",
      "[CV 5/5] END C=10, class_weight=balanced, gamma=0.1, kernel=rbf, random_state=42;, score=0.168 total time=   0.0s\n",
      "[CV 1/5] END C=10, class_weight=balanced, gamma=0.1, kernel=sigmoid, random_state=42;, score=0.105 total time=   0.0s\n",
      "[CV 2/5] END C=10, class_weight=balanced, gamma=0.1, kernel=sigmoid, random_state=42;, score=0.068 total time=   0.0s\n",
      "[CV 3/5] END C=10, class_weight=balanced, gamma=0.1, kernel=sigmoid, random_state=42;, score=0.093 total time=   0.0s\n",
      "[CV 4/5] END C=10, class_weight=balanced, gamma=0.1, kernel=sigmoid, random_state=42;, score=0.093 total time=   0.0s\n",
      "[CV 5/5] END C=10, class_weight=balanced, gamma=0.1, kernel=sigmoid, random_state=42;, score=0.093 total time=   0.0s\n",
      "[CV 1/5] END C=10, class_weight=balanced, gamma=0.01, kernel=rbf, random_state=42;, score=0.105 total time=   0.0s\n",
      "[CV 2/5] END C=10, class_weight=balanced, gamma=0.01, kernel=rbf, random_state=42;, score=0.068 total time=   0.0s\n",
      "[CV 3/5] END C=10, class_weight=balanced, gamma=0.01, kernel=rbf, random_state=42;, score=0.093 total time=   0.0s\n",
      "[CV 4/5] END C=10, class_weight=balanced, gamma=0.01, kernel=rbf, random_state=42;, score=0.093 total time=   0.0s\n",
      "[CV 5/5] END C=10, class_weight=balanced, gamma=0.01, kernel=rbf, random_state=42;, score=0.093 total time=   0.0s\n",
      "[CV 1/5] END C=10, class_weight=balanced, gamma=0.01, kernel=sigmoid, random_state=42;, score=0.105 total time=   0.0s\n",
      "[CV 2/5] END C=10, class_weight=balanced, gamma=0.01, kernel=sigmoid, random_state=42;, score=0.068 total time=   0.0s\n",
      "[CV 3/5] END C=10, class_weight=balanced, gamma=0.01, kernel=sigmoid, random_state=42;, score=0.093 total time=   0.0s\n",
      "[CV 4/5] END C=10, class_weight=balanced, gamma=0.01, kernel=sigmoid, random_state=42;, score=0.093 total time=   0.0s\n",
      "[CV 5/5] END C=10, class_weight=balanced, gamma=0.01, kernel=sigmoid, random_state=42;, score=0.093 total time=   0.0s\n",
      "[CV 1/5] END C=10, class_weight=balanced, gamma=0.001, kernel=rbf, random_state=42;, score=0.105 total time=   0.0s\n",
      "[CV 2/5] END C=10, class_weight=balanced, gamma=0.001, kernel=rbf, random_state=42;, score=0.068 total time=   0.0s\n",
      "[CV 3/5] END C=10, class_weight=balanced, gamma=0.001, kernel=rbf, random_state=42;, score=0.093 total time=   0.0s\n",
      "[CV 4/5] END C=10, class_weight=balanced, gamma=0.001, kernel=rbf, random_state=42;, score=0.093 total time=   0.0s\n",
      "[CV 5/5] END C=10, class_weight=balanced, gamma=0.001, kernel=rbf, random_state=42;, score=0.093 total time=   0.0s\n",
      "[CV 1/5] END C=10, class_weight=balanced, gamma=0.001, kernel=sigmoid, random_state=42;, score=0.105 total time=   0.0s\n",
      "[CV 2/5] END C=10, class_weight=balanced, gamma=0.001, kernel=sigmoid, random_state=42;, score=0.068 total time=   0.0s\n",
      "[CV 3/5] END C=10, class_weight=balanced, gamma=0.001, kernel=sigmoid, random_state=42;, score=0.093 total time=   0.0s\n",
      "[CV 4/5] END C=10, class_weight=balanced, gamma=0.001, kernel=sigmoid, random_state=42;, score=0.093 total time=   0.0s\n",
      "[CV 5/5] END C=10, class_weight=balanced, gamma=0.001, kernel=sigmoid, random_state=42;, score=0.093 total time=   0.0s\n",
      "[CV 1/5] END C=10, class_weight=balanced, gamma=scale, kernel=rbf, random_state=42;, score=0.241 total time=   0.0s\n",
      "[CV 2/5] END C=10, class_weight=balanced, gamma=scale, kernel=rbf, random_state=42;, score=0.186 total time=   0.0s\n",
      "[CV 3/5] END C=10, class_weight=balanced, gamma=scale, kernel=rbf, random_state=42;, score=0.224 total time=   0.0s\n",
      "[CV 4/5] END C=10, class_weight=balanced, gamma=scale, kernel=rbf, random_state=42;, score=0.230 total time=   0.0s\n",
      "[CV 5/5] END C=10, class_weight=balanced, gamma=scale, kernel=rbf, random_state=42;, score=0.199 total time=   0.0s\n",
      "[CV 1/5] END C=10, class_weight=balanced, gamma=scale, kernel=sigmoid, random_state=42;, score=0.117 total time=   0.0s\n",
      "[CV 2/5] END C=10, class_weight=balanced, gamma=scale, kernel=sigmoid, random_state=42;, score=0.075 total time=   0.0s\n",
      "[CV 3/5] END C=10, class_weight=balanced, gamma=scale, kernel=sigmoid, random_state=42;, score=0.093 total time=   0.0s\n",
      "[CV 4/5] END C=10, class_weight=balanced, gamma=scale, kernel=sigmoid, random_state=42;, score=0.093 total time=   0.0s\n",
      "[CV 5/5] END C=10, class_weight=balanced, gamma=scale, kernel=sigmoid, random_state=42;, score=0.093 total time=   0.0s\n",
      "[CV 1/5] END C=10, class_weight=balanced, gamma=auto, kernel=rbf, random_state=42;, score=0.130 total time=   0.0s\n",
      "[CV 2/5] END C=10, class_weight=balanced, gamma=auto, kernel=rbf, random_state=42;, score=0.118 total time=   0.0s\n",
      "[CV 3/5] END C=10, class_weight=balanced, gamma=auto, kernel=rbf, random_state=42;, score=0.106 total time=   0.0s\n",
      "[CV 4/5] END C=10, class_weight=balanced, gamma=auto, kernel=rbf, random_state=42;, score=0.118 total time=   0.0s\n",
      "[CV 5/5] END C=10, class_weight=balanced, gamma=auto, kernel=rbf, random_state=42;, score=0.124 total time=   0.0s\n",
      "[CV 1/5] END C=10, class_weight=balanced, gamma=auto, kernel=sigmoid, random_state=42;, score=0.105 total time=   0.0s\n",
      "[CV 2/5] END C=10, class_weight=balanced, gamma=auto, kernel=sigmoid, random_state=42;, score=0.068 total time=   0.0s\n",
      "[CV 3/5] END C=10, class_weight=balanced, gamma=auto, kernel=sigmoid, random_state=42;, score=0.106 total time=   0.0s\n",
      "[CV 4/5] END C=10, class_weight=balanced, gamma=auto, kernel=sigmoid, random_state=42;, score=0.112 total time=   0.0s\n",
      "[CV 5/5] END C=10, class_weight=balanced, gamma=auto, kernel=sigmoid, random_state=42;, score=0.118 total time=   0.0s\n",
      "[CV 1/5] END C=10, class_weight=None, gamma=1, kernel=rbf, random_state=42;, score=0.191 total time=   0.0s\n",
      "[CV 2/5] END C=10, class_weight=None, gamma=1, kernel=rbf, random_state=42;, score=0.180 total time=   0.0s\n",
      "[CV 3/5] END C=10, class_weight=None, gamma=1, kernel=rbf, random_state=42;, score=0.199 total time=   0.0s\n",
      "[CV 4/5] END C=10, class_weight=None, gamma=1, kernel=rbf, random_state=42;, score=0.205 total time=   0.0s\n",
      "[CV 5/5] END C=10, class_weight=None, gamma=1, kernel=rbf, random_state=42;, score=0.211 total time=   0.0s\n",
      "[CV 1/5] END C=10, class_weight=None, gamma=1, kernel=sigmoid, random_state=42;, score=0.198 total time=   0.0s\n",
      "[CV 2/5] END C=10, class_weight=None, gamma=1, kernel=sigmoid, random_state=42;, score=0.161 total time=   0.0s\n",
      "[CV 3/5] END C=10, class_weight=None, gamma=1, kernel=sigmoid, random_state=42;, score=0.180 total time=   0.0s\n",
      "[CV 4/5] END C=10, class_weight=None, gamma=1, kernel=sigmoid, random_state=42;, score=0.193 total time=   0.0s\n",
      "[CV 5/5] END C=10, class_weight=None, gamma=1, kernel=sigmoid, random_state=42;, score=0.193 total time=   0.0s\n",
      "[CV 1/5] END C=10, class_weight=None, gamma=0.1, kernel=rbf, random_state=42;, score=0.136 total time=   0.0s\n",
      "[CV 2/5] END C=10, class_weight=None, gamma=0.1, kernel=rbf, random_state=42;, score=0.124 total time=   0.0s\n",
      "[CV 3/5] END C=10, class_weight=None, gamma=0.1, kernel=rbf, random_state=42;, score=0.118 total time=   0.0s\n",
      "[CV 4/5] END C=10, class_weight=None, gamma=0.1, kernel=rbf, random_state=42;, score=0.130 total time=   0.0s\n",
      "[CV 5/5] END C=10, class_weight=None, gamma=0.1, kernel=rbf, random_state=42;, score=0.143 total time=   0.0s\n",
      "[CV 1/5] END C=10, class_weight=None, gamma=0.1, kernel=sigmoid, random_state=42;, score=0.130 total time=   0.0s\n",
      "[CV 2/5] END C=10, class_weight=None, gamma=0.1, kernel=sigmoid, random_state=42;, score=0.130 total time=   0.0s\n",
      "[CV 3/5] END C=10, class_weight=None, gamma=0.1, kernel=sigmoid, random_state=42;, score=0.130 total time=   0.0s\n",
      "[CV 4/5] END C=10, class_weight=None, gamma=0.1, kernel=sigmoid, random_state=42;, score=0.130 total time=   0.0s\n",
      "[CV 5/5] END C=10, class_weight=None, gamma=0.1, kernel=sigmoid, random_state=42;, score=0.130 total time=   0.0s\n",
      "[CV 1/5] END C=10, class_weight=None, gamma=0.01, kernel=rbf, random_state=42;, score=0.130 total time=   0.0s\n",
      "[CV 2/5] END C=10, class_weight=None, gamma=0.01, kernel=rbf, random_state=42;, score=0.130 total time=   0.0s\n",
      "[CV 3/5] END C=10, class_weight=None, gamma=0.01, kernel=rbf, random_state=42;, score=0.130 total time=   0.0s\n",
      "[CV 4/5] END C=10, class_weight=None, gamma=0.01, kernel=rbf, random_state=42;, score=0.130 total time=   0.0s\n",
      "[CV 5/5] END C=10, class_weight=None, gamma=0.01, kernel=rbf, random_state=42;, score=0.130 total time=   0.0s\n",
      "[CV 1/5] END C=10, class_weight=None, gamma=0.01, kernel=sigmoid, random_state=42;, score=0.130 total time=   0.0s\n",
      "[CV 2/5] END C=10, class_weight=None, gamma=0.01, kernel=sigmoid, random_state=42;, score=0.130 total time=   0.0s\n",
      "[CV 3/5] END C=10, class_weight=None, gamma=0.01, kernel=sigmoid, random_state=42;, score=0.130 total time=   0.0s\n",
      "[CV 4/5] END C=10, class_weight=None, gamma=0.01, kernel=sigmoid, random_state=42;, score=0.130 total time=   0.0s\n",
      "[CV 5/5] END C=10, class_weight=None, gamma=0.01, kernel=sigmoid, random_state=42;, score=0.130 total time=   0.0s\n",
      "[CV 1/5] END C=10, class_weight=None, gamma=0.001, kernel=rbf, random_state=42;, score=0.130 total time=   0.0s\n",
      "[CV 2/5] END C=10, class_weight=None, gamma=0.001, kernel=rbf, random_state=42;, score=0.130 total time=   0.0s\n",
      "[CV 3/5] END C=10, class_weight=None, gamma=0.001, kernel=rbf, random_state=42;, score=0.130 total time=   0.0s\n",
      "[CV 4/5] END C=10, class_weight=None, gamma=0.001, kernel=rbf, random_state=42;, score=0.130 total time=   0.0s\n",
      "[CV 5/5] END C=10, class_weight=None, gamma=0.001, kernel=rbf, random_state=42;, score=0.130 total time=   0.0s\n",
      "[CV 1/5] END C=10, class_weight=None, gamma=0.001, kernel=sigmoid, random_state=42;, score=0.130 total time=   0.0s\n",
      "[CV 2/5] END C=10, class_weight=None, gamma=0.001, kernel=sigmoid, random_state=42;, score=0.130 total time=   0.0s\n",
      "[CV 3/5] END C=10, class_weight=None, gamma=0.001, kernel=sigmoid, random_state=42;, score=0.130 total time=   0.0s\n",
      "[CV 4/5] END C=10, class_weight=None, gamma=0.001, kernel=sigmoid, random_state=42;, score=0.130 total time=   0.0s\n",
      "[CV 5/5] END C=10, class_weight=None, gamma=0.001, kernel=sigmoid, random_state=42;, score=0.130 total time=   0.0s\n",
      "[CV 1/5] END C=10, class_weight=None, gamma=scale, kernel=rbf, random_state=42;, score=0.309 total time=   0.0s\n",
      "[CV 2/5] END C=10, class_weight=None, gamma=scale, kernel=rbf, random_state=42;, score=0.224 total time=   0.0s\n",
      "[CV 3/5] END C=10, class_weight=None, gamma=scale, kernel=rbf, random_state=42;, score=0.267 total time=   0.0s\n",
      "[CV 4/5] END C=10, class_weight=None, gamma=scale, kernel=rbf, random_state=42;, score=0.292 total time=   0.0s\n",
      "[CV 5/5] END C=10, class_weight=None, gamma=scale, kernel=rbf, random_state=42;, score=0.224 total time=   0.0s\n",
      "[CV 1/5] END C=10, class_weight=None, gamma=scale, kernel=sigmoid, random_state=42;, score=0.130 total time=   0.0s\n",
      "[CV 2/5] END C=10, class_weight=None, gamma=scale, kernel=sigmoid, random_state=42;, score=0.130 total time=   0.0s\n",
      "[CV 3/5] END C=10, class_weight=None, gamma=scale, kernel=sigmoid, random_state=42;, score=0.130 total time=   0.0s\n",
      "[CV 4/5] END C=10, class_weight=None, gamma=scale, kernel=sigmoid, random_state=42;, score=0.130 total time=   0.0s\n",
      "[CV 5/5] END C=10, class_weight=None, gamma=scale, kernel=sigmoid, random_state=42;, score=0.130 total time=   0.0s\n",
      "[CV 1/5] END C=10, class_weight=None, gamma=auto, kernel=rbf, random_state=42;, score=0.142 total time=   0.0s\n",
      "[CV 2/5] END C=10, class_weight=None, gamma=auto, kernel=rbf, random_state=42;, score=0.161 total time=   0.0s\n",
      "[CV 3/5] END C=10, class_weight=None, gamma=auto, kernel=rbf, random_state=42;, score=0.174 total time=   0.0s\n",
      "[CV 4/5] END C=10, class_weight=None, gamma=auto, kernel=rbf, random_state=42;, score=0.186 total time=   0.0s\n",
      "[CV 5/5] END C=10, class_weight=None, gamma=auto, kernel=rbf, random_state=42;, score=0.155 total time=   0.0s\n",
      "[CV 1/5] END C=10, class_weight=None, gamma=auto, kernel=sigmoid, random_state=42;, score=0.136 total time=   0.0s\n",
      "[CV 2/5] END C=10, class_weight=None, gamma=auto, kernel=sigmoid, random_state=42;, score=0.130 total time=   0.0s\n",
      "[CV 3/5] END C=10, class_weight=None, gamma=auto, kernel=sigmoid, random_state=42;, score=0.137 total time=   0.0s\n",
      "[CV 4/5] END C=10, class_weight=None, gamma=auto, kernel=sigmoid, random_state=42;, score=0.130 total time=   0.0s\n",
      "[CV 5/5] END C=10, class_weight=None, gamma=auto, kernel=sigmoid, random_state=42;, score=0.130 total time=   0.0s\n",
      "[CV 1/5] END C=100, class_weight=balanced, gamma=1, kernel=rbf, random_state=42;, score=0.148 total time=   0.0s\n",
      "[CV 2/5] END C=100, class_weight=balanced, gamma=1, kernel=rbf, random_state=42;, score=0.118 total time=   0.0s\n",
      "[CV 3/5] END C=100, class_weight=balanced, gamma=1, kernel=rbf, random_state=42;, score=0.137 total time=   0.0s\n",
      "[CV 4/5] END C=100, class_weight=balanced, gamma=1, kernel=rbf, random_state=42;, score=0.217 total time=   0.0s\n",
      "[CV 5/5] END C=100, class_weight=balanced, gamma=1, kernel=rbf, random_state=42;, score=0.199 total time=   0.0s\n",
      "[CV 1/5] END C=100, class_weight=balanced, gamma=1, kernel=sigmoid, random_state=42;, score=0.130 total time=   0.0s\n",
      "[CV 2/5] END C=100, class_weight=balanced, gamma=1, kernel=sigmoid, random_state=42;, score=0.149 total time=   0.0s\n",
      "[CV 3/5] END C=100, class_weight=balanced, gamma=1, kernel=sigmoid, random_state=42;, score=0.124 total time=   0.0s\n",
      "[CV 4/5] END C=100, class_weight=balanced, gamma=1, kernel=sigmoid, random_state=42;, score=0.193 total time=   0.0s\n",
      "[CV 5/5] END C=100, class_weight=balanced, gamma=1, kernel=sigmoid, random_state=42;, score=0.211 total time=   0.0s\n",
      "[CV 1/5] END C=100, class_weight=balanced, gamma=0.1, kernel=rbf, random_state=42;, score=0.136 total time=   0.0s\n",
      "[CV 2/5] END C=100, class_weight=balanced, gamma=0.1, kernel=rbf, random_state=42;, score=0.099 total time=   0.0s\n",
      "[CV 3/5] END C=100, class_weight=balanced, gamma=0.1, kernel=rbf, random_state=42;, score=0.124 total time=   0.0s\n",
      "[CV 4/5] END C=100, class_weight=balanced, gamma=0.1, kernel=rbf, random_state=42;, score=0.174 total time=   0.0s\n",
      "[CV 5/5] END C=100, class_weight=balanced, gamma=0.1, kernel=rbf, random_state=42;, score=0.161 total time=   0.0s\n",
      "[CV 1/5] END C=100, class_weight=balanced, gamma=0.1, kernel=sigmoid, random_state=42;, score=0.111 total time=   0.0s\n",
      "[CV 2/5] END C=100, class_weight=balanced, gamma=0.1, kernel=sigmoid, random_state=42;, score=0.099 total time=   0.0s\n",
      "[CV 3/5] END C=100, class_weight=balanced, gamma=0.1, kernel=sigmoid, random_state=42;, score=0.118 total time=   0.0s\n",
      "[CV 4/5] END C=100, class_weight=balanced, gamma=0.1, kernel=sigmoid, random_state=42;, score=0.174 total time=   0.0s\n",
      "[CV 5/5] END C=100, class_weight=balanced, gamma=0.1, kernel=sigmoid, random_state=42;, score=0.143 total time=   0.0s\n",
      "[CV 1/5] END C=100, class_weight=balanced, gamma=0.01, kernel=rbf, random_state=42;, score=0.080 total time=   0.0s\n",
      "[CV 2/5] END C=100, class_weight=balanced, gamma=0.01, kernel=rbf, random_state=42;, score=0.081 total time=   0.0s\n",
      "[CV 3/5] END C=100, class_weight=balanced, gamma=0.01, kernel=rbf, random_state=42;, score=0.093 total time=   0.0s\n",
      "[CV 4/5] END C=100, class_weight=balanced, gamma=0.01, kernel=rbf, random_state=42;, score=0.081 total time=   0.0s\n",
      "[CV 5/5] END C=100, class_weight=balanced, gamma=0.01, kernel=rbf, random_state=42;, score=0.099 total time=   0.0s\n",
      "[CV 1/5] END C=100, class_weight=balanced, gamma=0.01, kernel=sigmoid, random_state=42;, score=0.037 total time=   0.0s\n",
      "[CV 2/5] END C=100, class_weight=balanced, gamma=0.01, kernel=sigmoid, random_state=42;, score=0.075 total time=   0.0s\n",
      "[CV 3/5] END C=100, class_weight=balanced, gamma=0.01, kernel=sigmoid, random_state=42;, score=0.075 total time=   0.0s\n",
      "[CV 4/5] END C=100, class_weight=balanced, gamma=0.01, kernel=sigmoid, random_state=42;, score=0.075 total time=   0.0s\n",
      "[CV 5/5] END C=100, class_weight=balanced, gamma=0.01, kernel=sigmoid, random_state=42;, score=0.087 total time=   0.0s\n",
      "[CV 1/5] END C=100, class_weight=balanced, gamma=0.001, kernel=rbf, random_state=42;, score=0.037 total time=   0.0s\n",
      "[CV 2/5] END C=100, class_weight=balanced, gamma=0.001, kernel=rbf, random_state=42;, score=0.068 total time=   0.0s\n",
      "[CV 3/5] END C=100, class_weight=balanced, gamma=0.001, kernel=rbf, random_state=42;, score=0.075 total time=   0.0s\n",
      "[CV 4/5] END C=100, class_weight=balanced, gamma=0.001, kernel=rbf, random_state=42;, score=0.068 total time=   0.0s\n",
      "[CV 5/5] END C=100, class_weight=balanced, gamma=0.001, kernel=rbf, random_state=42;, score=0.087 total time=   0.0s\n",
      "[CV 1/5] END C=100, class_weight=balanced, gamma=0.001, kernel=sigmoid, random_state=42;, score=0.037 total time=   0.0s\n",
      "[CV 2/5] END C=100, class_weight=balanced, gamma=0.001, kernel=sigmoid, random_state=42;, score=0.068 total time=   0.0s\n",
      "[CV 3/5] END C=100, class_weight=balanced, gamma=0.001, kernel=sigmoid, random_state=42;, score=0.075 total time=   0.0s\n",
      "[CV 4/5] END C=100, class_weight=balanced, gamma=0.001, kernel=sigmoid, random_state=42;, score=0.068 total time=   0.0s\n",
      "[CV 5/5] END C=100, class_weight=balanced, gamma=0.001, kernel=sigmoid, random_state=42;, score=0.087 total time=   0.0s\n",
      "[CV 1/5] END C=100, class_weight=balanced, gamma=scale, kernel=rbf, random_state=42;, score=0.259 total time=   0.0s\n",
      "[CV 2/5] END C=100, class_weight=balanced, gamma=scale, kernel=rbf, random_state=42;, score=0.224 total time=   0.0s\n",
      "[CV 3/5] END C=100, class_weight=balanced, gamma=scale, kernel=rbf, random_state=42;, score=0.255 total time=   0.0s\n",
      "[CV 4/5] END C=100, class_weight=balanced, gamma=scale, kernel=rbf, random_state=42;, score=0.236 total time=   0.0s\n",
      "[CV 5/5] END C=100, class_weight=balanced, gamma=scale, kernel=rbf, random_state=42;, score=0.205 total time=   0.0s\n",
      "[CV 1/5] END C=100, class_weight=balanced, gamma=scale, kernel=sigmoid, random_state=42;, score=0.037 total time=   0.0s\n",
      "[CV 2/5] END C=100, class_weight=balanced, gamma=scale, kernel=sigmoid, random_state=42;, score=0.050 total time=   0.0s\n",
      "[CV 3/5] END C=100, class_weight=balanced, gamma=scale, kernel=sigmoid, random_state=42;, score=0.043 total time=   0.0s\n",
      "[CV 4/5] END C=100, class_weight=balanced, gamma=scale, kernel=sigmoid, random_state=42;, score=0.068 total time=   0.0s\n",
      "[CV 5/5] END C=100, class_weight=balanced, gamma=scale, kernel=sigmoid, random_state=42;, score=0.062 total time=   0.0s\n",
      "[CV 1/5] END C=100, class_weight=balanced, gamma=auto, kernel=rbf, random_state=42;, score=0.142 total time=   0.0s\n",
      "[CV 2/5] END C=100, class_weight=balanced, gamma=auto, kernel=rbf, random_state=42;, score=0.106 total time=   0.0s\n",
      "[CV 3/5] END C=100, class_weight=balanced, gamma=auto, kernel=rbf, random_state=42;, score=0.106 total time=   0.0s\n",
      "[CV 4/5] END C=100, class_weight=balanced, gamma=auto, kernel=rbf, random_state=42;, score=0.186 total time=   0.0s\n",
      "[CV 5/5] END C=100, class_weight=balanced, gamma=auto, kernel=rbf, random_state=42;, score=0.193 total time=   0.0s\n",
      "[CV 1/5] END C=100, class_weight=balanced, gamma=auto, kernel=sigmoid, random_state=42;, score=0.123 total time=   0.0s\n",
      "[CV 2/5] END C=100, class_weight=balanced, gamma=auto, kernel=sigmoid, random_state=42;, score=0.093 total time=   0.0s\n",
      "[CV 3/5] END C=100, class_weight=balanced, gamma=auto, kernel=sigmoid, random_state=42;, score=0.124 total time=   0.0s\n",
      "[CV 4/5] END C=100, class_weight=balanced, gamma=auto, kernel=sigmoid, random_state=42;, score=0.174 total time=   0.0s\n",
      "[CV 5/5] END C=100, class_weight=balanced, gamma=auto, kernel=sigmoid, random_state=42;, score=0.174 total time=   0.0s\n",
      "[CV 1/5] END C=100, class_weight=None, gamma=1, kernel=rbf, random_state=42;, score=0.204 total time=   0.0s\n",
      "[CV 2/5] END C=100, class_weight=None, gamma=1, kernel=rbf, random_state=42;, score=0.217 total time=   0.0s\n",
      "[CV 3/5] END C=100, class_weight=None, gamma=1, kernel=rbf, random_state=42;, score=0.186 total time=   0.0s\n",
      "[CV 4/5] END C=100, class_weight=None, gamma=1, kernel=rbf, random_state=42;, score=0.224 total time=   0.0s\n",
      "[CV 5/5] END C=100, class_weight=None, gamma=1, kernel=rbf, random_state=42;, score=0.199 total time=   0.0s\n",
      "[CV 1/5] END C=100, class_weight=None, gamma=1, kernel=sigmoid, random_state=42;, score=0.222 total time=   0.0s\n",
      "[CV 2/5] END C=100, class_weight=None, gamma=1, kernel=sigmoid, random_state=42;, score=0.199 total time=   0.0s\n",
      "[CV 3/5] END C=100, class_weight=None, gamma=1, kernel=sigmoid, random_state=42;, score=0.199 total time=   0.0s\n",
      "[CV 4/5] END C=100, class_weight=None, gamma=1, kernel=sigmoid, random_state=42;, score=0.224 total time=   0.0s\n",
      "[CV 5/5] END C=100, class_weight=None, gamma=1, kernel=sigmoid, random_state=42;, score=0.193 total time=   0.0s\n",
      "[CV 1/5] END C=100, class_weight=None, gamma=0.1, kernel=rbf, random_state=42;, score=0.198 total time=   0.0s\n",
      "[CV 2/5] END C=100, class_weight=None, gamma=0.1, kernel=rbf, random_state=42;, score=0.180 total time=   0.0s\n",
      "[CV 3/5] END C=100, class_weight=None, gamma=0.1, kernel=rbf, random_state=42;, score=0.180 total time=   0.0s\n",
      "[CV 4/5] END C=100, class_weight=None, gamma=0.1, kernel=rbf, random_state=42;, score=0.211 total time=   0.0s\n",
      "[CV 5/5] END C=100, class_weight=None, gamma=0.1, kernel=rbf, random_state=42;, score=0.199 total time=   0.0s\n",
      "[CV 1/5] END C=100, class_weight=None, gamma=0.1, kernel=sigmoid, random_state=42;, score=0.204 total time=   0.0s\n",
      "[CV 2/5] END C=100, class_weight=None, gamma=0.1, kernel=sigmoid, random_state=42;, score=0.161 total time=   0.0s\n",
      "[CV 3/5] END C=100, class_weight=None, gamma=0.1, kernel=sigmoid, random_state=42;, score=0.186 total time=   0.0s\n",
      "[CV 4/5] END C=100, class_weight=None, gamma=0.1, kernel=sigmoid, random_state=42;, score=0.193 total time=   0.0s\n",
      "[CV 5/5] END C=100, class_weight=None, gamma=0.1, kernel=sigmoid, random_state=42;, score=0.193 total time=   0.0s\n",
      "[CV 1/5] END C=100, class_weight=None, gamma=0.01, kernel=rbf, random_state=42;, score=0.136 total time=   0.0s\n",
      "[CV 2/5] END C=100, class_weight=None, gamma=0.01, kernel=rbf, random_state=42;, score=0.124 total time=   0.0s\n",
      "[CV 3/5] END C=100, class_weight=None, gamma=0.01, kernel=rbf, random_state=42;, score=0.118 total time=   0.0s\n",
      "[CV 4/5] END C=100, class_weight=None, gamma=0.01, kernel=rbf, random_state=42;, score=0.130 total time=   0.0s\n",
      "[CV 5/5] END C=100, class_weight=None, gamma=0.01, kernel=rbf, random_state=42;, score=0.143 total time=   0.0s\n",
      "[CV 1/5] END C=100, class_weight=None, gamma=0.01, kernel=sigmoid, random_state=42;, score=0.130 total time=   0.0s\n",
      "[CV 2/5] END C=100, class_weight=None, gamma=0.01, kernel=sigmoid, random_state=42;, score=0.130 total time=   0.0s\n",
      "[CV 3/5] END C=100, class_weight=None, gamma=0.01, kernel=sigmoid, random_state=42;, score=0.130 total time=   0.0s\n",
      "[CV 4/5] END C=100, class_weight=None, gamma=0.01, kernel=sigmoid, random_state=42;, score=0.130 total time=   0.0s\n",
      "[CV 5/5] END C=100, class_weight=None, gamma=0.01, kernel=sigmoid, random_state=42;, score=0.130 total time=   0.0s\n",
      "[CV 1/5] END C=100, class_weight=None, gamma=0.001, kernel=rbf, random_state=42;, score=0.130 total time=   0.0s\n",
      "[CV 2/5] END C=100, class_weight=None, gamma=0.001, kernel=rbf, random_state=42;, score=0.130 total time=   0.0s\n",
      "[CV 3/5] END C=100, class_weight=None, gamma=0.001, kernel=rbf, random_state=42;, score=0.130 total time=   0.0s\n",
      "[CV 4/5] END C=100, class_weight=None, gamma=0.001, kernel=rbf, random_state=42;, score=0.130 total time=   0.0s\n",
      "[CV 5/5] END C=100, class_weight=None, gamma=0.001, kernel=rbf, random_state=42;, score=0.130 total time=   0.0s\n",
      "[CV 1/5] END C=100, class_weight=None, gamma=0.001, kernel=sigmoid, random_state=42;, score=0.130 total time=   0.0s\n",
      "[CV 2/5] END C=100, class_weight=None, gamma=0.001, kernel=sigmoid, random_state=42;, score=0.130 total time=   0.0s\n",
      "[CV 3/5] END C=100, class_weight=None, gamma=0.001, kernel=sigmoid, random_state=42;, score=0.130 total time=   0.0s\n",
      "[CV 4/5] END C=100, class_weight=None, gamma=0.001, kernel=sigmoid, random_state=42;, score=0.130 total time=   0.0s\n",
      "[CV 5/5] END C=100, class_weight=None, gamma=0.001, kernel=sigmoid, random_state=42;, score=0.130 total time=   0.0s\n",
      "[CV 1/5] END C=100, class_weight=None, gamma=scale, kernel=rbf, random_state=42;, score=0.309 total time=   0.0s\n",
      "[CV 2/5] END C=100, class_weight=None, gamma=scale, kernel=rbf, random_state=42;, score=0.224 total time=   0.0s\n",
      "[CV 3/5] END C=100, class_weight=None, gamma=scale, kernel=rbf, random_state=42;, score=0.236 total time=   0.0s\n",
      "[CV 4/5] END C=100, class_weight=None, gamma=scale, kernel=rbf, random_state=42;, score=0.242 total time=   0.0s\n",
      "[CV 5/5] END C=100, class_weight=None, gamma=scale, kernel=rbf, random_state=42;, score=0.193 total time=   0.0s\n",
      "[CV 1/5] END C=100, class_weight=None, gamma=scale, kernel=sigmoid, random_state=42;, score=0.130 total time=   0.0s\n",
      "[CV 2/5] END C=100, class_weight=None, gamma=scale, kernel=sigmoid, random_state=42;, score=0.130 total time=   0.0s\n",
      "[CV 3/5] END C=100, class_weight=None, gamma=scale, kernel=sigmoid, random_state=42;, score=0.130 total time=   0.0s\n",
      "[CV 4/5] END C=100, class_weight=None, gamma=scale, kernel=sigmoid, random_state=42;, score=0.130 total time=   0.0s\n",
      "[CV 5/5] END C=100, class_weight=None, gamma=scale, kernel=sigmoid, random_state=42;, score=0.130 total time=   0.0s\n",
      "[CV 1/5] END C=100, class_weight=None, gamma=auto, kernel=rbf, random_state=42;, score=0.222 total time=   0.0s\n",
      "[CV 2/5] END C=100, class_weight=None, gamma=auto, kernel=rbf, random_state=42;, score=0.186 total time=   0.0s\n",
      "[CV 3/5] END C=100, class_weight=None, gamma=auto, kernel=rbf, random_state=42;, score=0.186 total time=   0.0s\n",
      "[CV 4/5] END C=100, class_weight=None, gamma=auto, kernel=rbf, random_state=42;, score=0.236 total time=   0.0s\n",
      "[CV 5/5] END C=100, class_weight=None, gamma=auto, kernel=rbf, random_state=42;, score=0.205 total time=   0.0s\n",
      "[CV 1/5] END C=100, class_weight=None, gamma=auto, kernel=sigmoid, random_state=42;, score=0.204 total time=   0.0s\n",
      "[CV 2/5] END C=100, class_weight=None, gamma=auto, kernel=sigmoid, random_state=42;, score=0.180 total time=   0.0s\n",
      "[CV 3/5] END C=100, class_weight=None, gamma=auto, kernel=sigmoid, random_state=42;, score=0.186 total time=   0.0s\n",
      "[CV 4/5] END C=100, class_weight=None, gamma=auto, kernel=sigmoid, random_state=42;, score=0.211 total time=   0.0s\n",
      "[CV 5/5] END C=100, class_weight=None, gamma=auto, kernel=sigmoid, random_state=42;, score=0.193 total time=   0.0s\n",
      "[CV 1/5] END C=1000, class_weight=balanced, gamma=1, kernel=rbf, random_state=42;, score=0.154 total time=   0.0s\n",
      "[CV 2/5] END C=1000, class_weight=balanced, gamma=1, kernel=rbf, random_state=42;, score=0.155 total time=   0.0s\n",
      "[CV 3/5] END C=1000, class_weight=balanced, gamma=1, kernel=rbf, random_state=42;, score=0.174 total time=   0.0s\n",
      "[CV 4/5] END C=1000, class_weight=balanced, gamma=1, kernel=rbf, random_state=42;, score=0.180 total time=   0.0s\n",
      "[CV 5/5] END C=1000, class_weight=balanced, gamma=1, kernel=rbf, random_state=42;, score=0.161 total time=   0.0s\n",
      "[CV 1/5] END C=1000, class_weight=balanced, gamma=1, kernel=sigmoid, random_state=42;, score=0.142 total time=   0.0s\n",
      "[CV 2/5] END C=1000, class_weight=balanced, gamma=1, kernel=sigmoid, random_state=42;, score=0.161 total time=   0.0s\n",
      "[CV 3/5] END C=1000, class_weight=balanced, gamma=1, kernel=sigmoid, random_state=42;, score=0.118 total time=   0.0s\n",
      "[CV 4/5] END C=1000, class_weight=balanced, gamma=1, kernel=sigmoid, random_state=42;, score=0.186 total time=   0.0s\n",
      "[CV 5/5] END C=1000, class_weight=balanced, gamma=1, kernel=sigmoid, random_state=42;, score=0.199 total time=   0.0s\n",
      "[CV 1/5] END C=1000, class_weight=balanced, gamma=0.1, kernel=rbf, random_state=42;, score=0.142 total time=   0.0s\n",
      "[CV 2/5] END C=1000, class_weight=balanced, gamma=0.1, kernel=rbf, random_state=42;, score=0.130 total time=   0.0s\n",
      "[CV 3/5] END C=1000, class_weight=balanced, gamma=0.1, kernel=rbf, random_state=42;, score=0.118 total time=   0.0s\n",
      "[CV 4/5] END C=1000, class_weight=balanced, gamma=0.1, kernel=rbf, random_state=42;, score=0.211 total time=   0.0s\n",
      "[CV 5/5] END C=1000, class_weight=balanced, gamma=0.1, kernel=rbf, random_state=42;, score=0.211 total time=   0.0s\n",
      "[CV 1/5] END C=1000, class_weight=balanced, gamma=0.1, kernel=sigmoid, random_state=42;, score=0.123 total time=   0.0s\n",
      "[CV 2/5] END C=1000, class_weight=balanced, gamma=0.1, kernel=sigmoid, random_state=42;, score=0.143 total time=   0.0s\n",
      "[CV 3/5] END C=1000, class_weight=balanced, gamma=0.1, kernel=sigmoid, random_state=42;, score=0.118 total time=   0.0s\n",
      "[CV 4/5] END C=1000, class_weight=balanced, gamma=0.1, kernel=sigmoid, random_state=42;, score=0.193 total time=   0.0s\n",
      "[CV 5/5] END C=1000, class_weight=balanced, gamma=0.1, kernel=sigmoid, random_state=42;, score=0.211 total time=   0.0s\n",
      "[CV 1/5] END C=1000, class_weight=balanced, gamma=0.01, kernel=rbf, random_state=42;, score=0.136 total time=   0.0s\n",
      "[CV 2/5] END C=1000, class_weight=balanced, gamma=0.01, kernel=rbf, random_state=42;, score=0.099 total time=   0.0s\n",
      "[CV 3/5] END C=1000, class_weight=balanced, gamma=0.01, kernel=rbf, random_state=42;, score=0.124 total time=   0.0s\n",
      "[CV 4/5] END C=1000, class_weight=balanced, gamma=0.01, kernel=rbf, random_state=42;, score=0.174 total time=   0.0s\n",
      "[CV 5/5] END C=1000, class_weight=balanced, gamma=0.01, kernel=rbf, random_state=42;, score=0.161 total time=   0.0s\n",
      "[CV 1/5] END C=1000, class_weight=balanced, gamma=0.01, kernel=sigmoid, random_state=42;, score=0.111 total time=   0.0s\n",
      "[CV 2/5] END C=1000, class_weight=balanced, gamma=0.01, kernel=sigmoid, random_state=42;, score=0.099 total time=   0.0s\n",
      "[CV 3/5] END C=1000, class_weight=balanced, gamma=0.01, kernel=sigmoid, random_state=42;, score=0.118 total time=   0.0s\n",
      "[CV 4/5] END C=1000, class_weight=balanced, gamma=0.01, kernel=sigmoid, random_state=42;, score=0.149 total time=   0.0s\n",
      "[CV 5/5] END C=1000, class_weight=balanced, gamma=0.01, kernel=sigmoid, random_state=42;, score=0.149 total time=   0.0s\n",
      "[CV 1/5] END C=1000, class_weight=balanced, gamma=0.001, kernel=rbf, random_state=42;, score=0.031 total time=   0.0s\n",
      "[CV 2/5] END C=1000, class_weight=balanced, gamma=0.001, kernel=rbf, random_state=42;, score=0.099 total time=   0.0s\n",
      "[CV 3/5] END C=1000, class_weight=balanced, gamma=0.001, kernel=rbf, random_state=42;, score=0.075 total time=   0.0s\n",
      "[CV 4/5] END C=1000, class_weight=balanced, gamma=0.001, kernel=rbf, random_state=42;, score=0.043 total time=   0.0s\n",
      "[CV 5/5] END C=1000, class_weight=balanced, gamma=0.001, kernel=rbf, random_state=42;, score=0.099 total time=   0.0s\n",
      "[CV 1/5] END C=1000, class_weight=balanced, gamma=0.001, kernel=sigmoid, random_state=42;, score=0.012 total time=   0.0s\n",
      "[CV 2/5] END C=1000, class_weight=balanced, gamma=0.001, kernel=sigmoid, random_state=42;, score=0.099 total time=   0.0s\n",
      "[CV 3/5] END C=1000, class_weight=balanced, gamma=0.001, kernel=sigmoid, random_state=42;, score=0.118 total time=   0.0s\n",
      "[CV 4/5] END C=1000, class_weight=balanced, gamma=0.001, kernel=sigmoid, random_state=42;, score=0.050 total time=   0.0s\n",
      "[CV 5/5] END C=1000, class_weight=balanced, gamma=0.001, kernel=sigmoid, random_state=42;, score=0.087 total time=   0.0s\n",
      "[CV 1/5] END C=1000, class_weight=balanced, gamma=scale, kernel=rbf, random_state=42;, score=0.235 total time=   0.0s\n",
      "[CV 2/5] END C=1000, class_weight=balanced, gamma=scale, kernel=rbf, random_state=42;, score=0.255 total time=   0.0s\n",
      "[CV 3/5] END C=1000, class_weight=balanced, gamma=scale, kernel=rbf, random_state=42;, score=0.267 total time=   0.0s\n",
      "[CV 4/5] END C=1000, class_weight=balanced, gamma=scale, kernel=rbf, random_state=42;, score=0.193 total time=   0.0s\n",
      "[CV 5/5] END C=1000, class_weight=balanced, gamma=scale, kernel=rbf, random_state=42;, score=0.205 total time=   0.0s\n",
      "[CV 1/5] END C=1000, class_weight=balanced, gamma=scale, kernel=sigmoid, random_state=42;, score=0.031 total time=   0.0s\n",
      "[CV 2/5] END C=1000, class_weight=balanced, gamma=scale, kernel=sigmoid, random_state=42;, score=0.031 total time=   0.0s\n",
      "[CV 3/5] END C=1000, class_weight=balanced, gamma=scale, kernel=sigmoid, random_state=42;, score=0.031 total time=   0.0s\n",
      "[CV 4/5] END C=1000, class_weight=balanced, gamma=scale, kernel=sigmoid, random_state=42;, score=0.031 total time=   0.0s\n",
      "[CV 5/5] END C=1000, class_weight=balanced, gamma=scale, kernel=sigmoid, random_state=42;, score=0.087 total time=   0.0s\n",
      "[CV 1/5] END C=1000, class_weight=balanced, gamma=auto, kernel=rbf, random_state=42;, score=0.130 total time=   0.0s\n",
      "[CV 2/5] END C=1000, class_weight=balanced, gamma=auto, kernel=rbf, random_state=42;, score=0.118 total time=   0.0s\n",
      "[CV 3/5] END C=1000, class_weight=balanced, gamma=auto, kernel=rbf, random_state=42;, score=0.124 total time=   0.0s\n",
      "[CV 4/5] END C=1000, class_weight=balanced, gamma=auto, kernel=rbf, random_state=42;, score=0.199 total time=   0.0s\n",
      "[CV 5/5] END C=1000, class_weight=balanced, gamma=auto, kernel=rbf, random_state=42;, score=0.205 total time=   0.0s\n",
      "[CV 1/5] END C=1000, class_weight=balanced, gamma=auto, kernel=sigmoid, random_state=42;, score=0.142 total time=   0.0s\n",
      "[CV 2/5] END C=1000, class_weight=balanced, gamma=auto, kernel=sigmoid, random_state=42;, score=0.143 total time=   0.0s\n",
      "[CV 3/5] END C=1000, class_weight=balanced, gamma=auto, kernel=sigmoid, random_state=42;, score=0.124 total time=   0.0s\n",
      "[CV 4/5] END C=1000, class_weight=balanced, gamma=auto, kernel=sigmoid, random_state=42;, score=0.211 total time=   0.0s\n",
      "[CV 5/5] END C=1000, class_weight=balanced, gamma=auto, kernel=sigmoid, random_state=42;, score=0.193 total time=   0.0s\n",
      "[CV 1/5] END C=1000, class_weight=None, gamma=1, kernel=rbf, random_state=42;, score=0.247 total time=   0.0s\n",
      "[CV 2/5] END C=1000, class_weight=None, gamma=1, kernel=rbf, random_state=42;, score=0.217 total time=   0.0s\n",
      "[CV 3/5] END C=1000, class_weight=None, gamma=1, kernel=rbf, random_state=42;, score=0.205 total time=   0.0s\n",
      "[CV 4/5] END C=1000, class_weight=None, gamma=1, kernel=rbf, random_state=42;, score=0.224 total time=   0.0s\n",
      "[CV 5/5] END C=1000, class_weight=None, gamma=1, kernel=rbf, random_state=42;, score=0.224 total time=   0.0s\n",
      "[CV 1/5] END C=1000, class_weight=None, gamma=1, kernel=sigmoid, random_state=42;, score=0.216 total time=   0.0s\n",
      "[CV 2/5] END C=1000, class_weight=None, gamma=1, kernel=sigmoid, random_state=42;, score=0.199 total time=   0.0s\n",
      "[CV 3/5] END C=1000, class_weight=None, gamma=1, kernel=sigmoid, random_state=42;, score=0.236 total time=   0.0s\n",
      "[CV 4/5] END C=1000, class_weight=None, gamma=1, kernel=sigmoid, random_state=42;, score=0.248 total time=   0.0s\n",
      "[CV 5/5] END C=1000, class_weight=None, gamma=1, kernel=sigmoid, random_state=42;, score=0.242 total time=   0.0s\n",
      "[CV 1/5] END C=1000, class_weight=None, gamma=0.1, kernel=rbf, random_state=42;, score=0.222 total time=   0.0s\n",
      "[CV 2/5] END C=1000, class_weight=None, gamma=0.1, kernel=rbf, random_state=42;, score=0.211 total time=   0.0s\n",
      "[CV 3/5] END C=1000, class_weight=None, gamma=0.1, kernel=rbf, random_state=42;, score=0.211 total time=   0.0s\n",
      "[CV 4/5] END C=1000, class_weight=None, gamma=0.1, kernel=rbf, random_state=42;, score=0.236 total time=   0.0s\n",
      "[CV 5/5] END C=1000, class_weight=None, gamma=0.1, kernel=rbf, random_state=42;, score=0.199 total time=   0.0s\n",
      "[CV 1/5] END C=1000, class_weight=None, gamma=0.1, kernel=sigmoid, random_state=42;, score=0.222 total time=   0.0s\n",
      "[CV 2/5] END C=1000, class_weight=None, gamma=0.1, kernel=sigmoid, random_state=42;, score=0.211 total time=   0.0s\n",
      "[CV 3/5] END C=1000, class_weight=None, gamma=0.1, kernel=sigmoid, random_state=42;, score=0.199 total time=   0.0s\n",
      "[CV 4/5] END C=1000, class_weight=None, gamma=0.1, kernel=sigmoid, random_state=42;, score=0.230 total time=   0.0s\n",
      "[CV 5/5] END C=1000, class_weight=None, gamma=0.1, kernel=sigmoid, random_state=42;, score=0.199 total time=   0.0s\n",
      "[CV 1/5] END C=1000, class_weight=None, gamma=0.01, kernel=rbf, random_state=42;, score=0.198 total time=   0.0s\n",
      "[CV 2/5] END C=1000, class_weight=None, gamma=0.01, kernel=rbf, random_state=42;, score=0.180 total time=   0.0s\n",
      "[CV 3/5] END C=1000, class_weight=None, gamma=0.01, kernel=rbf, random_state=42;, score=0.180 total time=   0.0s\n",
      "[CV 4/5] END C=1000, class_weight=None, gamma=0.01, kernel=rbf, random_state=42;, score=0.205 total time=   0.0s\n",
      "[CV 5/5] END C=1000, class_weight=None, gamma=0.01, kernel=rbf, random_state=42;, score=0.199 total time=   0.0s\n",
      "[CV 1/5] END C=1000, class_weight=None, gamma=0.01, kernel=sigmoid, random_state=42;, score=0.204 total time=   0.0s\n",
      "[CV 2/5] END C=1000, class_weight=None, gamma=0.01, kernel=sigmoid, random_state=42;, score=0.161 total time=   0.0s\n",
      "[CV 3/5] END C=1000, class_weight=None, gamma=0.01, kernel=sigmoid, random_state=42;, score=0.186 total time=   0.0s\n",
      "[CV 4/5] END C=1000, class_weight=None, gamma=0.01, kernel=sigmoid, random_state=42;, score=0.193 total time=   0.0s\n",
      "[CV 5/5] END C=1000, class_weight=None, gamma=0.01, kernel=sigmoid, random_state=42;, score=0.193 total time=   0.0s\n",
      "[CV 1/5] END C=1000, class_weight=None, gamma=0.001, kernel=rbf, random_state=42;, score=0.136 total time=   0.0s\n",
      "[CV 2/5] END C=1000, class_weight=None, gamma=0.001, kernel=rbf, random_state=42;, score=0.124 total time=   0.0s\n",
      "[CV 3/5] END C=1000, class_weight=None, gamma=0.001, kernel=rbf, random_state=42;, score=0.118 total time=   0.0s\n",
      "[CV 4/5] END C=1000, class_weight=None, gamma=0.001, kernel=rbf, random_state=42;, score=0.130 total time=   0.0s\n",
      "[CV 5/5] END C=1000, class_weight=None, gamma=0.001, kernel=rbf, random_state=42;, score=0.143 total time=   0.0s\n",
      "[CV 1/5] END C=1000, class_weight=None, gamma=0.001, kernel=sigmoid, random_state=42;, score=0.130 total time=   0.0s\n",
      "[CV 2/5] END C=1000, class_weight=None, gamma=0.001, kernel=sigmoid, random_state=42;, score=0.130 total time=   0.0s\n",
      "[CV 3/5] END C=1000, class_weight=None, gamma=0.001, kernel=sigmoid, random_state=42;, score=0.130 total time=   0.0s\n",
      "[CV 4/5] END C=1000, class_weight=None, gamma=0.001, kernel=sigmoid, random_state=42;, score=0.130 total time=   0.0s\n",
      "[CV 5/5] END C=1000, class_weight=None, gamma=0.001, kernel=sigmoid, random_state=42;, score=0.130 total time=   0.0s\n",
      "[CV 1/5] END C=1000, class_weight=None, gamma=scale, kernel=rbf, random_state=42;, score=0.259 total time=   0.1s\n",
      "[CV 2/5] END C=1000, class_weight=None, gamma=scale, kernel=rbf, random_state=42;, score=0.267 total time=   0.0s\n",
      "[CV 3/5] END C=1000, class_weight=None, gamma=scale, kernel=rbf, random_state=42;, score=0.255 total time=   0.1s\n",
      "[CV 4/5] END C=1000, class_weight=None, gamma=scale, kernel=rbf, random_state=42;, score=0.217 total time=   0.0s\n",
      "[CV 5/5] END C=1000, class_weight=None, gamma=scale, kernel=rbf, random_state=42;, score=0.205 total time=   0.0s\n",
      "[CV 1/5] END C=1000, class_weight=None, gamma=scale, kernel=sigmoid, random_state=42;, score=0.130 total time=   0.0s\n",
      "[CV 2/5] END C=1000, class_weight=None, gamma=scale, kernel=sigmoid, random_state=42;, score=0.130 total time=   0.0s\n",
      "[CV 3/5] END C=1000, class_weight=None, gamma=scale, kernel=sigmoid, random_state=42;, score=0.130 total time=   0.0s\n",
      "[CV 4/5] END C=1000, class_weight=None, gamma=scale, kernel=sigmoid, random_state=42;, score=0.130 total time=   0.0s\n",
      "[CV 5/5] END C=1000, class_weight=None, gamma=scale, kernel=sigmoid, random_state=42;, score=0.130 total time=   0.0s\n",
      "[CV 1/5] END C=1000, class_weight=None, gamma=auto, kernel=rbf, random_state=42;, score=0.198 total time=   0.0s\n",
      "[CV 2/5] END C=1000, class_weight=None, gamma=auto, kernel=rbf, random_state=42;, score=0.199 total time=   0.0s\n",
      "[CV 3/5] END C=1000, class_weight=None, gamma=auto, kernel=rbf, random_state=42;, score=0.211 total time=   0.0s\n",
      "[CV 4/5] END C=1000, class_weight=None, gamma=auto, kernel=rbf, random_state=42;, score=0.236 total time=   0.0s\n",
      "[CV 5/5] END C=1000, class_weight=None, gamma=auto, kernel=rbf, random_state=42;, score=0.205 total time=   0.0s\n",
      "[CV 1/5] END C=1000, class_weight=None, gamma=auto, kernel=sigmoid, random_state=42;, score=0.216 total time=   0.0s\n",
      "[CV 2/5] END C=1000, class_weight=None, gamma=auto, kernel=sigmoid, random_state=42;, score=0.211 total time=   0.0s\n",
      "[CV 3/5] END C=1000, class_weight=None, gamma=auto, kernel=sigmoid, random_state=42;, score=0.199 total time=   0.0s\n",
      "[CV 4/5] END C=1000, class_weight=None, gamma=auto, kernel=sigmoid, random_state=42;, score=0.230 total time=   0.0s\n",
      "[CV 5/5] END C=1000, class_weight=None, gamma=auto, kernel=sigmoid, random_state=42;, score=0.199 total time=   0.0s\n",
      "BEST PARAMS {'C': 1, 'class_weight': None, 'gamma': 'scale', 'kernel': 'rbf', 'random_state': 42}\n",
      "BEST ESTIMATOR SVC(C=1, random_state=42)\n",
      "CLASSIFICATION REPORT\n",
      "               precision    recall  f1-score   support\n",
      "\n",
      "         Bug       0.35      0.44      0.39        18\n",
      "        Dark       0.00      0.00      0.00         9\n",
      "      Dragon       0.00      0.00      0.00         7\n",
      "    Electric       0.27      0.25      0.26        12\n",
      "       Fairy       0.00      0.00      0.00         6\n",
      "    Fighting       0.27      0.38      0.32         8\n",
      "        Fire       0.30      0.23      0.26        13\n",
      "      Flying       0.00      0.00      0.00         2\n",
      "       Ghost       0.00      0.00      0.00         7\n",
      "       Grass       0.25      0.16      0.19        19\n",
      "      Ground       0.50      0.22      0.31         9\n",
      "         Ice       0.00      0.00      0.00         4\n",
      "      Normal       0.27      0.57      0.37        23\n",
      "      Poison       0.00      0.00      0.00         8\n",
      "     Psychic       0.28      0.42      0.33        12\n",
      "        Rock       0.25      0.27      0.26        11\n",
      "       Steel       0.50      0.14      0.22         7\n",
      "       Water       0.26      0.48      0.34        27\n",
      "\n",
      "    accuracy                           0.28       202\n",
      "   macro avg       0.19      0.20      0.18       202\n",
      "weighted avg       0.24      0.28      0.24       202\n",
      "\n"
     ]
    },
    {
     "name": "stderr",
     "output_type": "stream",
     "text": [
      "c:\\users\\chamu\\appdata\\local\\programs\\python\\python37\\lib\\site-packages\\sklearn\\metrics\\_classification.py:1318: UndefinedMetricWarning: Precision and F-score are ill-defined and being set to 0.0 in labels with no predicted samples. Use `zero_division` parameter to control this behavior.\n",
      "  _warn_prf(average, modifier, msg_start, len(result))\n",
      "c:\\users\\chamu\\appdata\\local\\programs\\python\\python37\\lib\\site-packages\\sklearn\\metrics\\_classification.py:1318: UndefinedMetricWarning: Precision and F-score are ill-defined and being set to 0.0 in labels with no predicted samples. Use `zero_division` parameter to control this behavior.\n",
      "  _warn_prf(average, modifier, msg_start, len(result))\n",
      "c:\\users\\chamu\\appdata\\local\\programs\\python\\python37\\lib\\site-packages\\sklearn\\metrics\\_classification.py:1318: UndefinedMetricWarning: Precision and F-score are ill-defined and being set to 0.0 in labels with no predicted samples. Use `zero_division` parameter to control this behavior.\n",
      "  _warn_prf(average, modifier, msg_start, len(result))\n"
     ]
    }
   ],
   "source": [
    "from sklearn.model_selection import GridSearchCV\n",
    "\n",
    "# defining parameter range\n",
    "param_grid = {'C': [0.1, 1, 10, 100, 1000],\n",
    "              'gamma': [1, 0.1, 0.01, 0.001, 'scale', 'auto'],\n",
    "              'kernel': ['rbf', 'sigmoid'],\n",
    "              'random_state': [42], # remove randomness\n",
    "              'class_weight': ['balanced', None]}\n",
    "\n",
    "grid = GridSearchCV(SVC(), param_grid, refit = True, verbose = 3)\n",
    "\n",
    "# fitting the model for grid search\n",
    "grid.fit(X_train, y_train)\n",
    "\n",
    "\n",
    "# print best parameter after tuning\n",
    "print(\"BEST PARAMS\",grid.best_params_)\n",
    "\n",
    "# print how our model looks after hyper-parameter tuning\n",
    "print(\"BEST ESTIMATOR\",grid.best_estimator_)\n",
    "\n",
    "grid_predictions = grid.predict(X_test)\n",
    "\n",
    "# print classification report\n",
    "print(\"CLASSIFICATION REPORT\\n\",classification_report(y_test, grid_predictions))"
   ],
   "metadata": {
    "collapsed": false,
    "ExecuteTime": {
     "start_time": "2023-04-04T13:42:23.335536Z",
     "end_time": "2023-04-04T13:42:58.215161Z"
    }
   }
  },
  {
   "cell_type": "markdown",
   "id": "4932b44a",
   "metadata": {},
   "source": [
    "# GAN"
   ]
  },
  {
   "cell_type": "markdown",
   "id": "c29de59c",
   "metadata": {},
   "source": [
    "This doesn't seem viable for generating more data points. See the \"*outputs/generated_pokemon_images_7x7.png*\" file for the results."
   ]
  },
  {
   "cell_type": "markdown",
   "id": "92ee7f4f",
   "metadata": {},
   "source": [
    "Code from https://www.kaggle.com/code/scratchpad/notebook3b2c42d3e9/edit"
   ]
  },
  {
   "cell_type": "code",
   "execution_count": 14,
   "id": "77a9c09b",
   "metadata": {
    "ExecuteTime": {
     "start_time": "2023-04-03T23:05:06.608571Z",
     "end_time": "2023-04-03T23:05:06.630608Z"
    }
   },
   "outputs": [],
   "source": [
    "# # to get the files in proper order\n",
    "# def sorted_alphanumeric(data):  \n",
    "#     convert = lambda text: int(text) if text.isdigit() else text.lower()\n",
    "#     alphanum_key = lambda key: [convert(c) for c in re.split('([0-9]+)',key)]\n",
    "#     return sorted(data,key = alphanum_key)\n",
    "# # defining the size of the image\n",
    "# SIZE = 128\n",
    "# _img = []\n",
    "# path = 'data/images'\n",
    "# files = os.listdir(path)\n",
    "# files = sorted_alphanumeric(files)\n",
    "# for i in tqdm(files):    \n",
    "#     img = cv2.imread(path + '/'+i,1)\n",
    "#     # open cv reads images in BGR format so we have to convert it to RGB\n",
    "#     img = cv2.cvtColor(img, cv2.COLOR_BGR2RGB)\n",
    "#     #resizing image\n",
    "#     img = cv2.resize(img, (SIZE, SIZE))\n",
    "#     img = (img - 127.5) / 127.5\n",
    "#     img = img.astype(float)\n",
    "#     _img.append(img_to_array(img))"
   ]
  },
  {
   "cell_type": "code",
   "execution_count": 15,
   "id": "ff880917",
   "metadata": {
    "ExecuteTime": {
     "start_time": "2023-04-03T23:05:07.189043Z",
     "end_time": "2023-04-03T23:05:07.211391Z"
    }
   },
   "outputs": [],
   "source": [
    "def plot_images(sqr = 5):\n",
    "    plt.figure(figsize = (10,10))\n",
    "    plt.title(\"Real Images\",fontsize = 35)\n",
    "    for i in range(sqr * sqr):\n",
    "        plt.subplot(sqr,sqr,i+1)\n",
    "        plt.imshow(_img[i]*0.5 + 0.5 )\n",
    "        plt.xticks([])\n",
    "        plt.yticks([])\n",
    "\n",
    "# to plot images\n",
    "# plot_images(6)"
   ]
  },
  {
   "cell_type": "code",
   "execution_count": 16,
   "id": "16e4f4d7",
   "metadata": {
    "ExecuteTime": {
     "start_time": "2023-04-03T23:05:12.430575Z",
     "end_time": "2023-04-03T23:05:12.456649Z"
    }
   },
   "outputs": [],
   "source": [
    "# batch_size = 32  # try different numbers here\n",
    "# dataset=tf.data.Dataset.from_tensor_slices(np.array(_img)).batch(batch_size)"
   ]
  },
  {
   "cell_type": "code",
   "execution_count": 17,
   "id": "0c061738",
   "metadata": {
    "ExecuteTime": {
     "start_time": "2023-04-03T23:05:12.872324Z",
     "end_time": "2023-04-03T23:05:12.899836Z"
    }
   },
   "outputs": [],
   "source": [
    "latent_dim = 100\n",
    "def Generator():\n",
    "    model = tf.keras.Sequential()\n",
    "    model.add(layers.Dense(128*128*3, use_bias=False, input_shape=(latent_dim,)))\n",
    "    model.add(layers.Reshape((128,128,3)))\n",
    "    # downsampling\n",
    "    model.add(tf.keras.layers.Conv2D(128,4, strides=1, padding='same',kernel_initializer='he_normal', use_bias=False))\n",
    "    model.add(tf.keras.layers.Conv2D(128,4, strides=2, padding='same',kernel_initializer='he_normal', use_bias=False))\n",
    "    model.add(tf.keras.layers.BatchNormalization())\n",
    "    model.add(tf.keras.layers.LeakyReLU())\n",
    "    model.add(tf.keras.layers.Conv2D(256,4, strides=1, padding='same',kernel_initializer='he_normal', use_bias=False))\n",
    "    model.add(tf.keras.layers.Conv2D(256,4, strides=2, padding='same',kernel_initializer='he_normal', use_bias=False))\n",
    "    model.add(tf.keras.layers.BatchNormalization())\n",
    "    model.add(tf.keras.layers.LeakyReLU())\n",
    "    model.add(tf.keras.layers.Conv2DTranspose(512, 4, strides=1,padding='same',kernel_initializer='he_normal',use_bias=False))\n",
    "    model.add(tf.keras.layers.Conv2D(512,4, strides=2, padding='same',kernel_initializer='he_normal', use_bias=False))\n",
    "    \n",
    "    model.add(tf.keras.layers.LeakyReLU())\n",
    "    #upsampling\n",
    "    model.add(tf.keras.layers.Conv2DTranspose(512, 4, strides=1,padding='same',kernel_initializer='he_normal',use_bias=False))\n",
    "    model.add(tf.keras.layers.Conv2DTranspose(512, 4, strides=2,padding='same',kernel_initializer='he_normal',use_bias=False))\n",
    "    model.add(tf.keras.layers.BatchNormalization())\n",
    "    model.add(tf.keras.layers.LeakyReLU())\n",
    "    model.add(tf.keras.layers.Conv2DTranspose(256, 4, strides=1,padding='same',kernel_initializer='he_normal',use_bias=False))\n",
    "    model.add(tf.keras.layers.Conv2DTranspose(256, 4, strides=2,padding='same',kernel_initializer='he_normal',use_bias=False))\n",
    "    model.add(tf.keras.layers.BatchNormalization())\n",
    "    \n",
    "    model.add(tf.keras.layers.Conv2DTranspose(128, 4, strides=2,padding='same',kernel_initializer='he_normal',use_bias=False))\n",
    "    model.add(tf.keras.layers.Conv2DTranspose(128, 4, strides=1,padding='same',kernel_initializer='he_normal',use_bias=False))\n",
    "    model.add(tf.keras.layers.BatchNormalization())\n",
    "    model.add(tf.keras.layers.Conv2DTranspose(3,4,strides = 1, padding = 'same',activation = 'tanh'))\n",
    "    \n",
    "    \n",
    "\n",
    "    return model"
   ]
  },
  {
   "cell_type": "code",
   "execution_count": 18,
   "id": "e2b7a8c5",
   "metadata": {
    "ExecuteTime": {
     "start_time": "2023-04-03T23:05:17.548797Z",
     "end_time": "2023-04-03T23:05:17.610903Z"
    }
   },
   "outputs": [],
   "source": [
    "# generator = Generator()\n",
    "# generator.summary()"
   ]
  },
  {
   "cell_type": "code",
   "execution_count": 19,
   "id": "25a69c22",
   "metadata": {
    "ExecuteTime": {
     "start_time": "2023-04-03T23:05:18.956729Z",
     "end_time": "2023-04-03T23:05:18.974726Z"
    }
   },
   "outputs": [],
   "source": [
    "def Discriminator():\n",
    "    model = tf.keras.models.Sequential()\n",
    "    model.add(tf.keras.layers.Input((SIZE, SIZE, 3)))\n",
    "    model.add(tf.keras.layers.Conv2D(128,4, strides=2, padding='same',kernel_initializer='he_normal', use_bias=False))\n",
    "    model.add(tf.keras.layers.BatchNormalization())\n",
    "    model.add(tf.keras.layers.LeakyReLU())\n",
    "    model.add(tf.keras.layers.Conv2D(128,4, strides=2, padding='same',kernel_initializer='he_normal', use_bias=False))\n",
    "    model.add(tf.keras.layers.BatchNormalization())\n",
    "    model.add(tf.keras.layers.LeakyReLU())\n",
    "    model.add(tf.keras.layers.Conv2D(256,4, strides=2, padding='same',kernel_initializer='he_normal', use_bias=False))\n",
    "    model.add(tf.keras.layers.BatchNormalization())\n",
    "    model.add(tf.keras.layers.LeakyReLU())\n",
    "    model.add(tf.keras.layers.Conv2D(256,4, strides=2, padding='same',kernel_initializer='he_normal', use_bias=False))\n",
    "    model.add(tf.keras.layers.BatchNormalization())\n",
    "    model.add(tf.keras.layers.LeakyReLU())\n",
    "    model.add(tf.keras.layers.Conv2D(512,4, strides=2, padding='same',kernel_initializer='he_normal', use_bias=False))\n",
    "    model.add(tf.keras.layers.LeakyReLU())\n",
    "    model.add(tf.keras.layers.Flatten())\n",
    "    model.add(tf.keras.layers.Dense(1,activation = 'sigmoid'))\n",
    "    return model\n",
    "  "
   ]
  },
  {
   "cell_type": "code",
   "execution_count": 20,
   "id": "ea3aa85c",
   "metadata": {
    "ExecuteTime": {
     "start_time": "2023-04-03T23:05:20.157580Z",
     "end_time": "2023-04-03T23:05:20.196585Z"
    }
   },
   "outputs": [],
   "source": [
    "# discriminator = Discriminator()\n",
    "# discriminator.summary()"
   ]
  },
  {
   "cell_type": "code",
   "execution_count": 21,
   "id": "3bb60637",
   "metadata": {
    "ExecuteTime": {
     "start_time": "2023-04-03T23:05:20.548477Z",
     "end_time": "2023-04-03T23:05:20.582506Z"
    }
   },
   "outputs": [],
   "source": [
    "# noise = np.random.normal(-1,1,(1,100))\n",
    "# img = generator(noise)\n",
    "# plt.imshow(img[0,:,:,0])\n",
    "# plt.show()"
   ]
  },
  {
   "cell_type": "code",
   "execution_count": 22,
   "id": "099524ce",
   "metadata": {
    "ExecuteTime": {
     "start_time": "2023-04-03T23:05:21.756148Z",
     "end_time": "2023-04-03T23:05:21.795148Z"
    }
   },
   "outputs": [],
   "source": [
    "# optimizer = tf.keras.optimizers.legacy.RMSprop(\n",
    "#         learning_rate=.0001,\n",
    "#         clipvalue=1.0,\n",
    "#         decay=1e-8\n",
    "#     )\n",
    "# cross_entropy = tf.keras.losses.BinaryCrossentropy(from_logits = False)"
   ]
  },
  {
   "cell_type": "code",
   "execution_count": 23,
   "id": "027cc2b5",
   "metadata": {
    "ExecuteTime": {
     "start_time": "2023-04-03T23:05:22.382688Z",
     "end_time": "2023-04-03T23:05:22.442694Z"
    }
   },
   "outputs": [],
   "source": [
    "def generator_loss(fake_output):\n",
    "    return cross_entropy(tf.ones_like(fake_output),fake_output)\n",
    "def discriminator_loss(fake_output, real_output):\n",
    "    fake_loss = cross_entropy(tf.zeros_like(fake_output),fake_output)\n",
    "    real_loss = cross_entropy(tf.ones_like(real_output),real_output)\n",
    "    return fake_loss + real_loss"
   ]
  },
  {
   "cell_type": "code",
   "execution_count": 24,
   "id": "0bd23d5d",
   "metadata": {
    "ExecuteTime": {
     "start_time": "2023-04-03T23:05:23.253796Z",
     "end_time": "2023-04-03T23:05:23.299794Z"
    }
   },
   "outputs": [],
   "source": [
    "def train_steps(images):\n",
    "    noise = np.random.normal(0,1,(batch_size,latent_dim))\n",
    "    with tf.GradientTape() as gen_tape , tf.GradientTape() as disc_tape:\n",
    "        generated_images = generator(noise)\n",
    "        fake_output = discriminator(generated_images)\n",
    "        real_output = discriminator(images)\n",
    "        \n",
    "        gen_loss = generator_loss(fake_output)\n",
    "        dis_loss = discriminator_loss(fake_output, real_output)\n",
    "        \n",
    "        \n",
    "    gradient_of_generator = gen_tape.gradient(gen_loss, generator.trainable_variables)    \n",
    "    gradient_of_discriminator = disc_tape.gradient(dis_loss, discriminator.trainable_variables)\n",
    "    \n",
    "    optimizer.apply_gradients(zip(gradient_of_generator,generator.trainable_variables))\n",
    "    optimizer.apply_gradients(zip(gradient_of_discriminator, discriminator.trainable_variables))\n",
    "    \n",
    "    loss = {'gen loss':gen_loss,\n",
    "           'disc loss': dis_loss}\n",
    "    return loss"
   ]
  },
  {
   "cell_type": "code",
   "execution_count": 25,
   "id": "f922cb53",
   "metadata": {
    "ExecuteTime": {
     "start_time": "2023-04-03T23:05:24.286569Z",
     "end_time": "2023-04-03T23:05:24.324564Z"
    }
   },
   "outputs": [],
   "source": [
    "def plot_generated_images(square = 5, epochs = 0):\n",
    "    \n",
    "    \n",
    "  plt.figure(figsize = (10,10))\n",
    "  for i in range(square * square):\n",
    "    if epochs != 0:    \n",
    "        if(i == square //2):\n",
    "            plt.title(\"Generated Image at Epoch:{}\\n\".format(epochs), fontsize = 32, color = 'black')\n",
    "    plt.subplot(square, square, i+1)\n",
    "    noise = np.random.normal(0,1,(1,latent_dim))\n",
    "    img = generator(noise)\n",
    "    plt.imshow(np.clip((img[0,...]+1)/2, 0, 1))\n",
    "    \n",
    "    plt.xticks([])\n",
    "    plt.yticks([])\n",
    "    plt.grid()\n",
    "    plt.savefig('generated_pokemon_images_7x7.png')"
   ]
  },
  {
   "cell_type": "code",
   "execution_count": 26,
   "id": "fb5c23e6",
   "metadata": {
    "ExecuteTime": {
     "start_time": "2023-04-03T23:05:25.133567Z",
     "end_time": "2023-04-03T23:05:25.201564Z"
    }
   },
   "outputs": [],
   "source": [
    "import time\n",
    "def train(epochs,dataset):\n",
    "    \n",
    "    for epoch in range(epochs):\n",
    "        start = time.time()\n",
    "        print(\"\\nEpoch : {}\".format(epoch + 1))\n",
    "        for images in dataset:\n",
    "            loss = train_steps(images)\n",
    "        print(\" Time:{}\".format(np.round(time.time() - start),2)) \n",
    "        print(\"Generator Loss: {} Discriminator Loss: {}\".format(loss['gen loss'],loss['disc loss']))"
   ]
  },
  {
   "cell_type": "code",
   "execution_count": 25,
   "id": "0a4612f5",
   "metadata": {},
   "outputs": [],
   "source": [
    "# train(5,dataset)  # COMMENTED OUT TO AVOID TRAINING AGAIN\n",
    "# i had train model previously for more than 10 epochs so generated images are quite good"
   ]
  },
  {
   "cell_type": "code",
   "execution_count": 26,
   "id": "a8affa3d",
   "metadata": {},
   "outputs": [],
   "source": [
    "#plot_generated_images(1)"
   ]
  },
  {
   "cell_type": "code",
   "execution_count": 27,
   "id": "ff366e59",
   "metadata": {},
   "outputs": [],
   "source": [
    "#plot_generated_images(2)"
   ]
  },
  {
   "cell_type": "code",
   "execution_count": 28,
   "id": "7ccaab15",
   "metadata": {},
   "outputs": [],
   "source": [
    "#plot_generated_images(5)"
   ]
  },
  {
   "cell_type": "code",
   "execution_count": 29,
   "id": "d3f64e32",
   "metadata": {},
   "outputs": [],
   "source": [
    "#plot_generated_images(7)"
   ]
  },
  {
   "cell_type": "code",
   "execution_count": 30,
   "id": "6cf7601b",
   "metadata": {},
   "outputs": [],
   "source": [
    "#generator.save('generator.h5')\n",
    "#discriminator.save(\"discriminator.h5\")"
   ]
  },
  {
   "cell_type": "markdown",
   "id": "4e7b263b",
   "metadata": {},
   "source": [
    "# MLP"
   ]
  },
  {
   "cell_type": "markdown",
   "id": "7abc0f8e",
   "metadata": {},
   "source": [
    "Code from https://www.kaggle.com/code/leifuer/intro-to-pytorch-loading-image-data/notebook"
   ]
  },
  {
   "cell_type": "code",
   "execution_count": 27,
   "id": "8b7a927f",
   "metadata": {
    "ExecuteTime": {
     "start_time": "2023-04-03T23:05:35.863125Z",
     "end_time": "2023-04-03T23:05:35.877130Z"
    }
   },
   "outputs": [],
   "source": [
    "def test_network(net, trainloader):\n",
    "\n",
    "    criterion = nn.MSELoss()\n",
    "    optimizer = optim.Adam(net.parameters(), lr=0.001)\n",
    "\n",
    "    dataiter = iter(trainloader)\n",
    "    images, labels = dataiter.next()\n",
    "\n",
    "    # Create Variables for the inputs and targets\n",
    "    inputs = Variable(images)\n",
    "    targets = Variable(images)\n",
    "\n",
    "    # Clear the gradients from all Variables\n",
    "    optimizer.zero_grad()\n",
    "\n",
    "    # Forward pass, then backward pass, then update weights\n",
    "    output = net.forward(inputs)\n",
    "    loss = criterion(output, targets)\n",
    "    loss.backward()\n",
    "    optimizer.step()\n",
    "\n",
    "    return True\n",
    "\n",
    "\n",
    "def imshow(image, ax=None, title=None, normalize=True):\n",
    "    \"\"\"Imshow for Tensor.\"\"\"\n",
    "    if ax is None:\n",
    "        fig, ax = plt.subplots()\n",
    "    image = image.numpy().transpose((1, 2, 0))\n",
    "\n",
    "    if normalize:\n",
    "        mean = np.array([0.485, 0.456, 0.406])\n",
    "        std = np.array([0.229, 0.224, 0.225])\n",
    "        image = std * image + mean\n",
    "        image = np.clip(image, 0, 1)\n",
    "\n",
    "    ax.imshow(image)\n",
    "    ax.spines['top'].set_visible(False)\n",
    "    ax.spines['right'].set_visible(False)\n",
    "    ax.spines['left'].set_visible(False)\n",
    "    ax.spines['bottom'].set_visible(False)\n",
    "    ax.tick_params(axis='both', length=0)\n",
    "    ax.set_xticklabels('')\n",
    "    ax.set_yticklabels('')\n",
    "\n",
    "    return ax\n",
    "\n",
    "\n",
    "def view_recon(img, recon):\n",
    "    ''' Function for displaying an image (as a PyTorch Tensor) and its\n",
    "        reconstruction also a PyTorch Tensor\n",
    "    '''\n",
    "\n",
    "    fig, axes = plt.subplots(ncols=2, sharex=True, sharey=True)\n",
    "    axes[0].imshow(img.numpy().squeeze())\n",
    "    axes[1].imshow(recon.data.numpy().squeeze())\n",
    "    for ax in axes:\n",
    "        ax.axis('off')\n",
    "        ax.set_adjustable('box-forced')"
   ]
  },
  {
   "cell_type": "code",
   "execution_count": 28,
   "id": "ffd2f962",
   "metadata": {
    "ExecuteTime": {
     "start_time": "2023-04-03T23:05:37.207536Z",
     "end_time": "2023-04-03T23:05:37.254534Z"
    }
   },
   "outputs": [],
   "source": [
    "PATH = 'data/images'\n",
    "data_dir = PATH + '/train'\n",
    "\n",
    "transform = transforms.Compose([transforms.Resize(32),transforms.ToTensor()])\n",
    "training_data = datasets.ImageFolder(data_dir, transform=transform)\n",
    "train_dataloader = torch.utils.data.DataLoader(training_data, batch_size=32)"
   ]
  },
  {
   "cell_type": "code",
   "execution_count": 29,
   "id": "583f2c9a",
   "metadata": {
    "ExecuteTime": {
     "start_time": "2023-04-03T23:05:38.936739Z",
     "end_time": "2023-04-03T23:05:42.464330Z"
    }
   },
   "outputs": [
    {
     "data": {
      "text/plain": "<AxesSubplot:>"
     },
     "execution_count": 29,
     "metadata": {},
     "output_type": "execute_result"
    },
    {
     "data": {
      "text/plain": "<Figure size 640x480 with 1 Axes>",
      "image/png": "[encoded data removed]"
     },
     "metadata": {},
     "output_type": "display_data"
    }
   ],
   "source": [
    "# Run this to test your data loader\n",
    "images, labels = next(iter(train_dataloader))\n",
    "# helper.imshow(images[0], normalize=False)\n",
    "imshow(images[0], normalize=False)"
   ]
  },
  {
   "cell_type": "code",
   "execution_count": 30,
   "id": "0a0f52f2",
   "metadata": {
    "ExecuteTime": {
     "start_time": "2023-04-03T23:06:02.829295Z",
     "end_time": "2023-04-03T23:06:02.872398Z"
    }
   },
   "outputs": [],
   "source": [
    "PATH = 'data/images'\n",
    "data_dir = PATH + '/test'\n",
    "\n",
    "transform = transforms.Compose([transforms.Resize(32),transforms.ToTensor()])\n",
    "test_data = datasets.ImageFolder(data_dir, transform=transform)\n",
    "test_dataloader = torch.utils.data.DataLoader(test_data, batch_size=32)"
   ]
  },
  {
   "cell_type": "code",
   "execution_count": 31,
   "id": "56580cef",
   "metadata": {
    "ExecuteTime": {
     "start_time": "2023-04-03T23:06:06.210068Z",
     "end_time": "2023-04-03T23:06:08.057653Z"
    }
   },
   "outputs": [
    {
     "data": {
      "text/plain": "<AxesSubplot:>"
     },
     "execution_count": 31,
     "metadata": {},
     "output_type": "execute_result"
    },
    {
     "data": {
      "text/plain": "<Figure size 640x480 with 1 Axes>",
      "image/png": "[encoded data removed]"
     },
     "metadata": {},
     "output_type": "display_data"
    }
   ],
   "source": [
    "# Run this to test your data loader\n",
    "images, labels = next(iter(test_dataloader))\n",
    "# helper.imshow(images[0], normalize=False)\n",
    "imshow(images[0], normalize=False)"
   ]
  },
  {
   "cell_type": "code",
   "execution_count": 32,
   "id": "d543ee52",
   "metadata": {
    "ExecuteTime": {
     "start_time": "2023-04-03T23:06:13.670945Z",
     "end_time": "2023-04-03T23:06:13.784961Z"
    }
   },
   "outputs": [
    {
     "name": "stdout",
     "output_type": "stream",
     "text": [
      "Shape of X [N, C, H, W]: torch.Size([32, 3, 32, 32])\n",
      "Shape of y: torch.Size([32]) torch.int64\n"
     ]
    }
   ],
   "source": [
    "for X, y in test_dataloader:\n",
    "    print(f\"Shape of X [N, C, H, W]: {X.shape}\")\n",
    "    print(f\"Shape of y: {y.shape} {y.dtype}\")\n",
    "    break"
   ]
  },
  {
   "cell_type": "code",
   "execution_count": 33,
   "id": "38cf45a3",
   "metadata": {
    "ExecuteTime": {
     "start_time": "2023-04-03T23:06:17.136272Z",
     "end_time": "2023-04-03T23:06:21.088047Z"
    }
   },
   "outputs": [
    {
     "name": "stderr",
     "output_type": "stream",
     "text": [
      "c:\\users\\chamu\\appdata\\local\\programs\\python\\python37\\lib\\site-packages\\ipykernel_launcher.py:16: UserWarning: The use of `x.T` on tensors of dimension other than 2 to reverse their shape is deprecated and it will throw an error in a future release. Consider `x.mT` to transpose batches of matrices or `x.permute(*torch.arange(x.ndim - 1, -1, -1))` to reverse the dimensions of a tensor. (Triggered internally at C:\\actions-runner\\_work\\pytorch\\pytorch\\builder\\windows\\pytorch\\aten\\src\\ATen\\native\\TensorShape.cpp:3281.)\n",
      "  \n"
     ]
    },
    {
     "data": {
      "text/plain": "<Figure size 1200x480 with 40 Axes>",
      "image/png": "[encoded data removed]"
     },
     "metadata": {},
     "output_type": "display_data"
    }
   ],
   "source": [
    "# Let's fetch a few items from the training set and visualize it\n",
    "\n",
    "# Corresponding class names \n",
    "class_names = sorted(pokedex_relevant['Primary Type'].unique().tolist())\n",
    "\n",
    "# Visualize dataset sample with random samples\n",
    "n_rows = 4\n",
    "n_cols = 10\n",
    "plt.figure(figsize=(n_cols * 1.2, n_rows * 1.2))\n",
    "for row in range(n_rows):\n",
    "    for col in range(n_cols):\n",
    "        index = n_cols * row + col\n",
    "        selector_index = random.randint(0,len(training_data)-1)\n",
    "        plt.subplot(n_rows, n_cols, index + 1)\n",
    "        X, y = training_data[selector_index]\n",
    "        plt.imshow(np.fliplr(np.rot90(X.T, k=3, axes=(0, 1))), interpolation=\"nearest\")\n",
    "        plt.axis('off')\n",
    "        plt.title(class_names[y], fontsize=12)\n",
    "plt.subplots_adjust(wspace=0.2, hspace=0.5)\n",
    "plt.show()"
   ]
  },
  {
   "cell_type": "code",
   "execution_count": 34,
   "id": "d2bed1b8",
   "metadata": {
    "ExecuteTime": {
     "start_time": "2023-04-03T23:06:21.085050Z",
     "end_time": "2023-04-03T23:06:21.483773Z"
    }
   },
   "outputs": [
    {
     "name": "stdout",
     "output_type": "stream",
     "text": [
      "Using cpu device\n",
      "NeuralNetwork(\n",
      "  (flatten): Flatten(start_dim=1, end_dim=-1)\n",
      "  (linear_relu_stack): Sequential(\n",
      "    (0): Linear(in_features=3072, out_features=2048, bias=True)\n",
      "    (1): ReLU()\n",
      "    (2): Linear(in_features=2048, out_features=2048, bias=True)\n",
      "    (3): ReLU()\n",
      "    (4): Linear(in_features=2048, out_features=1024, bias=True)\n",
      "    (5): ReLU()\n",
      "    (6): Linear(in_features=1024, out_features=1024, bias=True)\n",
      "    (7): ReLU()\n",
      "    (8): Linear(in_features=1024, out_features=512, bias=True)\n",
      "    (9): ReLU()\n",
      "    (10): Linear(in_features=512, out_features=512, bias=True)\n",
      "    (11): ReLU()\n",
      "    (12): Linear(in_features=512, out_features=18, bias=True)\n",
      "  )\n",
      ")\n"
     ]
    }
   ],
   "source": [
    "# Get cpu or gpu device for training.\n",
    "device = \"cuda\" if torch.cuda.is_available() else \"cpu\"\n",
    "print(f\"Using {device} device\")\n",
    "\n",
    "# Define model\n",
    "class NeuralNetwork(nn.Module):\n",
    "    def __init__(self):\n",
    "        super(NeuralNetwork, self).__init__()\n",
    "        self.flatten = nn.Flatten()\n",
    "        \n",
    "        # Using the nn.Sequential function, define a 3 layer MLP\n",
    "        # with ReLU activation function\n",
    "        # with sizes of input and output nodes as:\n",
    "        # layer1: in: 28*28, out: 512\n",
    "        # layer2: in: 512, out: 512\n",
    "        # layer3: in:512, out: 10 (for 10 output classes)\n",
    "        self.linear_relu_stack = nn.Sequential(nn.Linear(32*32*3,2048),\n",
    "                                               nn.ReLU(),\n",
    "                                               nn.Linear(2048,2048),\n",
    "                                               nn.ReLU(),\n",
    "                                               nn.Linear(2048,1024),\n",
    "                                               nn.ReLU(),\n",
    "                                               nn.Linear(1024,1024),\n",
    "                                               nn.ReLU(),\n",
    "                                               nn.Linear(1024,512),\n",
    "                                               nn.ReLU(),\n",
    "                                               nn.Linear(512,512),\n",
    "                                               nn.ReLU(),\n",
    "                                               nn.Linear(512,18))\n",
    "\n",
    "    def forward(self, x):\n",
    "        x = self.flatten(x)\n",
    "        logits = self.linear_relu_stack(x)\n",
    "        return logits\n",
    "\n",
    "model = NeuralNetwork().to(device)\n",
    "print(model)"
   ]
  },
  {
   "cell_type": "code",
   "execution_count": 110,
   "id": "afa8edd5",
   "metadata": {},
   "outputs": [],
   "source": [
    "# Use cross-entropy loss as the loss function\n",
    "loss_fn = nn.CrossEntropyLoss()\n",
    "learning_rate = 1e-2\n",
    "\n",
    "# Define a pytorch optimizer using stochastic gradient descent (SGD)\n",
    "optimizer = torch.optim.SGD(model.parameters(), lr=learning_rate)"
   ]
  },
  {
   "cell_type": "code",
   "execution_count": 111,
   "id": "60a8860c",
   "metadata": {},
   "outputs": [],
   "source": [
    "def train(dataloader, model, loss_fn, optimizer):\n",
    "    size = len(dataloader.dataset)\n",
    "    \n",
    "    # set the model to train mode\n",
    "    model.train()\n",
    "    \n",
    "    losses = []\n",
    "    for batch, (X, y) in enumerate(dataloader):\n",
    "        X, y = X.to(device), y.to(device)\n",
    "\n",
    "        # Compute prediction error\n",
    "        pred = model(X)\n",
    "        \n",
    "        # Compute training loss\n",
    "        loss = loss_fn(pred,y)\n",
    "\n",
    "        # Backpropagation\n",
    "        optimizer.zero_grad()\n",
    "        \n",
    "        # Calculate model gradients from the loss and optimize the network\n",
    "        loss.backward()\n",
    "        optimizer.step()\n",
    "\n",
    "        loss, current = loss.item(), batch * len(X)\n",
    "        if batch % 100 == 0:\n",
    "            print(f\"loss: {loss:>7f}  [{current:>5d}/{size:>5d}]\")\n",
    "        losses.append(loss)\n",
    "        \n",
    "    return np.array(losses).mean()"
   ]
  },
  {
   "cell_type": "code",
   "execution_count": 112,
   "id": "c2ab9329",
   "metadata": {},
   "outputs": [],
   "source": [
    "def test(dataloader, model, loss_fn):\n",
    "    size = len(dataloader.dataset)\n",
    "    num_batches = len(dataloader)\n",
    "    \n",
    "    # Set the model to eval mode\n",
    "    model.eval()\n",
    "    \n",
    "    test_loss, correct = 0, 0\n",
    "    with torch.no_grad():\t# no_grad mode doesn't compute gradients\n",
    "        for X, y in dataloader:\n",
    "            X, y = X.to(device), y.to(device)\n",
    "            pred = model(X)\n",
    "            test_loss += loss_fn(pred,y).item()\n",
    "            correct += (pred.argmax(1) == y).type(torch.float).sum().item()\n",
    "    test_loss /= num_batches\n",
    "    correct /= size\n",
    "    print(f\"Test Error: \\n Accuracy: {(100*correct):>0.1f}%, Avg loss: {test_loss:>8f} \\n\")\n",
    "    return correct"
   ]
  },
  {
   "cell_type": "code",
   "execution_count": 113,
   "id": "4d9371f7",
   "metadata": {},
   "outputs": [
    {
     "data": {
      "image/png": "[encoded data removed]",
      "text/plain": [
       "<Figure size 432x288 with 1 Axes>"
      ]
     },
     "metadata": {},
     "output_type": "display_data"
    },
    {
     "name": "stderr",
     "output_type": "stream",
     "text": [
      "<ipython-input-113-3513c13983b0>:18: RuntimeWarning: More than 20 figures have been opened. Figures created through the pyplot interface (`matplotlib.pyplot.figure`) are retained until explicitly closed and may consume too much memory. (To control this warning, see the rcParam `figure.max_open_warning`).\n",
      "  fig2 = plt.figure()\n"
     ]
    },
    {
     "data": {
      "image/png": "[encoded data removed]",
      "text/plain": [
       "<Figure size 432x288 with 1 Axes>"
      ]
     },
     "metadata": {},
     "output_type": "display_data"
    },
    {
     "name": "stdout",
     "output_type": "stream",
     "text": [
      "Done!\n"
     ]
    },
    {
     "data": {
      "text/plain": [
       "<Figure size 432x288 with 0 Axes>"
      ]
     },
     "metadata": {},
     "output_type": "display_data"
    },
    {
     "data": {
      "text/plain": [
       "<Figure size 432x288 with 0 Axes>"
      ]
     },
     "metadata": {},
     "output_type": "display_data"
    },
    {
     "data": {
      "text/plain": [
       "<Figure size 432x288 with 0 Axes>"
      ]
     },
     "metadata": {},
     "output_type": "display_data"
    },
    {
     "data": {
      "text/plain": [
       "<Figure size 432x288 with 0 Axes>"
      ]
     },
     "metadata": {},
     "output_type": "display_data"
    },
    {
     "data": {
      "text/plain": [
       "<Figure size 432x288 with 0 Axes>"
      ]
     },
     "metadata": {},
     "output_type": "display_data"
    },
    {
     "data": {
      "text/plain": [
       "<Figure size 432x288 with 0 Axes>"
      ]
     },
     "metadata": {},
     "output_type": "display_data"
    },
    {
     "data": {
      "text/plain": [
       "<Figure size 432x288 with 0 Axes>"
      ]
     },
     "metadata": {},
     "output_type": "display_data"
    },
    {
     "data": {
      "text/plain": [
       "<Figure size 432x288 with 0 Axes>"
      ]
     },
     "metadata": {},
     "output_type": "display_data"
    },
    {
     "data": {
      "text/plain": [
       "<Figure size 432x288 with 0 Axes>"
      ]
     },
     "metadata": {},
     "output_type": "display_data"
    },
    {
     "data": {
      "text/plain": [
       "<Figure size 432x288 with 0 Axes>"
      ]
     },
     "metadata": {},
     "output_type": "display_data"
    },
    {
     "data": {
      "text/plain": [
       "<Figure size 432x288 with 0 Axes>"
      ]
     },
     "metadata": {},
     "output_type": "display_data"
    },
    {
     "data": {
      "text/plain": [
       "<Figure size 432x288 with 0 Axes>"
      ]
     },
     "metadata": {},
     "output_type": "display_data"
    },
    {
     "data": {
      "text/plain": [
       "<Figure size 432x288 with 0 Axes>"
      ]
     },
     "metadata": {},
     "output_type": "display_data"
    },
    {
     "data": {
      "text/plain": [
       "<Figure size 432x288 with 0 Axes>"
      ]
     },
     "metadata": {},
     "output_type": "display_data"
    },
    {
     "data": {
      "text/plain": [
       "<Figure size 432x288 with 0 Axes>"
      ]
     },
     "metadata": {},
     "output_type": "display_data"
    },
    {
     "data": {
      "text/plain": [
       "<Figure size 432x288 with 0 Axes>"
      ]
     },
     "metadata": {},
     "output_type": "display_data"
    },
    {
     "data": {
      "text/plain": [
       "<Figure size 432x288 with 0 Axes>"
      ]
     },
     "metadata": {},
     "output_type": "display_data"
    },
    {
     "data": {
      "text/plain": [
       "<Figure size 432x288 with 0 Axes>"
      ]
     },
     "metadata": {},
     "output_type": "display_data"
    },
    {
     "data": {
      "text/plain": [
       "<Figure size 432x288 with 0 Axes>"
      ]
     },
     "metadata": {},
     "output_type": "display_data"
    },
    {
     "data": {
      "text/plain": [
       "<Figure size 432x288 with 0 Axes>"
      ]
     },
     "metadata": {},
     "output_type": "display_data"
    },
    {
     "data": {
      "image/png": "[encoded data removed]",
      "text/plain": [
       "<Figure size 432x288 with 1 Axes>"
      ]
     },
     "metadata": {
      "needs_background": "light"
     },
     "output_type": "display_data"
    }
   ],
   "source": [
    "epochs = 10\n",
    "\n",
    "# for plotting the training loss\n",
    "history = {'losses': [], 'accuracies': []}\n",
    "for t in range(epochs):\n",
    "    print(f\"Epoch {t+1}\\n-------------------------------\")\n",
    "    history['losses'].append(train(train_dataloader, model, loss_fn, optimizer))\n",
    "    history['accuracies'].append(test(test_dataloader, model, loss_fn))\n",
    "    \n",
    "    plt.clf()\n",
    "    fig1 = plt.figure()\n",
    "    plt.plot(history['losses'], 'r-', lw=2, label='loss')\n",
    "    plt.legend()\n",
    "    display.clear_output(wait=True)\n",
    "    display.display(plt.gcf())\n",
    "\n",
    "    plt.clf()\n",
    "    fig2 = plt.figure()\n",
    "    plt.plot(history['accuracies'], 'b-', lw=1, label='accuracy')\n",
    "    plt.legend()\n",
    "#     display.clear_output(wait=True)\n",
    "    display.display(plt.gcf())\n",
    "print(\"Done!\")"
   ]
  },
  {
   "cell_type": "code",
   "execution_count": 116,
   "id": "8d966fcc",
   "metadata": {},
   "outputs": [
    {
     "data": {
      "image/png": "[encoded data removed]",
      "text/plain": [
       "<Figure size 864x345.6 with 40 Axes>"
      ]
     },
     "metadata": {
      "needs_background": "light"
     },
     "output_type": "display_data"
    }
   ],
   "source": [
    "# Make predictions on random 40 test data items using the trained model and visualize them\n",
    "n_rows = 4\n",
    "n_cols = 10\n",
    "plt.figure(figsize=(n_cols * 1.2, n_rows * 1.2))\n",
    "for row in range(n_rows):\n",
    "    for col in range(n_cols):\n",
    "        index = n_cols * row + col\n",
    "        selector_index = random.randint(0,len(test_data)-1)\n",
    "        plt.subplot(n_rows, n_cols, index + 1)\n",
    "        X, y = test_data[selector_index]\n",
    "        y_pred = model(X.to(device)[None,...])\n",
    "        y_pred = y_pred.argmax(1)\n",
    "        plt.imshow(np.fliplr(np.rot90(X.T, k=3, axes=(0, 1))), interpolation=\"nearest\")\n",
    "        plt.axis('off')\n",
    "        if y == y_pred:\n",
    "            plt.title(class_names[y_pred], fontsize=12, color='g')\n",
    "        else:\n",
    "            plt.title(class_names[y_pred], fontsize=12, color='r')\n",
    "plt.subplots_adjust(wspace=0.2, hspace=0.5)\n",
    "plt.show()  # All water!!"
   ]
  },
  {
   "cell_type": "markdown",
   "id": "117fae89",
   "metadata": {},
   "source": [
    "### Training:\n",
    "Do SVM, add images in addition to classic features using MLP (first notebook assignment), CNN (followup notebook assignment), \n",
    "get vector, normalize, do softmax to pick one class,\n",
    "look into resnet, and GAN for data augmentation (the Kaggle link--generates new images)\n",
    "\n",
    "Consider other ways of data augmentation like rotation, shifts, background changes?\n",
    "\n",
    "### Evaluation:\n",
    "Precision, recall, F1 PER LABEL, confusion matrix\n",
    "\n",
    "Use validation set (10% from training) for neural networks to fine-tune parameters.\n",
    "\n",
    "Add them back to training set when the parameters are producing better results (so it's 80% for training again).\n",
    "\n",
    "### Error Analysis:\n",
    "See which classes are harder to identify (e.g. psychic, normal, ...)\n",
    "\n",
    "See learning curves to check if increasing training data helps or not.\n",
    "\n",
    "### Resources: \n",
    "https://www.run.ai/guides/deep-learning-for-computer-vision/pytorch-resnet#:~:text=Own%20ResNet%20Architecture-,ResNet%20Architecture,layers%2C%20which%20outperform%20shallower%20networks.\n",
    "https://pytorch.org/vision/main/models/generated/torchvision.models.resnet152.html#:~:text=ResNet%2D152%20from%20Deep%20Residual,5.\n",
    "https://www.kaggle.com/code/scratchpad/notebook3b2c42d3e9/edit"
   ]
  },
  {
   "cell_type": "markdown",
   "id": "cc2c188f",
   "metadata": {},
   "source": [
    "Identify Pokemon  team 5: \n",
    "1. SVM \n",
    "2. Images => CNN => MLP classification \n",
    "3. ResNet => MLP classification \n",
    "4. Data augmentation with GAN or other image transformations => them use the 2 and 3 models to classify\n",
    "5. Evaluation : Label (Precision, recall, F1 per label and confusion matrix. )\n",
    "6. Tuning parameters using 100 examples from training data and using is as development set. \n",
    "7. Error analysis \n",
    "8. Learning curve => number of data and number of epochs used."
   ]
  },
  {
   "cell_type": "code",
   "execution_count": null,
   "id": "46151dfb",
   "metadata": {},
   "outputs": [],
   "source": []
  }
 ],
 "metadata": {
  "kernelspec": {
   "display_name": "Python 3",
   "language": "python",
   "name": "python3"
  },
  "language_info": {
   "codemirror_mode": {
    "name": "ipython",
    "version": 3
   },
   "file_extension": ".py",
   "mimetype": "text/x-python",
   "name": "python",
   "nbconvert_exporter": "python",
   "pygments_lexer": "ipython3",
   "version": "3.8.8"
  },
  "vscode": {
   "interpreter": {
    "hash": "1a1e857f251b370706b96727953a7650c1bbca3ba1c1240963934b78307e54c3"
   }
  }
 },
 "nbformat": 4,
 "nbformat_minor": 5
}
